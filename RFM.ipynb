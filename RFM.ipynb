{
 "cells": [
  {
   "cell_type": "code",
   "execution_count": null,
   "id": "81ca081e",
   "metadata": {},
   "outputs": [],
   "source": [
    "import pandas as pd\n",
    "from datetime import datetime, timedelta, timezone\n",
    "import matplotlib as plt\n",
    "import ast\n",
    "import matplotlib.pyplot as plt\n",
    "from matplotlib.backends.backend_tkagg import FigureCanvasTkAgg\n",
    "import seaborn as sns"
   ]
  },
  {
   "cell_type": "code",
   "execution_count": 2,
   "id": "673740b6",
   "metadata": {},
   "outputs": [
    {
     "data": {
      "application/vnd.microsoft.datawrangler.viewer.v0+json": {
       "columns": [
        {
         "name": "index",
         "rawType": "int64",
         "type": "integer"
        },
        {
         "name": "InvoiceNo",
         "rawType": "object",
         "type": "string"
        },
        {
         "name": "StockCode",
         "rawType": "object",
         "type": "string"
        },
        {
         "name": "Description",
         "rawType": "object",
         "type": "string"
        },
        {
         "name": "Quantity",
         "rawType": "int64",
         "type": "integer"
        },
        {
         "name": "InvoiceDate",
         "rawType": "object",
         "type": "string"
        },
        {
         "name": "UnitPrice",
         "rawType": "float64",
         "type": "float"
        },
        {
         "name": "CustomerID",
         "rawType": "float64",
         "type": "float"
        },
        {
         "name": "Country",
         "rawType": "object",
         "type": "string"
        }
       ],
       "ref": "b5504b4c-b92c-43c7-ae33-9b01150078c2",
       "rows": [
        [
         "0",
         "536365",
         "85123A",
         "WHITE HANGING HEART T-LIGHT HOLDER",
         "6",
         "1/12/2010 8:26",
         "2.55",
         "17850.0",
         "United Kingdom"
        ],
        [
         "1",
         "536365",
         "71053",
         "WHITE METAL LANTERN",
         "6",
         "1/12/2010 8:26",
         "3.39",
         "17850.0",
         "United Kingdom"
        ],
        [
         "2",
         "536365",
         "84406B",
         "CREAM CUPID HEARTS COAT HANGER",
         "8",
         "1/12/2010 8:26",
         "2.75",
         "17850.0",
         "United Kingdom"
        ],
        [
         "3",
         "536365",
         "84029G",
         "KNITTED UNION FLAG HOT WATER BOTTLE",
         "6",
         "1/12/2010 8:26",
         "3.39",
         "17850.0",
         "United Kingdom"
        ],
        [
         "4",
         "536365",
         "84029E",
         "RED WOOLLY HOTTIE WHITE HEART.",
         "6",
         "1/12/2010 8:26",
         "3.39",
         "17850.0",
         "United Kingdom"
        ]
       ],
       "shape": {
        "columns": 8,
        "rows": 5
       }
      },
      "text/html": [
       "<div>\n",
       "<style scoped>\n",
       "    .dataframe tbody tr th:only-of-type {\n",
       "        vertical-align: middle;\n",
       "    }\n",
       "\n",
       "    .dataframe tbody tr th {\n",
       "        vertical-align: top;\n",
       "    }\n",
       "\n",
       "    .dataframe thead th {\n",
       "        text-align: right;\n",
       "    }\n",
       "</style>\n",
       "<table border=\"1\" class=\"dataframe\">\n",
       "  <thead>\n",
       "    <tr style=\"text-align: right;\">\n",
       "      <th></th>\n",
       "      <th>InvoiceNo</th>\n",
       "      <th>StockCode</th>\n",
       "      <th>Description</th>\n",
       "      <th>Quantity</th>\n",
       "      <th>InvoiceDate</th>\n",
       "      <th>UnitPrice</th>\n",
       "      <th>CustomerID</th>\n",
       "      <th>Country</th>\n",
       "    </tr>\n",
       "  </thead>\n",
       "  <tbody>\n",
       "    <tr>\n",
       "      <th>0</th>\n",
       "      <td>536365</td>\n",
       "      <td>85123A</td>\n",
       "      <td>WHITE HANGING HEART T-LIGHT HOLDER</td>\n",
       "      <td>6</td>\n",
       "      <td>1/12/2010 8:26</td>\n",
       "      <td>2.55</td>\n",
       "      <td>17850.0</td>\n",
       "      <td>United Kingdom</td>\n",
       "    </tr>\n",
       "    <tr>\n",
       "      <th>1</th>\n",
       "      <td>536365</td>\n",
       "      <td>71053</td>\n",
       "      <td>WHITE METAL LANTERN</td>\n",
       "      <td>6</td>\n",
       "      <td>1/12/2010 8:26</td>\n",
       "      <td>3.39</td>\n",
       "      <td>17850.0</td>\n",
       "      <td>United Kingdom</td>\n",
       "    </tr>\n",
       "    <tr>\n",
       "      <th>2</th>\n",
       "      <td>536365</td>\n",
       "      <td>84406B</td>\n",
       "      <td>CREAM CUPID HEARTS COAT HANGER</td>\n",
       "      <td>8</td>\n",
       "      <td>1/12/2010 8:26</td>\n",
       "      <td>2.75</td>\n",
       "      <td>17850.0</td>\n",
       "      <td>United Kingdom</td>\n",
       "    </tr>\n",
       "    <tr>\n",
       "      <th>3</th>\n",
       "      <td>536365</td>\n",
       "      <td>84029G</td>\n",
       "      <td>KNITTED UNION FLAG HOT WATER BOTTLE</td>\n",
       "      <td>6</td>\n",
       "      <td>1/12/2010 8:26</td>\n",
       "      <td>3.39</td>\n",
       "      <td>17850.0</td>\n",
       "      <td>United Kingdom</td>\n",
       "    </tr>\n",
       "    <tr>\n",
       "      <th>4</th>\n",
       "      <td>536365</td>\n",
       "      <td>84029E</td>\n",
       "      <td>RED WOOLLY HOTTIE WHITE HEART.</td>\n",
       "      <td>6</td>\n",
       "      <td>1/12/2010 8:26</td>\n",
       "      <td>3.39</td>\n",
       "      <td>17850.0</td>\n",
       "      <td>United Kingdom</td>\n",
       "    </tr>\n",
       "  </tbody>\n",
       "</table>\n",
       "</div>"
      ],
      "text/plain": [
       "  InvoiceNo StockCode                          Description  Quantity  \\\n",
       "0    536365    85123A   WHITE HANGING HEART T-LIGHT HOLDER         6   \n",
       "1    536365     71053                  WHITE METAL LANTERN         6   \n",
       "2    536365    84406B       CREAM CUPID HEARTS COAT HANGER         8   \n",
       "3    536365    84029G  KNITTED UNION FLAG HOT WATER BOTTLE         6   \n",
       "4    536365    84029E       RED WOOLLY HOTTIE WHITE HEART.         6   \n",
       "\n",
       "      InvoiceDate  UnitPrice  CustomerID         Country  \n",
       "0  1/12/2010 8:26       2.55     17850.0  United Kingdom  \n",
       "1  1/12/2010 8:26       3.39     17850.0  United Kingdom  \n",
       "2  1/12/2010 8:26       2.75     17850.0  United Kingdom  \n",
       "3  1/12/2010 8:26       3.39     17850.0  United Kingdom  \n",
       "4  1/12/2010 8:26       3.39     17850.0  United Kingdom  "
      ]
     },
     "execution_count": 2,
     "metadata": {},
     "output_type": "execute_result"
    }
   ],
   "source": [
    "df = pd.read_csv(\"Online Retail.csv\")\n",
    "df.head()\n"
   ]
  },
  {
   "cell_type": "code",
   "execution_count": 3,
   "id": "c9bb4ea6",
   "metadata": {},
   "outputs": [
    {
     "data": {
      "application/vnd.microsoft.datawrangler.viewer.v0+json": {
       "columns": [
        {
         "name": "index",
         "rawType": "object",
         "type": "string"
        },
        {
         "name": "0",
         "rawType": "object",
         "type": "unknown"
        }
       ],
       "ref": "ce8a9856-d600-4a6c-8b9f-8d04e4faec21",
       "rows": [
        [
         "InvoiceNo",
         "object"
        ],
        [
         "StockCode",
         "object"
        ],
        [
         "Description",
         "object"
        ],
        [
         "Quantity",
         "int64"
        ],
        [
         "InvoiceDate",
         "object"
        ],
        [
         "UnitPrice",
         "float64"
        ],
        [
         "CustomerID",
         "float64"
        ],
        [
         "Country",
         "object"
        ]
       ],
       "shape": {
        "columns": 1,
        "rows": 8
       }
      },
      "text/plain": [
       "InvoiceNo       object\n",
       "StockCode       object\n",
       "Description     object\n",
       "Quantity         int64\n",
       "InvoiceDate     object\n",
       "UnitPrice      float64\n",
       "CustomerID     float64\n",
       "Country         object\n",
       "dtype: object"
      ]
     },
     "execution_count": 3,
     "metadata": {},
     "output_type": "execute_result"
    }
   ],
   "source": [
    "df.dtypes\n"
   ]
  },
  {
   "cell_type": "code",
   "execution_count": 4,
   "id": "03c9aac8",
   "metadata": {},
   "outputs": [
    {
     "data": {
      "text/plain": [
       "(541909, 8)"
      ]
     },
     "execution_count": 4,
     "metadata": {},
     "output_type": "execute_result"
    }
   ],
   "source": [
    "df.shape"
   ]
  },
  {
   "cell_type": "code",
   "execution_count": 5,
   "id": "206205d3",
   "metadata": {},
   "outputs": [
    {
     "data": {
      "application/vnd.microsoft.datawrangler.viewer.v0+json": {
       "columns": [
        {
         "name": "index",
         "rawType": "object",
         "type": "string"
        },
        {
         "name": "0",
         "rawType": "object",
         "type": "unknown"
        }
       ],
       "ref": "777209f1-c0c1-42cc-95f4-ef6ca45d4179",
       "rows": [
        [
         "InvoiceNo",
         "string"
        ],
        [
         "StockCode",
         "string"
        ],
        [
         "Description",
         "string"
        ],
        [
         "Quantity",
         "int64"
        ],
        [
         "InvoiceDate",
         "datetime64[ns]"
        ],
        [
         "UnitPrice",
         "float64"
        ],
        [
         "CustomerID",
         "Int64"
        ],
        [
         "Country",
         "category"
        ]
       ],
       "shape": {
        "columns": 1,
        "rows": 8
       }
      },
      "text/plain": [
       "InvoiceNo      string[python]\n",
       "StockCode      string[python]\n",
       "Description    string[python]\n",
       "Quantity                int64\n",
       "InvoiceDate    datetime64[ns]\n",
       "UnitPrice             float64\n",
       "CustomerID              Int64\n",
       "Country              category\n",
       "dtype: object"
      ]
     },
     "execution_count": 5,
     "metadata": {},
     "output_type": "execute_result"
    }
   ],
   "source": [
    "df['InvoiceNo'] = df['InvoiceNo'].astype('string')\n",
    "df['StockCode'] = df['StockCode'].astype('string')\n",
    "df['Description'] = df['Description'].astype('string')\n",
    "df['InvoiceDate'] = pd.to_datetime(df['InvoiceDate'], format = '%d/%m/%Y %H:%M')\n",
    "df['CustomerID'] = df['CustomerID'].astype('Int64')  \n",
    "df['Country'] = df['Country'].astype('category')\n",
    "df.dtypes"
   ]
  },
  {
   "cell_type": "code",
   "execution_count": 6,
   "id": "e6084d0b",
   "metadata": {},
   "outputs": [
    {
     "data": {
      "application/vnd.microsoft.datawrangler.viewer.v0+json": {
       "columns": [
        {
         "name": "index",
         "rawType": "int64",
         "type": "integer"
        },
        {
         "name": "InvoiceNo",
         "rawType": "string",
         "type": "string"
        },
        {
         "name": "StockCode",
         "rawType": "string",
         "type": "string"
        },
        {
         "name": "Description",
         "rawType": "string",
         "type": "string"
        },
        {
         "name": "Quantity",
         "rawType": "int64",
         "type": "integer"
        },
        {
         "name": "InvoiceDate",
         "rawType": "datetime64[ns]",
         "type": "datetime"
        },
        {
         "name": "UnitPrice",
         "rawType": "float64",
         "type": "float"
        },
        {
         "name": "CustomerID",
         "rawType": "Int64",
         "type": "integer"
        },
        {
         "name": "Country",
         "rawType": "category",
         "type": "unknown"
        }
       ],
       "ref": "79206ab1-d3ed-4b9b-ba40-830f79ca94f4",
       "rows": [
        [
         "0",
         "536365",
         "85123A",
         "WHITE HANGING HEART T-LIGHT HOLDER",
         "6",
         "2010-12-01 08:26:00",
         "2.55",
         "17850",
         "United Kingdom"
        ],
        [
         "1",
         "536365",
         "71053",
         "WHITE METAL LANTERN",
         "6",
         "2010-12-01 08:26:00",
         "3.39",
         "17850",
         "United Kingdom"
        ],
        [
         "2",
         "536365",
         "84406B",
         "CREAM CUPID HEARTS COAT HANGER",
         "8",
         "2010-12-01 08:26:00",
         "2.75",
         "17850",
         "United Kingdom"
        ],
        [
         "3",
         "536365",
         "84029G",
         "KNITTED UNION FLAG HOT WATER BOTTLE",
         "6",
         "2010-12-01 08:26:00",
         "3.39",
         "17850",
         "United Kingdom"
        ],
        [
         "4",
         "536365",
         "84029E",
         "RED WOOLLY HOTTIE WHITE HEART.",
         "6",
         "2010-12-01 08:26:00",
         "3.39",
         "17850",
         "United Kingdom"
        ],
        [
         "5",
         "536365",
         "22752",
         "SET 7 BABUSHKA NESTING BOXES",
         "2",
         "2010-12-01 08:26:00",
         "7.65",
         "17850",
         "United Kingdom"
        ],
        [
         "6",
         "536365",
         "21730",
         "GLASS STAR FROSTED T-LIGHT HOLDER",
         "6",
         "2010-12-01 08:26:00",
         "4.25",
         "17850",
         "United Kingdom"
        ],
        [
         "7",
         "536366",
         "22633",
         "HAND WARMER UNION JACK",
         "6",
         "2010-12-01 08:28:00",
         "1.85",
         "17850",
         "United Kingdom"
        ],
        [
         "8",
         "536366",
         "22632",
         "HAND WARMER RED POLKA DOT",
         "6",
         "2010-12-01 08:28:00",
         "1.85",
         "17850",
         "United Kingdom"
        ],
        [
         "9",
         "536367",
         "84879",
         "ASSORTED COLOUR BIRD ORNAMENT",
         "32",
         "2010-12-01 08:34:00",
         "1.69",
         "13047",
         "United Kingdom"
        ]
       ],
       "shape": {
        "columns": 8,
        "rows": 10
       }
      },
      "text/html": [
       "<div>\n",
       "<style scoped>\n",
       "    .dataframe tbody tr th:only-of-type {\n",
       "        vertical-align: middle;\n",
       "    }\n",
       "\n",
       "    .dataframe tbody tr th {\n",
       "        vertical-align: top;\n",
       "    }\n",
       "\n",
       "    .dataframe thead th {\n",
       "        text-align: right;\n",
       "    }\n",
       "</style>\n",
       "<table border=\"1\" class=\"dataframe\">\n",
       "  <thead>\n",
       "    <tr style=\"text-align: right;\">\n",
       "      <th></th>\n",
       "      <th>InvoiceNo</th>\n",
       "      <th>StockCode</th>\n",
       "      <th>Description</th>\n",
       "      <th>Quantity</th>\n",
       "      <th>InvoiceDate</th>\n",
       "      <th>UnitPrice</th>\n",
       "      <th>CustomerID</th>\n",
       "      <th>Country</th>\n",
       "    </tr>\n",
       "  </thead>\n",
       "  <tbody>\n",
       "    <tr>\n",
       "      <th>0</th>\n",
       "      <td>536365</td>\n",
       "      <td>85123A</td>\n",
       "      <td>WHITE HANGING HEART T-LIGHT HOLDER</td>\n",
       "      <td>6</td>\n",
       "      <td>2010-12-01 08:26:00</td>\n",
       "      <td>2.55</td>\n",
       "      <td>17850</td>\n",
       "      <td>United Kingdom</td>\n",
       "    </tr>\n",
       "    <tr>\n",
       "      <th>1</th>\n",
       "      <td>536365</td>\n",
       "      <td>71053</td>\n",
       "      <td>WHITE METAL LANTERN</td>\n",
       "      <td>6</td>\n",
       "      <td>2010-12-01 08:26:00</td>\n",
       "      <td>3.39</td>\n",
       "      <td>17850</td>\n",
       "      <td>United Kingdom</td>\n",
       "    </tr>\n",
       "    <tr>\n",
       "      <th>2</th>\n",
       "      <td>536365</td>\n",
       "      <td>84406B</td>\n",
       "      <td>CREAM CUPID HEARTS COAT HANGER</td>\n",
       "      <td>8</td>\n",
       "      <td>2010-12-01 08:26:00</td>\n",
       "      <td>2.75</td>\n",
       "      <td>17850</td>\n",
       "      <td>United Kingdom</td>\n",
       "    </tr>\n",
       "    <tr>\n",
       "      <th>3</th>\n",
       "      <td>536365</td>\n",
       "      <td>84029G</td>\n",
       "      <td>KNITTED UNION FLAG HOT WATER BOTTLE</td>\n",
       "      <td>6</td>\n",
       "      <td>2010-12-01 08:26:00</td>\n",
       "      <td>3.39</td>\n",
       "      <td>17850</td>\n",
       "      <td>United Kingdom</td>\n",
       "    </tr>\n",
       "    <tr>\n",
       "      <th>4</th>\n",
       "      <td>536365</td>\n",
       "      <td>84029E</td>\n",
       "      <td>RED WOOLLY HOTTIE WHITE HEART.</td>\n",
       "      <td>6</td>\n",
       "      <td>2010-12-01 08:26:00</td>\n",
       "      <td>3.39</td>\n",
       "      <td>17850</td>\n",
       "      <td>United Kingdom</td>\n",
       "    </tr>\n",
       "    <tr>\n",
       "      <th>5</th>\n",
       "      <td>536365</td>\n",
       "      <td>22752</td>\n",
       "      <td>SET 7 BABUSHKA NESTING BOXES</td>\n",
       "      <td>2</td>\n",
       "      <td>2010-12-01 08:26:00</td>\n",
       "      <td>7.65</td>\n",
       "      <td>17850</td>\n",
       "      <td>United Kingdom</td>\n",
       "    </tr>\n",
       "    <tr>\n",
       "      <th>6</th>\n",
       "      <td>536365</td>\n",
       "      <td>21730</td>\n",
       "      <td>GLASS STAR FROSTED T-LIGHT HOLDER</td>\n",
       "      <td>6</td>\n",
       "      <td>2010-12-01 08:26:00</td>\n",
       "      <td>4.25</td>\n",
       "      <td>17850</td>\n",
       "      <td>United Kingdom</td>\n",
       "    </tr>\n",
       "    <tr>\n",
       "      <th>7</th>\n",
       "      <td>536366</td>\n",
       "      <td>22633</td>\n",
       "      <td>HAND WARMER UNION JACK</td>\n",
       "      <td>6</td>\n",
       "      <td>2010-12-01 08:28:00</td>\n",
       "      <td>1.85</td>\n",
       "      <td>17850</td>\n",
       "      <td>United Kingdom</td>\n",
       "    </tr>\n",
       "    <tr>\n",
       "      <th>8</th>\n",
       "      <td>536366</td>\n",
       "      <td>22632</td>\n",
       "      <td>HAND WARMER RED POLKA DOT</td>\n",
       "      <td>6</td>\n",
       "      <td>2010-12-01 08:28:00</td>\n",
       "      <td>1.85</td>\n",
       "      <td>17850</td>\n",
       "      <td>United Kingdom</td>\n",
       "    </tr>\n",
       "    <tr>\n",
       "      <th>9</th>\n",
       "      <td>536367</td>\n",
       "      <td>84879</td>\n",
       "      <td>ASSORTED COLOUR BIRD ORNAMENT</td>\n",
       "      <td>32</td>\n",
       "      <td>2010-12-01 08:34:00</td>\n",
       "      <td>1.69</td>\n",
       "      <td>13047</td>\n",
       "      <td>United Kingdom</td>\n",
       "    </tr>\n",
       "  </tbody>\n",
       "</table>\n",
       "</div>"
      ],
      "text/plain": [
       "  InvoiceNo StockCode                          Description  Quantity  \\\n",
       "0    536365    85123A   WHITE HANGING HEART T-LIGHT HOLDER         6   \n",
       "1    536365     71053                  WHITE METAL LANTERN         6   \n",
       "2    536365    84406B       CREAM CUPID HEARTS COAT HANGER         8   \n",
       "3    536365    84029G  KNITTED UNION FLAG HOT WATER BOTTLE         6   \n",
       "4    536365    84029E       RED WOOLLY HOTTIE WHITE HEART.         6   \n",
       "5    536365     22752         SET 7 BABUSHKA NESTING BOXES         2   \n",
       "6    536365     21730    GLASS STAR FROSTED T-LIGHT HOLDER         6   \n",
       "7    536366     22633               HAND WARMER UNION JACK         6   \n",
       "8    536366     22632            HAND WARMER RED POLKA DOT         6   \n",
       "9    536367     84879        ASSORTED COLOUR BIRD ORNAMENT        32   \n",
       "\n",
       "          InvoiceDate  UnitPrice  CustomerID         Country  \n",
       "0 2010-12-01 08:26:00       2.55       17850  United Kingdom  \n",
       "1 2010-12-01 08:26:00       3.39       17850  United Kingdom  \n",
       "2 2010-12-01 08:26:00       2.75       17850  United Kingdom  \n",
       "3 2010-12-01 08:26:00       3.39       17850  United Kingdom  \n",
       "4 2010-12-01 08:26:00       3.39       17850  United Kingdom  \n",
       "5 2010-12-01 08:26:00       7.65       17850  United Kingdom  \n",
       "6 2010-12-01 08:26:00       4.25       17850  United Kingdom  \n",
       "7 2010-12-01 08:28:00       1.85       17850  United Kingdom  \n",
       "8 2010-12-01 08:28:00       1.85       17850  United Kingdom  \n",
       "9 2010-12-01 08:34:00       1.69       13047  United Kingdom  "
      ]
     },
     "execution_count": 6,
     "metadata": {},
     "output_type": "execute_result"
    }
   ],
   "source": [
    "df.head(10)"
   ]
  },
  {
   "cell_type": "code",
   "execution_count": 7,
   "id": "62f4196c",
   "metadata": {},
   "outputs": [
    {
     "data": {
      "application/vnd.microsoft.datawrangler.viewer.v0+json": {
       "columns": [
        {
         "name": "index",
         "rawType": "object",
         "type": "string"
        },
        {
         "name": "0",
         "rawType": "int64",
         "type": "integer"
        }
       ],
       "ref": "9e669811-8f37-4227-940a-f8c75a7e0c0c",
       "rows": [
        [
         "InvoiceNo",
         "0"
        ],
        [
         "StockCode",
         "0"
        ],
        [
         "Description",
         "1454"
        ],
        [
         "Quantity",
         "0"
        ],
        [
         "InvoiceDate",
         "0"
        ],
        [
         "UnitPrice",
         "0"
        ],
        [
         "CustomerID",
         "135080"
        ],
        [
         "Country",
         "0"
        ]
       ],
       "shape": {
        "columns": 1,
        "rows": 8
       }
      },
      "text/plain": [
       "InvoiceNo           0\n",
       "StockCode           0\n",
       "Description      1454\n",
       "Quantity            0\n",
       "InvoiceDate         0\n",
       "UnitPrice           0\n",
       "CustomerID     135080\n",
       "Country             0\n",
       "dtype: int64"
      ]
     },
     "execution_count": 7,
     "metadata": {},
     "output_type": "execute_result"
    }
   ],
   "source": [
    "df.isnull().sum()"
   ]
  },
  {
   "cell_type": "code",
   "execution_count": 8,
   "id": "0c7faa13",
   "metadata": {},
   "outputs": [
    {
     "data": {
      "application/vnd.microsoft.datawrangler.viewer.v0+json": {
       "columns": [
        {
         "name": "index",
         "rawType": "object",
         "type": "string"
        },
        {
         "name": "0",
         "rawType": "int64",
         "type": "integer"
        }
       ],
       "ref": "8b8a2104-a150-4698-a06c-e33e9d71bcab",
       "rows": [
        [
         "InvoiceNo",
         "0"
        ],
        [
         "StockCode",
         "0"
        ],
        [
         "Description",
         "0"
        ],
        [
         "Quantity",
         "0"
        ],
        [
         "InvoiceDate",
         "0"
        ],
        [
         "UnitPrice",
         "0"
        ],
        [
         "CustomerID",
         "0"
        ],
        [
         "Country",
         "0"
        ]
       ],
       "shape": {
        "columns": 1,
        "rows": 8
       }
      },
      "text/plain": [
       "InvoiceNo      0\n",
       "StockCode      0\n",
       "Description    0\n",
       "Quantity       0\n",
       "InvoiceDate    0\n",
       "UnitPrice      0\n",
       "CustomerID     0\n",
       "Country        0\n",
       "dtype: int64"
      ]
     },
     "execution_count": 8,
     "metadata": {},
     "output_type": "execute_result"
    }
   ],
   "source": [
    "# drops all rows with missing customerid or invoicedate as they are integral for rfm analysis\n",
    "df = df.dropna(subset=['InvoiceDate', 'CustomerID'])\n",
    "df.isnull().sum()\n"
   ]
  },
  {
   "cell_type": "code",
   "execution_count": 9,
   "id": "638fb21c",
   "metadata": {},
   "outputs": [
    {
     "data": {
      "application/vnd.microsoft.datawrangler.viewer.v0+json": {
       "columns": [
        {
         "name": "index",
         "rawType": "int64",
         "type": "integer"
        },
        {
         "name": "InvoiceNo",
         "rawType": "string",
         "type": "string"
        },
        {
         "name": "StockCode",
         "rawType": "string",
         "type": "string"
        },
        {
         "name": "Description",
         "rawType": "string",
         "type": "string"
        },
        {
         "name": "Quantity",
         "rawType": "int64",
         "type": "integer"
        },
        {
         "name": "InvoiceDate",
         "rawType": "datetime64[ns]",
         "type": "datetime"
        },
        {
         "name": "UnitPrice",
         "rawType": "float64",
         "type": "float"
        },
        {
         "name": "CustomerID",
         "rawType": "Int64",
         "type": "integer"
        },
        {
         "name": "Country",
         "rawType": "category",
         "type": "unknown"
        }
       ],
       "ref": "7f01710d-b621-4d62-b1f5-2e57e210c484",
       "rows": [
        [
         "0",
         "536365",
         "85123A",
         "WHITE HANGING HEART T-LIGHT HOLDER",
         "6",
         "2010-12-01 08:26:00",
         "2.55",
         "17850",
         "United Kingdom"
        ],
        [
         "1",
         "536365",
         "71053",
         "WHITE METAL LANTERN",
         "6",
         "2010-12-01 08:26:00",
         "3.39",
         "17850",
         "United Kingdom"
        ],
        [
         "2",
         "536365",
         "84406B",
         "CREAM CUPID HEARTS COAT HANGER",
         "8",
         "2010-12-01 08:26:00",
         "2.75",
         "17850",
         "United Kingdom"
        ],
        [
         "3",
         "536365",
         "84029G",
         "KNITTED UNION FLAG HOT WATER BOTTLE",
         "6",
         "2010-12-01 08:26:00",
         "3.39",
         "17850",
         "United Kingdom"
        ],
        [
         "4",
         "536365",
         "84029E",
         "RED WOOLLY HOTTIE WHITE HEART.",
         "6",
         "2010-12-01 08:26:00",
         "3.39",
         "17850",
         "United Kingdom"
        ],
        [
         "5",
         "536365",
         "22752",
         "SET 7 BABUSHKA NESTING BOXES",
         "2",
         "2010-12-01 08:26:00",
         "7.65",
         "17850",
         "United Kingdom"
        ],
        [
         "6",
         "536365",
         "21730",
         "GLASS STAR FROSTED T-LIGHT HOLDER",
         "6",
         "2010-12-01 08:26:00",
         "4.25",
         "17850",
         "United Kingdom"
        ],
        [
         "7",
         "536366",
         "22633",
         "HAND WARMER UNION JACK",
         "6",
         "2010-12-01 08:28:00",
         "1.85",
         "17850",
         "United Kingdom"
        ],
        [
         "8",
         "536366",
         "22632",
         "HAND WARMER RED POLKA DOT",
         "6",
         "2010-12-01 08:28:00",
         "1.85",
         "17850",
         "United Kingdom"
        ],
        [
         "9",
         "536367",
         "84879",
         "ASSORTED COLOUR BIRD ORNAMENT",
         "32",
         "2010-12-01 08:34:00",
         "1.69",
         "13047",
         "United Kingdom"
        ],
        [
         "10",
         "536367",
         "22745",
         "POPPY'S PLAYHOUSE BEDROOM ",
         "6",
         "2010-12-01 08:34:00",
         "2.1",
         "13047",
         "United Kingdom"
        ],
        [
         "11",
         "536367",
         "22748",
         "POPPY'S PLAYHOUSE KITCHEN",
         "6",
         "2010-12-01 08:34:00",
         "2.1",
         "13047",
         "United Kingdom"
        ],
        [
         "12",
         "536367",
         "22749",
         "FELTCRAFT PRINCESS CHARLOTTE DOLL",
         "8",
         "2010-12-01 08:34:00",
         "3.75",
         "13047",
         "United Kingdom"
        ],
        [
         "13",
         "536367",
         "22310",
         "IVORY KNITTED MUG COSY ",
         "6",
         "2010-12-01 08:34:00",
         "1.65",
         "13047",
         "United Kingdom"
        ],
        [
         "14",
         "536367",
         "84969",
         "BOX OF 6 ASSORTED COLOUR TEASPOONS",
         "6",
         "2010-12-01 08:34:00",
         "4.25",
         "13047",
         "United Kingdom"
        ],
        [
         "15",
         "536367",
         "22623",
         "BOX OF VINTAGE JIGSAW BLOCKS ",
         "3",
         "2010-12-01 08:34:00",
         "4.95",
         "13047",
         "United Kingdom"
        ],
        [
         "16",
         "536367",
         "22622",
         "BOX OF VINTAGE ALPHABET BLOCKS",
         "2",
         "2010-12-01 08:34:00",
         "9.95",
         "13047",
         "United Kingdom"
        ],
        [
         "17",
         "536367",
         "21754",
         "HOME BUILDING BLOCK WORD",
         "3",
         "2010-12-01 08:34:00",
         "5.95",
         "13047",
         "United Kingdom"
        ],
        [
         "18",
         "536367",
         "21755",
         "LOVE BUILDING BLOCK WORD",
         "3",
         "2010-12-01 08:34:00",
         "5.95",
         "13047",
         "United Kingdom"
        ],
        [
         "19",
         "536367",
         "21777",
         "RECIPE BOX WITH METAL HEART",
         "4",
         "2010-12-01 08:34:00",
         "7.95",
         "13047",
         "United Kingdom"
        ],
        [
         "20",
         "536367",
         "48187",
         "DOORMAT NEW ENGLAND",
         "4",
         "2010-12-01 08:34:00",
         "7.95",
         "13047",
         "United Kingdom"
        ],
        [
         "21",
         "536368",
         "22960",
         "JAM MAKING SET WITH JARS",
         "6",
         "2010-12-01 08:34:00",
         "4.25",
         "13047",
         "United Kingdom"
        ],
        [
         "22",
         "536368",
         "22913",
         "RED COAT RACK PARIS FASHION",
         "3",
         "2010-12-01 08:34:00",
         "4.95",
         "13047",
         "United Kingdom"
        ],
        [
         "23",
         "536368",
         "22912",
         "YELLOW COAT RACK PARIS FASHION",
         "3",
         "2010-12-01 08:34:00",
         "4.95",
         "13047",
         "United Kingdom"
        ],
        [
         "24",
         "536368",
         "22914",
         "BLUE COAT RACK PARIS FASHION",
         "3",
         "2010-12-01 08:34:00",
         "4.95",
         "13047",
         "United Kingdom"
        ],
        [
         "25",
         "536369",
         "21756",
         "BATH BUILDING BLOCK WORD",
         "3",
         "2010-12-01 08:35:00",
         "5.95",
         "13047",
         "United Kingdom"
        ],
        [
         "26",
         "536370",
         "22728",
         "ALARM CLOCK BAKELIKE PINK",
         "24",
         "2010-12-01 08:45:00",
         "3.75",
         "12583",
         "France"
        ],
        [
         "27",
         "536370",
         "22727",
         "ALARM CLOCK BAKELIKE RED ",
         "24",
         "2010-12-01 08:45:00",
         "3.75",
         "12583",
         "France"
        ],
        [
         "28",
         "536370",
         "22726",
         "ALARM CLOCK BAKELIKE GREEN",
         "12",
         "2010-12-01 08:45:00",
         "3.75",
         "12583",
         "France"
        ],
        [
         "29",
         "536370",
         "21724",
         "PANDA AND BUNNIES STICKER SHEET",
         "12",
         "2010-12-01 08:45:00",
         "0.85",
         "12583",
         "France"
        ],
        [
         "30",
         "536370",
         "21883",
         "STARS GIFT TAPE ",
         "24",
         "2010-12-01 08:45:00",
         "0.65",
         "12583",
         "France"
        ],
        [
         "31",
         "536370",
         "10002",
         "INFLATABLE POLITICAL GLOBE ",
         "48",
         "2010-12-01 08:45:00",
         "0.85",
         "12583",
         "France"
        ],
        [
         "32",
         "536370",
         "21791",
         "VINTAGE HEADS AND TAILS CARD GAME ",
         "24",
         "2010-12-01 08:45:00",
         "1.25",
         "12583",
         "France"
        ],
        [
         "33",
         "536370",
         "21035",
         "SET/2 RED RETROSPOT TEA TOWELS ",
         "18",
         "2010-12-01 08:45:00",
         "2.95",
         "12583",
         "France"
        ],
        [
         "34",
         "536370",
         "22326",
         "ROUND SNACK BOXES SET OF4 WOODLAND ",
         "24",
         "2010-12-01 08:45:00",
         "2.95",
         "12583",
         "France"
        ],
        [
         "35",
         "536370",
         "22629",
         "SPACEBOY LUNCH BOX ",
         "24",
         "2010-12-01 08:45:00",
         "1.95",
         "12583",
         "France"
        ],
        [
         "36",
         "536370",
         "22659",
         "LUNCH BOX I LOVE LONDON",
         "24",
         "2010-12-01 08:45:00",
         "1.95",
         "12583",
         "France"
        ],
        [
         "37",
         "536370",
         "22631",
         "CIRCUS PARADE LUNCH BOX ",
         "24",
         "2010-12-01 08:45:00",
         "1.95",
         "12583",
         "France"
        ],
        [
         "38",
         "536370",
         "22661",
         "CHARLOTTE BAG DOLLY GIRL DESIGN",
         "20",
         "2010-12-01 08:45:00",
         "0.85",
         "12583",
         "France"
        ],
        [
         "39",
         "536370",
         "21731",
         "RED TOADSTOOL LED NIGHT LIGHT",
         "24",
         "2010-12-01 08:45:00",
         "1.65",
         "12583",
         "France"
        ],
        [
         "40",
         "536370",
         "22900",
         " SET 2 TEA TOWELS I LOVE LONDON ",
         "24",
         "2010-12-01 08:45:00",
         "2.95",
         "12583",
         "France"
        ],
        [
         "41",
         "536370",
         "21913",
         "VINTAGE SEASIDE JIGSAW PUZZLES",
         "12",
         "2010-12-01 08:45:00",
         "3.75",
         "12583",
         "France"
        ],
        [
         "42",
         "536370",
         "22540",
         "MINI JIGSAW CIRCUS PARADE ",
         "24",
         "2010-12-01 08:45:00",
         "0.42",
         "12583",
         "France"
        ],
        [
         "43",
         "536370",
         "22544",
         "MINI JIGSAW SPACEBOY",
         "24",
         "2010-12-01 08:45:00",
         "0.42",
         "12583",
         "France"
        ],
        [
         "44",
         "536370",
         "22492",
         "MINI PAINT SET VINTAGE ",
         "36",
         "2010-12-01 08:45:00",
         "0.65",
         "12583",
         "France"
        ],
        [
         "45",
         "536370",
         "POST",
         "POSTAGE",
         "3",
         "2010-12-01 08:45:00",
         "18.0",
         "12583",
         "France"
        ],
        [
         "46",
         "536371",
         "22086",
         "PAPER CHAIN KIT 50'S CHRISTMAS ",
         "80",
         "2010-12-01 09:00:00",
         "2.55",
         "13748",
         "United Kingdom"
        ],
        [
         "47",
         "536372",
         "22632",
         "HAND WARMER RED POLKA DOT",
         "6",
         "2010-12-01 09:01:00",
         "1.85",
         "17850",
         "United Kingdom"
        ],
        [
         "48",
         "536372",
         "22633",
         "HAND WARMER UNION JACK",
         "6",
         "2010-12-01 09:01:00",
         "1.85",
         "17850",
         "United Kingdom"
        ],
        [
         "49",
         "536373",
         "85123A",
         "WHITE HANGING HEART T-LIGHT HOLDER",
         "6",
         "2010-12-01 09:02:00",
         "2.55",
         "17850",
         "United Kingdom"
        ]
       ],
       "shape": {
        "columns": 8,
        "rows": 397924
       }
      },
      "text/html": [
       "<div>\n",
       "<style scoped>\n",
       "    .dataframe tbody tr th:only-of-type {\n",
       "        vertical-align: middle;\n",
       "    }\n",
       "\n",
       "    .dataframe tbody tr th {\n",
       "        vertical-align: top;\n",
       "    }\n",
       "\n",
       "    .dataframe thead th {\n",
       "        text-align: right;\n",
       "    }\n",
       "</style>\n",
       "<table border=\"1\" class=\"dataframe\">\n",
       "  <thead>\n",
       "    <tr style=\"text-align: right;\">\n",
       "      <th></th>\n",
       "      <th>InvoiceNo</th>\n",
       "      <th>StockCode</th>\n",
       "      <th>Description</th>\n",
       "      <th>Quantity</th>\n",
       "      <th>InvoiceDate</th>\n",
       "      <th>UnitPrice</th>\n",
       "      <th>CustomerID</th>\n",
       "      <th>Country</th>\n",
       "    </tr>\n",
       "  </thead>\n",
       "  <tbody>\n",
       "    <tr>\n",
       "      <th>0</th>\n",
       "      <td>536365</td>\n",
       "      <td>85123A</td>\n",
       "      <td>WHITE HANGING HEART T-LIGHT HOLDER</td>\n",
       "      <td>6</td>\n",
       "      <td>2010-12-01 08:26:00</td>\n",
       "      <td>2.55</td>\n",
       "      <td>17850</td>\n",
       "      <td>United Kingdom</td>\n",
       "    </tr>\n",
       "    <tr>\n",
       "      <th>1</th>\n",
       "      <td>536365</td>\n",
       "      <td>71053</td>\n",
       "      <td>WHITE METAL LANTERN</td>\n",
       "      <td>6</td>\n",
       "      <td>2010-12-01 08:26:00</td>\n",
       "      <td>3.39</td>\n",
       "      <td>17850</td>\n",
       "      <td>United Kingdom</td>\n",
       "    </tr>\n",
       "    <tr>\n",
       "      <th>2</th>\n",
       "      <td>536365</td>\n",
       "      <td>84406B</td>\n",
       "      <td>CREAM CUPID HEARTS COAT HANGER</td>\n",
       "      <td>8</td>\n",
       "      <td>2010-12-01 08:26:00</td>\n",
       "      <td>2.75</td>\n",
       "      <td>17850</td>\n",
       "      <td>United Kingdom</td>\n",
       "    </tr>\n",
       "    <tr>\n",
       "      <th>3</th>\n",
       "      <td>536365</td>\n",
       "      <td>84029G</td>\n",
       "      <td>KNITTED UNION FLAG HOT WATER BOTTLE</td>\n",
       "      <td>6</td>\n",
       "      <td>2010-12-01 08:26:00</td>\n",
       "      <td>3.39</td>\n",
       "      <td>17850</td>\n",
       "      <td>United Kingdom</td>\n",
       "    </tr>\n",
       "    <tr>\n",
       "      <th>4</th>\n",
       "      <td>536365</td>\n",
       "      <td>84029E</td>\n",
       "      <td>RED WOOLLY HOTTIE WHITE HEART.</td>\n",
       "      <td>6</td>\n",
       "      <td>2010-12-01 08:26:00</td>\n",
       "      <td>3.39</td>\n",
       "      <td>17850</td>\n",
       "      <td>United Kingdom</td>\n",
       "    </tr>\n",
       "    <tr>\n",
       "      <th>...</th>\n",
       "      <td>...</td>\n",
       "      <td>...</td>\n",
       "      <td>...</td>\n",
       "      <td>...</td>\n",
       "      <td>...</td>\n",
       "      <td>...</td>\n",
       "      <td>...</td>\n",
       "      <td>...</td>\n",
       "    </tr>\n",
       "    <tr>\n",
       "      <th>541904</th>\n",
       "      <td>581587</td>\n",
       "      <td>22613</td>\n",
       "      <td>PACK OF 20 SPACEBOY NAPKINS</td>\n",
       "      <td>12</td>\n",
       "      <td>2011-12-09 12:50:00</td>\n",
       "      <td>0.85</td>\n",
       "      <td>12680</td>\n",
       "      <td>France</td>\n",
       "    </tr>\n",
       "    <tr>\n",
       "      <th>541905</th>\n",
       "      <td>581587</td>\n",
       "      <td>22899</td>\n",
       "      <td>CHILDREN'S APRON DOLLY GIRL</td>\n",
       "      <td>6</td>\n",
       "      <td>2011-12-09 12:50:00</td>\n",
       "      <td>2.10</td>\n",
       "      <td>12680</td>\n",
       "      <td>France</td>\n",
       "    </tr>\n",
       "    <tr>\n",
       "      <th>541906</th>\n",
       "      <td>581587</td>\n",
       "      <td>23254</td>\n",
       "      <td>CHILDRENS CUTLERY DOLLY GIRL</td>\n",
       "      <td>4</td>\n",
       "      <td>2011-12-09 12:50:00</td>\n",
       "      <td>4.15</td>\n",
       "      <td>12680</td>\n",
       "      <td>France</td>\n",
       "    </tr>\n",
       "    <tr>\n",
       "      <th>541907</th>\n",
       "      <td>581587</td>\n",
       "      <td>23255</td>\n",
       "      <td>CHILDRENS CUTLERY CIRCUS PARADE</td>\n",
       "      <td>4</td>\n",
       "      <td>2011-12-09 12:50:00</td>\n",
       "      <td>4.15</td>\n",
       "      <td>12680</td>\n",
       "      <td>France</td>\n",
       "    </tr>\n",
       "    <tr>\n",
       "      <th>541908</th>\n",
       "      <td>581587</td>\n",
       "      <td>22138</td>\n",
       "      <td>BAKING SET 9 PIECE RETROSPOT</td>\n",
       "      <td>3</td>\n",
       "      <td>2011-12-09 12:50:00</td>\n",
       "      <td>4.95</td>\n",
       "      <td>12680</td>\n",
       "      <td>France</td>\n",
       "    </tr>\n",
       "  </tbody>\n",
       "</table>\n",
       "<p>397924 rows × 8 columns</p>\n",
       "</div>"
      ],
      "text/plain": [
       "       InvoiceNo StockCode                          Description  Quantity  \\\n",
       "0         536365    85123A   WHITE HANGING HEART T-LIGHT HOLDER         6   \n",
       "1         536365     71053                  WHITE METAL LANTERN         6   \n",
       "2         536365    84406B       CREAM CUPID HEARTS COAT HANGER         8   \n",
       "3         536365    84029G  KNITTED UNION FLAG HOT WATER BOTTLE         6   \n",
       "4         536365    84029E       RED WOOLLY HOTTIE WHITE HEART.         6   \n",
       "...          ...       ...                                  ...       ...   \n",
       "541904    581587     22613          PACK OF 20 SPACEBOY NAPKINS        12   \n",
       "541905    581587     22899         CHILDREN'S APRON DOLLY GIRL          6   \n",
       "541906    581587     23254        CHILDRENS CUTLERY DOLLY GIRL          4   \n",
       "541907    581587     23255      CHILDRENS CUTLERY CIRCUS PARADE         4   \n",
       "541908    581587     22138        BAKING SET 9 PIECE RETROSPOT          3   \n",
       "\n",
       "               InvoiceDate  UnitPrice  CustomerID         Country  \n",
       "0      2010-12-01 08:26:00       2.55       17850  United Kingdom  \n",
       "1      2010-12-01 08:26:00       3.39       17850  United Kingdom  \n",
       "2      2010-12-01 08:26:00       2.75       17850  United Kingdom  \n",
       "3      2010-12-01 08:26:00       3.39       17850  United Kingdom  \n",
       "4      2010-12-01 08:26:00       3.39       17850  United Kingdom  \n",
       "...                    ...        ...         ...             ...  \n",
       "541904 2011-12-09 12:50:00       0.85       12680          France  \n",
       "541905 2011-12-09 12:50:00       2.10       12680          France  \n",
       "541906 2011-12-09 12:50:00       4.15       12680          France  \n",
       "541907 2011-12-09 12:50:00       4.15       12680          France  \n",
       "541908 2011-12-09 12:50:00       4.95       12680          France  \n",
       "\n",
       "[397924 rows x 8 columns]"
      ]
     },
     "execution_count": 9,
     "metadata": {},
     "output_type": "execute_result"
    }
   ],
   "source": [
    "# removes all cancelled orders from the dataset\n",
    "df = df[df['InvoiceNo'].str[0] != 'C']\n",
    "df"
   ]
  },
  {
   "cell_type": "code",
   "execution_count": 10,
   "id": "ad680b2e",
   "metadata": {},
   "outputs": [
    {
     "data": {
      "application/vnd.microsoft.datawrangler.viewer.v0+json": {
       "columns": [
        {
         "name": "index",
         "rawType": "int64",
         "type": "integer"
        },
        {
         "name": "InvoiceNo",
         "rawType": "string",
         "type": "string"
        },
        {
         "name": "StockCode",
         "rawType": "string",
         "type": "string"
        },
        {
         "name": "Description",
         "rawType": "string",
         "type": "string"
        },
        {
         "name": "Quantity",
         "rawType": "int64",
         "type": "integer"
        },
        {
         "name": "InvoiceDate",
         "rawType": "datetime64[ns]",
         "type": "datetime"
        },
        {
         "name": "UnitPrice",
         "rawType": "float64",
         "type": "float"
        },
        {
         "name": "CustomerID",
         "rawType": "Int64",
         "type": "integer"
        },
        {
         "name": "Country",
         "rawType": "category",
         "type": "unknown"
        }
       ],
       "ref": "1a0cf851-8037-4e77-a340-2851ff959901",
       "rows": [
        [
         "0",
         "536365",
         "85123A",
         "WHITE HANGING HEART T-LIGHT HOLDER",
         "6",
         "2010-12-01 08:26:00",
         "2.55",
         "17850",
         "United Kingdom"
        ],
        [
         "1",
         "536365",
         "71053",
         "WHITE METAL LANTERN",
         "6",
         "2010-12-01 08:26:00",
         "3.39",
         "17850",
         "United Kingdom"
        ],
        [
         "2",
         "536365",
         "84406B",
         "CREAM CUPID HEARTS COAT HANGER",
         "8",
         "2010-12-01 08:26:00",
         "2.75",
         "17850",
         "United Kingdom"
        ],
        [
         "3",
         "536365",
         "84029G",
         "KNITTED UNION FLAG HOT WATER BOTTLE",
         "6",
         "2010-12-01 08:26:00",
         "3.39",
         "17850",
         "United Kingdom"
        ],
        [
         "4",
         "536365",
         "84029E",
         "RED WOOLLY HOTTIE WHITE HEART.",
         "6",
         "2010-12-01 08:26:00",
         "3.39",
         "17850",
         "United Kingdom"
        ],
        [
         "5",
         "536365",
         "22752",
         "SET 7 BABUSHKA NESTING BOXES",
         "2",
         "2010-12-01 08:26:00",
         "7.65",
         "17850",
         "United Kingdom"
        ],
        [
         "6",
         "536365",
         "21730",
         "GLASS STAR FROSTED T-LIGHT HOLDER",
         "6",
         "2010-12-01 08:26:00",
         "4.25",
         "17850",
         "United Kingdom"
        ],
        [
         "7",
         "536366",
         "22633",
         "HAND WARMER UNION JACK",
         "6",
         "2010-12-01 08:28:00",
         "1.85",
         "17850",
         "United Kingdom"
        ],
        [
         "8",
         "536366",
         "22632",
         "HAND WARMER RED POLKA DOT",
         "6",
         "2010-12-01 08:28:00",
         "1.85",
         "17850",
         "United Kingdom"
        ],
        [
         "9",
         "536367",
         "84879",
         "ASSORTED COLOUR BIRD ORNAMENT",
         "32",
         "2010-12-01 08:34:00",
         "1.69",
         "13047",
         "United Kingdom"
        ],
        [
         "10",
         "536367",
         "22745",
         "POPPY'S PLAYHOUSE BEDROOM ",
         "6",
         "2010-12-01 08:34:00",
         "2.1",
         "13047",
         "United Kingdom"
        ],
        [
         "11",
         "536367",
         "22748",
         "POPPY'S PLAYHOUSE KITCHEN",
         "6",
         "2010-12-01 08:34:00",
         "2.1",
         "13047",
         "United Kingdom"
        ],
        [
         "12",
         "536367",
         "22749",
         "FELTCRAFT PRINCESS CHARLOTTE DOLL",
         "8",
         "2010-12-01 08:34:00",
         "3.75",
         "13047",
         "United Kingdom"
        ],
        [
         "13",
         "536367",
         "22310",
         "IVORY KNITTED MUG COSY ",
         "6",
         "2010-12-01 08:34:00",
         "1.65",
         "13047",
         "United Kingdom"
        ],
        [
         "14",
         "536367",
         "84969",
         "BOX OF 6 ASSORTED COLOUR TEASPOONS",
         "6",
         "2010-12-01 08:34:00",
         "4.25",
         "13047",
         "United Kingdom"
        ],
        [
         "15",
         "536367",
         "22623",
         "BOX OF VINTAGE JIGSAW BLOCKS ",
         "3",
         "2010-12-01 08:34:00",
         "4.95",
         "13047",
         "United Kingdom"
        ],
        [
         "16",
         "536367",
         "22622",
         "BOX OF VINTAGE ALPHABET BLOCKS",
         "2",
         "2010-12-01 08:34:00",
         "9.95",
         "13047",
         "United Kingdom"
        ],
        [
         "17",
         "536367",
         "21754",
         "HOME BUILDING BLOCK WORD",
         "3",
         "2010-12-01 08:34:00",
         "5.95",
         "13047",
         "United Kingdom"
        ],
        [
         "18",
         "536367",
         "21755",
         "LOVE BUILDING BLOCK WORD",
         "3",
         "2010-12-01 08:34:00",
         "5.95",
         "13047",
         "United Kingdom"
        ],
        [
         "19",
         "536367",
         "21777",
         "RECIPE BOX WITH METAL HEART",
         "4",
         "2010-12-01 08:34:00",
         "7.95",
         "13047",
         "United Kingdom"
        ],
        [
         "20",
         "536367",
         "48187",
         "DOORMAT NEW ENGLAND",
         "4",
         "2010-12-01 08:34:00",
         "7.95",
         "13047",
         "United Kingdom"
        ],
        [
         "21",
         "536368",
         "22960",
         "JAM MAKING SET WITH JARS",
         "6",
         "2010-12-01 08:34:00",
         "4.25",
         "13047",
         "United Kingdom"
        ],
        [
         "22",
         "536368",
         "22913",
         "RED COAT RACK PARIS FASHION",
         "3",
         "2010-12-01 08:34:00",
         "4.95",
         "13047",
         "United Kingdom"
        ],
        [
         "23",
         "536368",
         "22912",
         "YELLOW COAT RACK PARIS FASHION",
         "3",
         "2010-12-01 08:34:00",
         "4.95",
         "13047",
         "United Kingdom"
        ],
        [
         "24",
         "536368",
         "22914",
         "BLUE COAT RACK PARIS FASHION",
         "3",
         "2010-12-01 08:34:00",
         "4.95",
         "13047",
         "United Kingdom"
        ],
        [
         "25",
         "536369",
         "21756",
         "BATH BUILDING BLOCK WORD",
         "3",
         "2010-12-01 08:35:00",
         "5.95",
         "13047",
         "United Kingdom"
        ],
        [
         "26",
         "536370",
         "22728",
         "ALARM CLOCK BAKELIKE PINK",
         "24",
         "2010-12-01 08:45:00",
         "3.75",
         "12583",
         "France"
        ],
        [
         "27",
         "536370",
         "22727",
         "ALARM CLOCK BAKELIKE RED ",
         "24",
         "2010-12-01 08:45:00",
         "3.75",
         "12583",
         "France"
        ],
        [
         "28",
         "536370",
         "22726",
         "ALARM CLOCK BAKELIKE GREEN",
         "12",
         "2010-12-01 08:45:00",
         "3.75",
         "12583",
         "France"
        ],
        [
         "29",
         "536370",
         "21724",
         "PANDA AND BUNNIES STICKER SHEET",
         "12",
         "2010-12-01 08:45:00",
         "0.85",
         "12583",
         "France"
        ],
        [
         "30",
         "536370",
         "21883",
         "STARS GIFT TAPE ",
         "24",
         "2010-12-01 08:45:00",
         "0.65",
         "12583",
         "France"
        ],
        [
         "31",
         "536370",
         "10002",
         "INFLATABLE POLITICAL GLOBE ",
         "48",
         "2010-12-01 08:45:00",
         "0.85",
         "12583",
         "France"
        ],
        [
         "32",
         "536370",
         "21791",
         "VINTAGE HEADS AND TAILS CARD GAME ",
         "24",
         "2010-12-01 08:45:00",
         "1.25",
         "12583",
         "France"
        ],
        [
         "33",
         "536370",
         "21035",
         "SET/2 RED RETROSPOT TEA TOWELS ",
         "18",
         "2010-12-01 08:45:00",
         "2.95",
         "12583",
         "France"
        ],
        [
         "34",
         "536370",
         "22326",
         "ROUND SNACK BOXES SET OF4 WOODLAND ",
         "24",
         "2010-12-01 08:45:00",
         "2.95",
         "12583",
         "France"
        ],
        [
         "35",
         "536370",
         "22629",
         "SPACEBOY LUNCH BOX ",
         "24",
         "2010-12-01 08:45:00",
         "1.95",
         "12583",
         "France"
        ],
        [
         "36",
         "536370",
         "22659",
         "LUNCH BOX I LOVE LONDON",
         "24",
         "2010-12-01 08:45:00",
         "1.95",
         "12583",
         "France"
        ],
        [
         "37",
         "536370",
         "22631",
         "CIRCUS PARADE LUNCH BOX ",
         "24",
         "2010-12-01 08:45:00",
         "1.95",
         "12583",
         "France"
        ],
        [
         "38",
         "536370",
         "22661",
         "CHARLOTTE BAG DOLLY GIRL DESIGN",
         "20",
         "2010-12-01 08:45:00",
         "0.85",
         "12583",
         "France"
        ],
        [
         "39",
         "536370",
         "21731",
         "RED TOADSTOOL LED NIGHT LIGHT",
         "24",
         "2010-12-01 08:45:00",
         "1.65",
         "12583",
         "France"
        ],
        [
         "40",
         "536370",
         "22900",
         " SET 2 TEA TOWELS I LOVE LONDON ",
         "24",
         "2010-12-01 08:45:00",
         "2.95",
         "12583",
         "France"
        ],
        [
         "41",
         "536370",
         "21913",
         "VINTAGE SEASIDE JIGSAW PUZZLES",
         "12",
         "2010-12-01 08:45:00",
         "3.75",
         "12583",
         "France"
        ],
        [
         "42",
         "536370",
         "22540",
         "MINI JIGSAW CIRCUS PARADE ",
         "24",
         "2010-12-01 08:45:00",
         "0.42",
         "12583",
         "France"
        ],
        [
         "43",
         "536370",
         "22544",
         "MINI JIGSAW SPACEBOY",
         "24",
         "2010-12-01 08:45:00",
         "0.42",
         "12583",
         "France"
        ],
        [
         "44",
         "536370",
         "22492",
         "MINI PAINT SET VINTAGE ",
         "36",
         "2010-12-01 08:45:00",
         "0.65",
         "12583",
         "France"
        ],
        [
         "45",
         "536370",
         "POST",
         "POSTAGE",
         "3",
         "2010-12-01 08:45:00",
         "18.0",
         "12583",
         "France"
        ],
        [
         "46",
         "536371",
         "22086",
         "PAPER CHAIN KIT 50'S CHRISTMAS ",
         "80",
         "2010-12-01 09:00:00",
         "2.55",
         "13748",
         "United Kingdom"
        ],
        [
         "47",
         "536372",
         "22632",
         "HAND WARMER RED POLKA DOT",
         "6",
         "2010-12-01 09:01:00",
         "1.85",
         "17850",
         "United Kingdom"
        ],
        [
         "48",
         "536372",
         "22633",
         "HAND WARMER UNION JACK",
         "6",
         "2010-12-01 09:01:00",
         "1.85",
         "17850",
         "United Kingdom"
        ],
        [
         "49",
         "536373",
         "85123A",
         "WHITE HANGING HEART T-LIGHT HOLDER",
         "6",
         "2010-12-01 09:02:00",
         "2.55",
         "17850",
         "United Kingdom"
        ]
       ],
       "shape": {
        "columns": 8,
        "rows": 397884
       }
      },
      "text/html": [
       "<div>\n",
       "<style scoped>\n",
       "    .dataframe tbody tr th:only-of-type {\n",
       "        vertical-align: middle;\n",
       "    }\n",
       "\n",
       "    .dataframe tbody tr th {\n",
       "        vertical-align: top;\n",
       "    }\n",
       "\n",
       "    .dataframe thead th {\n",
       "        text-align: right;\n",
       "    }\n",
       "</style>\n",
       "<table border=\"1\" class=\"dataframe\">\n",
       "  <thead>\n",
       "    <tr style=\"text-align: right;\">\n",
       "      <th></th>\n",
       "      <th>InvoiceNo</th>\n",
       "      <th>StockCode</th>\n",
       "      <th>Description</th>\n",
       "      <th>Quantity</th>\n",
       "      <th>InvoiceDate</th>\n",
       "      <th>UnitPrice</th>\n",
       "      <th>CustomerID</th>\n",
       "      <th>Country</th>\n",
       "    </tr>\n",
       "  </thead>\n",
       "  <tbody>\n",
       "    <tr>\n",
       "      <th>0</th>\n",
       "      <td>536365</td>\n",
       "      <td>85123A</td>\n",
       "      <td>WHITE HANGING HEART T-LIGHT HOLDER</td>\n",
       "      <td>6</td>\n",
       "      <td>2010-12-01 08:26:00</td>\n",
       "      <td>2.55</td>\n",
       "      <td>17850</td>\n",
       "      <td>United Kingdom</td>\n",
       "    </tr>\n",
       "    <tr>\n",
       "      <th>1</th>\n",
       "      <td>536365</td>\n",
       "      <td>71053</td>\n",
       "      <td>WHITE METAL LANTERN</td>\n",
       "      <td>6</td>\n",
       "      <td>2010-12-01 08:26:00</td>\n",
       "      <td>3.39</td>\n",
       "      <td>17850</td>\n",
       "      <td>United Kingdom</td>\n",
       "    </tr>\n",
       "    <tr>\n",
       "      <th>2</th>\n",
       "      <td>536365</td>\n",
       "      <td>84406B</td>\n",
       "      <td>CREAM CUPID HEARTS COAT HANGER</td>\n",
       "      <td>8</td>\n",
       "      <td>2010-12-01 08:26:00</td>\n",
       "      <td>2.75</td>\n",
       "      <td>17850</td>\n",
       "      <td>United Kingdom</td>\n",
       "    </tr>\n",
       "    <tr>\n",
       "      <th>3</th>\n",
       "      <td>536365</td>\n",
       "      <td>84029G</td>\n",
       "      <td>KNITTED UNION FLAG HOT WATER BOTTLE</td>\n",
       "      <td>6</td>\n",
       "      <td>2010-12-01 08:26:00</td>\n",
       "      <td>3.39</td>\n",
       "      <td>17850</td>\n",
       "      <td>United Kingdom</td>\n",
       "    </tr>\n",
       "    <tr>\n",
       "      <th>4</th>\n",
       "      <td>536365</td>\n",
       "      <td>84029E</td>\n",
       "      <td>RED WOOLLY HOTTIE WHITE HEART.</td>\n",
       "      <td>6</td>\n",
       "      <td>2010-12-01 08:26:00</td>\n",
       "      <td>3.39</td>\n",
       "      <td>17850</td>\n",
       "      <td>United Kingdom</td>\n",
       "    </tr>\n",
       "    <tr>\n",
       "      <th>...</th>\n",
       "      <td>...</td>\n",
       "      <td>...</td>\n",
       "      <td>...</td>\n",
       "      <td>...</td>\n",
       "      <td>...</td>\n",
       "      <td>...</td>\n",
       "      <td>...</td>\n",
       "      <td>...</td>\n",
       "    </tr>\n",
       "    <tr>\n",
       "      <th>541904</th>\n",
       "      <td>581587</td>\n",
       "      <td>22613</td>\n",
       "      <td>PACK OF 20 SPACEBOY NAPKINS</td>\n",
       "      <td>12</td>\n",
       "      <td>2011-12-09 12:50:00</td>\n",
       "      <td>0.85</td>\n",
       "      <td>12680</td>\n",
       "      <td>France</td>\n",
       "    </tr>\n",
       "    <tr>\n",
       "      <th>541905</th>\n",
       "      <td>581587</td>\n",
       "      <td>22899</td>\n",
       "      <td>CHILDREN'S APRON DOLLY GIRL</td>\n",
       "      <td>6</td>\n",
       "      <td>2011-12-09 12:50:00</td>\n",
       "      <td>2.10</td>\n",
       "      <td>12680</td>\n",
       "      <td>France</td>\n",
       "    </tr>\n",
       "    <tr>\n",
       "      <th>541906</th>\n",
       "      <td>581587</td>\n",
       "      <td>23254</td>\n",
       "      <td>CHILDRENS CUTLERY DOLLY GIRL</td>\n",
       "      <td>4</td>\n",
       "      <td>2011-12-09 12:50:00</td>\n",
       "      <td>4.15</td>\n",
       "      <td>12680</td>\n",
       "      <td>France</td>\n",
       "    </tr>\n",
       "    <tr>\n",
       "      <th>541907</th>\n",
       "      <td>581587</td>\n",
       "      <td>23255</td>\n",
       "      <td>CHILDRENS CUTLERY CIRCUS PARADE</td>\n",
       "      <td>4</td>\n",
       "      <td>2011-12-09 12:50:00</td>\n",
       "      <td>4.15</td>\n",
       "      <td>12680</td>\n",
       "      <td>France</td>\n",
       "    </tr>\n",
       "    <tr>\n",
       "      <th>541908</th>\n",
       "      <td>581587</td>\n",
       "      <td>22138</td>\n",
       "      <td>BAKING SET 9 PIECE RETROSPOT</td>\n",
       "      <td>3</td>\n",
       "      <td>2011-12-09 12:50:00</td>\n",
       "      <td>4.95</td>\n",
       "      <td>12680</td>\n",
       "      <td>France</td>\n",
       "    </tr>\n",
       "  </tbody>\n",
       "</table>\n",
       "<p>397884 rows × 8 columns</p>\n",
       "</div>"
      ],
      "text/plain": [
       "       InvoiceNo StockCode                          Description  Quantity  \\\n",
       "0         536365    85123A   WHITE HANGING HEART T-LIGHT HOLDER         6   \n",
       "1         536365     71053                  WHITE METAL LANTERN         6   \n",
       "2         536365    84406B       CREAM CUPID HEARTS COAT HANGER         8   \n",
       "3         536365    84029G  KNITTED UNION FLAG HOT WATER BOTTLE         6   \n",
       "4         536365    84029E       RED WOOLLY HOTTIE WHITE HEART.         6   \n",
       "...          ...       ...                                  ...       ...   \n",
       "541904    581587     22613          PACK OF 20 SPACEBOY NAPKINS        12   \n",
       "541905    581587     22899         CHILDREN'S APRON DOLLY GIRL          6   \n",
       "541906    581587     23254        CHILDRENS CUTLERY DOLLY GIRL          4   \n",
       "541907    581587     23255      CHILDRENS CUTLERY CIRCUS PARADE         4   \n",
       "541908    581587     22138        BAKING SET 9 PIECE RETROSPOT          3   \n",
       "\n",
       "               InvoiceDate  UnitPrice  CustomerID         Country  \n",
       "0      2010-12-01 08:26:00       2.55       17850  United Kingdom  \n",
       "1      2010-12-01 08:26:00       3.39       17850  United Kingdom  \n",
       "2      2010-12-01 08:26:00       2.75       17850  United Kingdom  \n",
       "3      2010-12-01 08:26:00       3.39       17850  United Kingdom  \n",
       "4      2010-12-01 08:26:00       3.39       17850  United Kingdom  \n",
       "...                    ...        ...         ...             ...  \n",
       "541904 2011-12-09 12:50:00       0.85       12680          France  \n",
       "541905 2011-12-09 12:50:00       2.10       12680          France  \n",
       "541906 2011-12-09 12:50:00       4.15       12680          France  \n",
       "541907 2011-12-09 12:50:00       4.15       12680          France  \n",
       "541908 2011-12-09 12:50:00       4.95       12680          France  \n",
       "\n",
       "[397884 rows x 8 columns]"
      ]
     },
     "execution_count": 10,
     "metadata": {},
     "output_type": "execute_result"
    }
   ],
   "source": [
    "# removes all O values for unit price\n",
    "df = df[df['UnitPrice'] != 0]\n",
    "df"
   ]
  },
  {
   "cell_type": "code",
   "execution_count": 11,
   "id": "501701a1",
   "metadata": {},
   "outputs": [
    {
     "data": {
      "text/plain": [
       "Timestamp('2011-12-09 12:50:00')"
      ]
     },
     "execution_count": 11,
     "metadata": {},
     "output_type": "execute_result"
    }
   ],
   "source": [
    "# checks for the most recent transaction and sets it as current date for recency analysis\n",
    "datenow = df['InvoiceDate'].max()\n",
    "datenow\n"
   ]
  },
  {
   "cell_type": "code",
   "execution_count": 12,
   "id": "f856bed9",
   "metadata": {},
   "outputs": [
    {
     "data": {
      "application/vnd.microsoft.datawrangler.viewer.v0+json": {
       "columns": [
        {
         "name": "index",
         "rawType": "int64",
         "type": "integer"
        },
        {
         "name": "CustomerID",
         "rawType": "Int64",
         "type": "integer"
        },
        {
         "name": "LastTransaction",
         "rawType": "datetime64[ns]",
         "type": "datetime"
        }
       ],
       "ref": "12df98a2-a7f4-4073-a1ec-27356d4ce5b9",
       "rows": [
        [
         "0",
         "12346",
         "2011-01-18 10:01:00"
        ],
        [
         "1",
         "12347",
         "2011-12-07 15:52:00"
        ],
        [
         "2",
         "12348",
         "2011-09-25 13:13:00"
        ],
        [
         "3",
         "12349",
         "2011-11-21 09:51:00"
        ],
        [
         "4",
         "12350",
         "2011-02-02 16:01:00"
        ],
        [
         "5",
         "12352",
         "2011-11-03 14:37:00"
        ],
        [
         "6",
         "12353",
         "2011-05-19 17:47:00"
        ],
        [
         "7",
         "12354",
         "2011-04-21 13:11:00"
        ],
        [
         "8",
         "12355",
         "2011-05-09 13:49:00"
        ],
        [
         "9",
         "12356",
         "2011-11-17 08:40:00"
        ],
        [
         "10",
         "12357",
         "2011-11-06 16:07:00"
        ],
        [
         "11",
         "12358",
         "2011-12-08 10:26:00"
        ],
        [
         "12",
         "12359",
         "2011-10-13 12:47:00"
        ],
        [
         "13",
         "12360",
         "2011-10-18 15:22:00"
        ],
        [
         "14",
         "12361",
         "2011-02-25 13:51:00"
        ],
        [
         "15",
         "12362",
         "2011-12-06 15:40:00"
        ],
        [
         "16",
         "12363",
         "2011-08-22 10:18:00"
        ],
        [
         "17",
         "12364",
         "2011-12-02 10:22:00"
        ],
        [
         "18",
         "12365",
         "2011-02-21 14:04:00"
        ],
        [
         "19",
         "12367",
         "2011-12-05 16:48:00"
        ],
        [
         "20",
         "12370",
         "2011-10-19 14:51:00"
        ],
        [
         "21",
         "12371",
         "2011-10-26 10:16:00"
        ],
        [
         "22",
         "12372",
         "2011-09-29 12:12:00"
        ],
        [
         "23",
         "12373",
         "2011-02-01 13:10:00"
        ],
        [
         "24",
         "12374",
         "2011-11-14 15:37:00"
        ],
        [
         "25",
         "12375",
         "2011-11-29 10:36:00"
        ],
        [
         "26",
         "12377",
         "2011-01-28 15:45:00"
        ],
        [
         "27",
         "12378",
         "2011-08-02 10:34:00"
        ],
        [
         "28",
         "12379",
         "2011-09-19 10:09:00"
        ],
        [
         "29",
         "12380",
         "2011-11-18 11:27:00"
        ],
        [
         "30",
         "12381",
         "2011-12-05 12:44:00"
        ],
        [
         "31",
         "12383",
         "2011-06-08 08:02:00"
        ],
        [
         "32",
         "12384",
         "2011-11-11 08:39:00"
        ],
        [
         "33",
         "12386",
         "2011-01-06 12:37:00"
        ],
        [
         "34",
         "12388",
         "2011-11-24 12:30:00"
        ],
        [
         "35",
         "12390",
         "2011-09-21 09:33:00"
        ],
        [
         "36",
         "12391",
         "2011-11-18 12:07:00"
        ],
        [
         "37",
         "12393",
         "2011-09-28 15:41:00"
        ],
        [
         "38",
         "12394",
         "2011-10-07 08:08:00"
        ],
        [
         "39",
         "12395",
         "2011-11-20 15:21:00"
        ],
        [
         "40",
         "12397",
         "2011-11-04 09:52:00"
        ],
        [
         "41",
         "12398",
         "2011-10-25 10:27:00"
        ],
        [
         "42",
         "12399",
         "2011-08-12 13:15:00"
        ],
        [
         "43",
         "12401",
         "2011-02-09 13:50:00"
        ],
        [
         "44",
         "12402",
         "2011-01-20 13:49:00"
        ],
        [
         "45",
         "12403",
         "2011-10-21 10:51:00"
        ],
        [
         "46",
         "12405",
         "2011-07-14 08:52:00"
        ],
        [
         "47",
         "12406",
         "2011-11-17 19:22:00"
        ],
        [
         "48",
         "12407",
         "2011-10-21 10:11:00"
        ],
        [
         "49",
         "12408",
         "2011-11-07 12:27:00"
        ]
       ],
       "shape": {
        "columns": 2,
        "rows": 4338
       }
      },
      "text/html": [
       "<div>\n",
       "<style scoped>\n",
       "    .dataframe tbody tr th:only-of-type {\n",
       "        vertical-align: middle;\n",
       "    }\n",
       "\n",
       "    .dataframe tbody tr th {\n",
       "        vertical-align: top;\n",
       "    }\n",
       "\n",
       "    .dataframe thead th {\n",
       "        text-align: right;\n",
       "    }\n",
       "</style>\n",
       "<table border=\"1\" class=\"dataframe\">\n",
       "  <thead>\n",
       "    <tr style=\"text-align: right;\">\n",
       "      <th></th>\n",
       "      <th>CustomerID</th>\n",
       "      <th>LastTransaction</th>\n",
       "    </tr>\n",
       "  </thead>\n",
       "  <tbody>\n",
       "    <tr>\n",
       "      <th>0</th>\n",
       "      <td>12346</td>\n",
       "      <td>2011-01-18 10:01:00</td>\n",
       "    </tr>\n",
       "    <tr>\n",
       "      <th>1</th>\n",
       "      <td>12347</td>\n",
       "      <td>2011-12-07 15:52:00</td>\n",
       "    </tr>\n",
       "    <tr>\n",
       "      <th>2</th>\n",
       "      <td>12348</td>\n",
       "      <td>2011-09-25 13:13:00</td>\n",
       "    </tr>\n",
       "    <tr>\n",
       "      <th>3</th>\n",
       "      <td>12349</td>\n",
       "      <td>2011-11-21 09:51:00</td>\n",
       "    </tr>\n",
       "    <tr>\n",
       "      <th>4</th>\n",
       "      <td>12350</td>\n",
       "      <td>2011-02-02 16:01:00</td>\n",
       "    </tr>\n",
       "    <tr>\n",
       "      <th>...</th>\n",
       "      <td>...</td>\n",
       "      <td>...</td>\n",
       "    </tr>\n",
       "    <tr>\n",
       "      <th>4333</th>\n",
       "      <td>18280</td>\n",
       "      <td>2011-03-07 09:52:00</td>\n",
       "    </tr>\n",
       "    <tr>\n",
       "      <th>4334</th>\n",
       "      <td>18281</td>\n",
       "      <td>2011-06-12 10:53:00</td>\n",
       "    </tr>\n",
       "    <tr>\n",
       "      <th>4335</th>\n",
       "      <td>18282</td>\n",
       "      <td>2011-12-02 11:43:00</td>\n",
       "    </tr>\n",
       "    <tr>\n",
       "      <th>4336</th>\n",
       "      <td>18283</td>\n",
       "      <td>2011-12-06 12:02:00</td>\n",
       "    </tr>\n",
       "    <tr>\n",
       "      <th>4337</th>\n",
       "      <td>18287</td>\n",
       "      <td>2011-10-28 09:29:00</td>\n",
       "    </tr>\n",
       "  </tbody>\n",
       "</table>\n",
       "<p>4338 rows × 2 columns</p>\n",
       "</div>"
      ],
      "text/plain": [
       "      CustomerID     LastTransaction\n",
       "0          12346 2011-01-18 10:01:00\n",
       "1          12347 2011-12-07 15:52:00\n",
       "2          12348 2011-09-25 13:13:00\n",
       "3          12349 2011-11-21 09:51:00\n",
       "4          12350 2011-02-02 16:01:00\n",
       "...          ...                 ...\n",
       "4333       18280 2011-03-07 09:52:00\n",
       "4334       18281 2011-06-12 10:53:00\n",
       "4335       18282 2011-12-02 11:43:00\n",
       "4336       18283 2011-12-06 12:02:00\n",
       "4337       18287 2011-10-28 09:29:00\n",
       "\n",
       "[4338 rows x 2 columns]"
      ]
     },
     "execution_count": 12,
     "metadata": {},
     "output_type": "execute_result"
    }
   ],
   "source": [
    "# finds out the latest transaction date of each customer\n",
    "last_transaction = df.groupby('CustomerID')['InvoiceDate'].max().reset_index()\n",
    "last_transaction = last_transaction.rename(columns={'InvoiceDate':'LastTransaction'})\n",
    "last_transaction    "
   ]
  },
  {
   "cell_type": "code",
   "execution_count": 13,
   "id": "922cf071",
   "metadata": {},
   "outputs": [
    {
     "data": {
      "application/vnd.microsoft.datawrangler.viewer.v0+json": {
       "columns": [
        {
         "name": "index",
         "rawType": "int64",
         "type": "integer"
        },
        {
         "name": "InvoiceNo",
         "rawType": "string",
         "type": "string"
        },
        {
         "name": "StockCode",
         "rawType": "string",
         "type": "string"
        },
        {
         "name": "Description",
         "rawType": "string",
         "type": "string"
        },
        {
         "name": "Quantity",
         "rawType": "int64",
         "type": "integer"
        },
        {
         "name": "InvoiceDate",
         "rawType": "datetime64[ns]",
         "type": "datetime"
        },
        {
         "name": "UnitPrice",
         "rawType": "float64",
         "type": "float"
        },
        {
         "name": "CustomerID",
         "rawType": "Int64",
         "type": "integer"
        },
        {
         "name": "Country",
         "rawType": "category",
         "type": "unknown"
        },
        {
         "name": "LastTransaction",
         "rawType": "datetime64[ns]",
         "type": "datetime"
        }
       ],
       "ref": "bcc90ecb-2484-496b-9ccf-dfa19895df52",
       "rows": [
        [
         "0",
         "536365",
         "85123A",
         "WHITE HANGING HEART T-LIGHT HOLDER",
         "6",
         "2010-12-01 08:26:00",
         "2.55",
         "17850",
         "United Kingdom",
         "2010-12-02 15:27:00"
        ],
        [
         "1",
         "536365",
         "71053",
         "WHITE METAL LANTERN",
         "6",
         "2010-12-01 08:26:00",
         "3.39",
         "17850",
         "United Kingdom",
         "2010-12-02 15:27:00"
        ],
        [
         "2",
         "536365",
         "84406B",
         "CREAM CUPID HEARTS COAT HANGER",
         "8",
         "2010-12-01 08:26:00",
         "2.75",
         "17850",
         "United Kingdom",
         "2010-12-02 15:27:00"
        ],
        [
         "3",
         "536365",
         "84029G",
         "KNITTED UNION FLAG HOT WATER BOTTLE",
         "6",
         "2010-12-01 08:26:00",
         "3.39",
         "17850",
         "United Kingdom",
         "2010-12-02 15:27:00"
        ],
        [
         "4",
         "536365",
         "84029E",
         "RED WOOLLY HOTTIE WHITE HEART.",
         "6",
         "2010-12-01 08:26:00",
         "3.39",
         "17850",
         "United Kingdom",
         "2010-12-02 15:27:00"
        ],
        [
         "5",
         "536365",
         "22752",
         "SET 7 BABUSHKA NESTING BOXES",
         "2",
         "2010-12-01 08:26:00",
         "7.65",
         "17850",
         "United Kingdom",
         "2010-12-02 15:27:00"
        ],
        [
         "6",
         "536365",
         "21730",
         "GLASS STAR FROSTED T-LIGHT HOLDER",
         "6",
         "2010-12-01 08:26:00",
         "4.25",
         "17850",
         "United Kingdom",
         "2010-12-02 15:27:00"
        ],
        [
         "7",
         "536366",
         "22633",
         "HAND WARMER UNION JACK",
         "6",
         "2010-12-01 08:28:00",
         "1.85",
         "17850",
         "United Kingdom",
         "2010-12-02 15:27:00"
        ],
        [
         "8",
         "536366",
         "22632",
         "HAND WARMER RED POLKA DOT",
         "6",
         "2010-12-01 08:28:00",
         "1.85",
         "17850",
         "United Kingdom",
         "2010-12-02 15:27:00"
        ],
        [
         "9",
         "536367",
         "84879",
         "ASSORTED COLOUR BIRD ORNAMENT",
         "32",
         "2010-12-01 08:34:00",
         "1.69",
         "13047",
         "United Kingdom",
         "2011-11-08 12:06:00"
        ],
        [
         "10",
         "536367",
         "22745",
         "POPPY'S PLAYHOUSE BEDROOM ",
         "6",
         "2010-12-01 08:34:00",
         "2.1",
         "13047",
         "United Kingdom",
         "2011-11-08 12:06:00"
        ],
        [
         "11",
         "536367",
         "22748",
         "POPPY'S PLAYHOUSE KITCHEN",
         "6",
         "2010-12-01 08:34:00",
         "2.1",
         "13047",
         "United Kingdom",
         "2011-11-08 12:06:00"
        ],
        [
         "12",
         "536367",
         "22749",
         "FELTCRAFT PRINCESS CHARLOTTE DOLL",
         "8",
         "2010-12-01 08:34:00",
         "3.75",
         "13047",
         "United Kingdom",
         "2011-11-08 12:06:00"
        ],
        [
         "13",
         "536367",
         "22310",
         "IVORY KNITTED MUG COSY ",
         "6",
         "2010-12-01 08:34:00",
         "1.65",
         "13047",
         "United Kingdom",
         "2011-11-08 12:06:00"
        ],
        [
         "14",
         "536367",
         "84969",
         "BOX OF 6 ASSORTED COLOUR TEASPOONS",
         "6",
         "2010-12-01 08:34:00",
         "4.25",
         "13047",
         "United Kingdom",
         "2011-11-08 12:06:00"
        ],
        [
         "15",
         "536367",
         "22623",
         "BOX OF VINTAGE JIGSAW BLOCKS ",
         "3",
         "2010-12-01 08:34:00",
         "4.95",
         "13047",
         "United Kingdom",
         "2011-11-08 12:06:00"
        ],
        [
         "16",
         "536367",
         "22622",
         "BOX OF VINTAGE ALPHABET BLOCKS",
         "2",
         "2010-12-01 08:34:00",
         "9.95",
         "13047",
         "United Kingdom",
         "2011-11-08 12:06:00"
        ],
        [
         "17",
         "536367",
         "21754",
         "HOME BUILDING BLOCK WORD",
         "3",
         "2010-12-01 08:34:00",
         "5.95",
         "13047",
         "United Kingdom",
         "2011-11-08 12:06:00"
        ],
        [
         "18",
         "536367",
         "21755",
         "LOVE BUILDING BLOCK WORD",
         "3",
         "2010-12-01 08:34:00",
         "5.95",
         "13047",
         "United Kingdom",
         "2011-11-08 12:06:00"
        ],
        [
         "19",
         "536367",
         "21777",
         "RECIPE BOX WITH METAL HEART",
         "4",
         "2010-12-01 08:34:00",
         "7.95",
         "13047",
         "United Kingdom",
         "2011-11-08 12:06:00"
        ],
        [
         "20",
         "536367",
         "48187",
         "DOORMAT NEW ENGLAND",
         "4",
         "2010-12-01 08:34:00",
         "7.95",
         "13047",
         "United Kingdom",
         "2011-11-08 12:06:00"
        ],
        [
         "21",
         "536368",
         "22960",
         "JAM MAKING SET WITH JARS",
         "6",
         "2010-12-01 08:34:00",
         "4.25",
         "13047",
         "United Kingdom",
         "2011-11-08 12:06:00"
        ],
        [
         "22",
         "536368",
         "22913",
         "RED COAT RACK PARIS FASHION",
         "3",
         "2010-12-01 08:34:00",
         "4.95",
         "13047",
         "United Kingdom",
         "2011-11-08 12:06:00"
        ],
        [
         "23",
         "536368",
         "22912",
         "YELLOW COAT RACK PARIS FASHION",
         "3",
         "2010-12-01 08:34:00",
         "4.95",
         "13047",
         "United Kingdom",
         "2011-11-08 12:06:00"
        ],
        [
         "24",
         "536368",
         "22914",
         "BLUE COAT RACK PARIS FASHION",
         "3",
         "2010-12-01 08:34:00",
         "4.95",
         "13047",
         "United Kingdom",
         "2011-11-08 12:06:00"
        ],
        [
         "25",
         "536369",
         "21756",
         "BATH BUILDING BLOCK WORD",
         "3",
         "2010-12-01 08:35:00",
         "5.95",
         "13047",
         "United Kingdom",
         "2011-11-08 12:06:00"
        ],
        [
         "26",
         "536370",
         "22728",
         "ALARM CLOCK BAKELIKE PINK",
         "24",
         "2010-12-01 08:45:00",
         "3.75",
         "12583",
         "France",
         "2011-12-07 08:07:00"
        ],
        [
         "27",
         "536370",
         "22727",
         "ALARM CLOCK BAKELIKE RED ",
         "24",
         "2010-12-01 08:45:00",
         "3.75",
         "12583",
         "France",
         "2011-12-07 08:07:00"
        ],
        [
         "28",
         "536370",
         "22726",
         "ALARM CLOCK BAKELIKE GREEN",
         "12",
         "2010-12-01 08:45:00",
         "3.75",
         "12583",
         "France",
         "2011-12-07 08:07:00"
        ],
        [
         "29",
         "536370",
         "21724",
         "PANDA AND BUNNIES STICKER SHEET",
         "12",
         "2010-12-01 08:45:00",
         "0.85",
         "12583",
         "France",
         "2011-12-07 08:07:00"
        ],
        [
         "30",
         "536370",
         "21883",
         "STARS GIFT TAPE ",
         "24",
         "2010-12-01 08:45:00",
         "0.65",
         "12583",
         "France",
         "2011-12-07 08:07:00"
        ],
        [
         "31",
         "536370",
         "10002",
         "INFLATABLE POLITICAL GLOBE ",
         "48",
         "2010-12-01 08:45:00",
         "0.85",
         "12583",
         "France",
         "2011-12-07 08:07:00"
        ],
        [
         "32",
         "536370",
         "21791",
         "VINTAGE HEADS AND TAILS CARD GAME ",
         "24",
         "2010-12-01 08:45:00",
         "1.25",
         "12583",
         "France",
         "2011-12-07 08:07:00"
        ],
        [
         "33",
         "536370",
         "21035",
         "SET/2 RED RETROSPOT TEA TOWELS ",
         "18",
         "2010-12-01 08:45:00",
         "2.95",
         "12583",
         "France",
         "2011-12-07 08:07:00"
        ],
        [
         "34",
         "536370",
         "22326",
         "ROUND SNACK BOXES SET OF4 WOODLAND ",
         "24",
         "2010-12-01 08:45:00",
         "2.95",
         "12583",
         "France",
         "2011-12-07 08:07:00"
        ],
        [
         "35",
         "536370",
         "22629",
         "SPACEBOY LUNCH BOX ",
         "24",
         "2010-12-01 08:45:00",
         "1.95",
         "12583",
         "France",
         "2011-12-07 08:07:00"
        ],
        [
         "36",
         "536370",
         "22659",
         "LUNCH BOX I LOVE LONDON",
         "24",
         "2010-12-01 08:45:00",
         "1.95",
         "12583",
         "France",
         "2011-12-07 08:07:00"
        ],
        [
         "37",
         "536370",
         "22631",
         "CIRCUS PARADE LUNCH BOX ",
         "24",
         "2010-12-01 08:45:00",
         "1.95",
         "12583",
         "France",
         "2011-12-07 08:07:00"
        ],
        [
         "38",
         "536370",
         "22661",
         "CHARLOTTE BAG DOLLY GIRL DESIGN",
         "20",
         "2010-12-01 08:45:00",
         "0.85",
         "12583",
         "France",
         "2011-12-07 08:07:00"
        ],
        [
         "39",
         "536370",
         "21731",
         "RED TOADSTOOL LED NIGHT LIGHT",
         "24",
         "2010-12-01 08:45:00",
         "1.65",
         "12583",
         "France",
         "2011-12-07 08:07:00"
        ],
        [
         "40",
         "536370",
         "22900",
         " SET 2 TEA TOWELS I LOVE LONDON ",
         "24",
         "2010-12-01 08:45:00",
         "2.95",
         "12583",
         "France",
         "2011-12-07 08:07:00"
        ],
        [
         "41",
         "536370",
         "21913",
         "VINTAGE SEASIDE JIGSAW PUZZLES",
         "12",
         "2010-12-01 08:45:00",
         "3.75",
         "12583",
         "France",
         "2011-12-07 08:07:00"
        ],
        [
         "42",
         "536370",
         "22540",
         "MINI JIGSAW CIRCUS PARADE ",
         "24",
         "2010-12-01 08:45:00",
         "0.42",
         "12583",
         "France",
         "2011-12-07 08:07:00"
        ],
        [
         "43",
         "536370",
         "22544",
         "MINI JIGSAW SPACEBOY",
         "24",
         "2010-12-01 08:45:00",
         "0.42",
         "12583",
         "France",
         "2011-12-07 08:07:00"
        ],
        [
         "44",
         "536370",
         "22492",
         "MINI PAINT SET VINTAGE ",
         "36",
         "2010-12-01 08:45:00",
         "0.65",
         "12583",
         "France",
         "2011-12-07 08:07:00"
        ],
        [
         "45",
         "536370",
         "POST",
         "POSTAGE",
         "3",
         "2010-12-01 08:45:00",
         "18.0",
         "12583",
         "France",
         "2011-12-07 08:07:00"
        ],
        [
         "46",
         "536371",
         "22086",
         "PAPER CHAIN KIT 50'S CHRISTMAS ",
         "80",
         "2010-12-01 09:00:00",
         "2.55",
         "13748",
         "United Kingdom",
         "2011-09-05 09:45:00"
        ],
        [
         "47",
         "536372",
         "22632",
         "HAND WARMER RED POLKA DOT",
         "6",
         "2010-12-01 09:01:00",
         "1.85",
         "17850",
         "United Kingdom",
         "2010-12-02 15:27:00"
        ],
        [
         "48",
         "536372",
         "22633",
         "HAND WARMER UNION JACK",
         "6",
         "2010-12-01 09:01:00",
         "1.85",
         "17850",
         "United Kingdom",
         "2010-12-02 15:27:00"
        ],
        [
         "49",
         "536373",
         "85123A",
         "WHITE HANGING HEART T-LIGHT HOLDER",
         "6",
         "2010-12-01 09:02:00",
         "2.55",
         "17850",
         "United Kingdom",
         "2010-12-02 15:27:00"
        ]
       ],
       "shape": {
        "columns": 9,
        "rows": 397884
       }
      },
      "text/html": [
       "<div>\n",
       "<style scoped>\n",
       "    .dataframe tbody tr th:only-of-type {\n",
       "        vertical-align: middle;\n",
       "    }\n",
       "\n",
       "    .dataframe tbody tr th {\n",
       "        vertical-align: top;\n",
       "    }\n",
       "\n",
       "    .dataframe thead th {\n",
       "        text-align: right;\n",
       "    }\n",
       "</style>\n",
       "<table border=\"1\" class=\"dataframe\">\n",
       "  <thead>\n",
       "    <tr style=\"text-align: right;\">\n",
       "      <th></th>\n",
       "      <th>InvoiceNo</th>\n",
       "      <th>StockCode</th>\n",
       "      <th>Description</th>\n",
       "      <th>Quantity</th>\n",
       "      <th>InvoiceDate</th>\n",
       "      <th>UnitPrice</th>\n",
       "      <th>CustomerID</th>\n",
       "      <th>Country</th>\n",
       "      <th>LastTransaction</th>\n",
       "    </tr>\n",
       "  </thead>\n",
       "  <tbody>\n",
       "    <tr>\n",
       "      <th>0</th>\n",
       "      <td>536365</td>\n",
       "      <td>85123A</td>\n",
       "      <td>WHITE HANGING HEART T-LIGHT HOLDER</td>\n",
       "      <td>6</td>\n",
       "      <td>2010-12-01 08:26:00</td>\n",
       "      <td>2.55</td>\n",
       "      <td>17850</td>\n",
       "      <td>United Kingdom</td>\n",
       "      <td>2010-12-02 15:27:00</td>\n",
       "    </tr>\n",
       "    <tr>\n",
       "      <th>1</th>\n",
       "      <td>536365</td>\n",
       "      <td>71053</td>\n",
       "      <td>WHITE METAL LANTERN</td>\n",
       "      <td>6</td>\n",
       "      <td>2010-12-01 08:26:00</td>\n",
       "      <td>3.39</td>\n",
       "      <td>17850</td>\n",
       "      <td>United Kingdom</td>\n",
       "      <td>2010-12-02 15:27:00</td>\n",
       "    </tr>\n",
       "    <tr>\n",
       "      <th>2</th>\n",
       "      <td>536365</td>\n",
       "      <td>84406B</td>\n",
       "      <td>CREAM CUPID HEARTS COAT HANGER</td>\n",
       "      <td>8</td>\n",
       "      <td>2010-12-01 08:26:00</td>\n",
       "      <td>2.75</td>\n",
       "      <td>17850</td>\n",
       "      <td>United Kingdom</td>\n",
       "      <td>2010-12-02 15:27:00</td>\n",
       "    </tr>\n",
       "    <tr>\n",
       "      <th>3</th>\n",
       "      <td>536365</td>\n",
       "      <td>84029G</td>\n",
       "      <td>KNITTED UNION FLAG HOT WATER BOTTLE</td>\n",
       "      <td>6</td>\n",
       "      <td>2010-12-01 08:26:00</td>\n",
       "      <td>3.39</td>\n",
       "      <td>17850</td>\n",
       "      <td>United Kingdom</td>\n",
       "      <td>2010-12-02 15:27:00</td>\n",
       "    </tr>\n",
       "    <tr>\n",
       "      <th>4</th>\n",
       "      <td>536365</td>\n",
       "      <td>84029E</td>\n",
       "      <td>RED WOOLLY HOTTIE WHITE HEART.</td>\n",
       "      <td>6</td>\n",
       "      <td>2010-12-01 08:26:00</td>\n",
       "      <td>3.39</td>\n",
       "      <td>17850</td>\n",
       "      <td>United Kingdom</td>\n",
       "      <td>2010-12-02 15:27:00</td>\n",
       "    </tr>\n",
       "    <tr>\n",
       "      <th>...</th>\n",
       "      <td>...</td>\n",
       "      <td>...</td>\n",
       "      <td>...</td>\n",
       "      <td>...</td>\n",
       "      <td>...</td>\n",
       "      <td>...</td>\n",
       "      <td>...</td>\n",
       "      <td>...</td>\n",
       "      <td>...</td>\n",
       "    </tr>\n",
       "    <tr>\n",
       "      <th>397879</th>\n",
       "      <td>581587</td>\n",
       "      <td>22613</td>\n",
       "      <td>PACK OF 20 SPACEBOY NAPKINS</td>\n",
       "      <td>12</td>\n",
       "      <td>2011-12-09 12:50:00</td>\n",
       "      <td>0.85</td>\n",
       "      <td>12680</td>\n",
       "      <td>France</td>\n",
       "      <td>2011-12-09 12:50:00</td>\n",
       "    </tr>\n",
       "    <tr>\n",
       "      <th>397880</th>\n",
       "      <td>581587</td>\n",
       "      <td>22899</td>\n",
       "      <td>CHILDREN'S APRON DOLLY GIRL</td>\n",
       "      <td>6</td>\n",
       "      <td>2011-12-09 12:50:00</td>\n",
       "      <td>2.10</td>\n",
       "      <td>12680</td>\n",
       "      <td>France</td>\n",
       "      <td>2011-12-09 12:50:00</td>\n",
       "    </tr>\n",
       "    <tr>\n",
       "      <th>397881</th>\n",
       "      <td>581587</td>\n",
       "      <td>23254</td>\n",
       "      <td>CHILDRENS CUTLERY DOLLY GIRL</td>\n",
       "      <td>4</td>\n",
       "      <td>2011-12-09 12:50:00</td>\n",
       "      <td>4.15</td>\n",
       "      <td>12680</td>\n",
       "      <td>France</td>\n",
       "      <td>2011-12-09 12:50:00</td>\n",
       "    </tr>\n",
       "    <tr>\n",
       "      <th>397882</th>\n",
       "      <td>581587</td>\n",
       "      <td>23255</td>\n",
       "      <td>CHILDRENS CUTLERY CIRCUS PARADE</td>\n",
       "      <td>4</td>\n",
       "      <td>2011-12-09 12:50:00</td>\n",
       "      <td>4.15</td>\n",
       "      <td>12680</td>\n",
       "      <td>France</td>\n",
       "      <td>2011-12-09 12:50:00</td>\n",
       "    </tr>\n",
       "    <tr>\n",
       "      <th>397883</th>\n",
       "      <td>581587</td>\n",
       "      <td>22138</td>\n",
       "      <td>BAKING SET 9 PIECE RETROSPOT</td>\n",
       "      <td>3</td>\n",
       "      <td>2011-12-09 12:50:00</td>\n",
       "      <td>4.95</td>\n",
       "      <td>12680</td>\n",
       "      <td>France</td>\n",
       "      <td>2011-12-09 12:50:00</td>\n",
       "    </tr>\n",
       "  </tbody>\n",
       "</table>\n",
       "<p>397884 rows × 9 columns</p>\n",
       "</div>"
      ],
      "text/plain": [
       "       InvoiceNo StockCode                          Description  Quantity  \\\n",
       "0         536365    85123A   WHITE HANGING HEART T-LIGHT HOLDER         6   \n",
       "1         536365     71053                  WHITE METAL LANTERN         6   \n",
       "2         536365    84406B       CREAM CUPID HEARTS COAT HANGER         8   \n",
       "3         536365    84029G  KNITTED UNION FLAG HOT WATER BOTTLE         6   \n",
       "4         536365    84029E       RED WOOLLY HOTTIE WHITE HEART.         6   \n",
       "...          ...       ...                                  ...       ...   \n",
       "397879    581587     22613          PACK OF 20 SPACEBOY NAPKINS        12   \n",
       "397880    581587     22899         CHILDREN'S APRON DOLLY GIRL          6   \n",
       "397881    581587     23254        CHILDRENS CUTLERY DOLLY GIRL          4   \n",
       "397882    581587     23255      CHILDRENS CUTLERY CIRCUS PARADE         4   \n",
       "397883    581587     22138        BAKING SET 9 PIECE RETROSPOT          3   \n",
       "\n",
       "               InvoiceDate  UnitPrice  CustomerID         Country  \\\n",
       "0      2010-12-01 08:26:00       2.55       17850  United Kingdom   \n",
       "1      2010-12-01 08:26:00       3.39       17850  United Kingdom   \n",
       "2      2010-12-01 08:26:00       2.75       17850  United Kingdom   \n",
       "3      2010-12-01 08:26:00       3.39       17850  United Kingdom   \n",
       "4      2010-12-01 08:26:00       3.39       17850  United Kingdom   \n",
       "...                    ...        ...         ...             ...   \n",
       "397879 2011-12-09 12:50:00       0.85       12680          France   \n",
       "397880 2011-12-09 12:50:00       2.10       12680          France   \n",
       "397881 2011-12-09 12:50:00       4.15       12680          France   \n",
       "397882 2011-12-09 12:50:00       4.15       12680          France   \n",
       "397883 2011-12-09 12:50:00       4.95       12680          France   \n",
       "\n",
       "           LastTransaction  \n",
       "0      2010-12-02 15:27:00  \n",
       "1      2010-12-02 15:27:00  \n",
       "2      2010-12-02 15:27:00  \n",
       "3      2010-12-02 15:27:00  \n",
       "4      2010-12-02 15:27:00  \n",
       "...                    ...  \n",
       "397879 2011-12-09 12:50:00  \n",
       "397880 2011-12-09 12:50:00  \n",
       "397881 2011-12-09 12:50:00  \n",
       "397882 2011-12-09 12:50:00  \n",
       "397883 2011-12-09 12:50:00  \n",
       "\n",
       "[397884 rows x 9 columns]"
      ]
     },
     "execution_count": 13,
     "metadata": {},
     "output_type": "execute_result"
    }
   ],
   "source": [
    "df = df.merge(last_transaction, on='CustomerID', how='left')\n",
    "df"
   ]
  },
  {
   "cell_type": "code",
   "execution_count": 14,
   "id": "b841759b",
   "metadata": {},
   "outputs": [
    {
     "data": {
      "application/vnd.microsoft.datawrangler.viewer.v0+json": {
       "columns": [
        {
         "name": "index",
         "rawType": "int64",
         "type": "integer"
        },
        {
         "name": "InvoiceNo",
         "rawType": "string",
         "type": "string"
        },
        {
         "name": "StockCode",
         "rawType": "string",
         "type": "string"
        },
        {
         "name": "Description",
         "rawType": "string",
         "type": "string"
        },
        {
         "name": "Quantity",
         "rawType": "int64",
         "type": "integer"
        },
        {
         "name": "InvoiceDate",
         "rawType": "datetime64[ns]",
         "type": "datetime"
        },
        {
         "name": "UnitPrice",
         "rawType": "float64",
         "type": "float"
        },
        {
         "name": "CustomerID",
         "rawType": "Int64",
         "type": "integer"
        },
        {
         "name": "Country",
         "rawType": "category",
         "type": "unknown"
        },
        {
         "name": "LastTransaction",
         "rawType": "datetime64[ns]",
         "type": "datetime"
        },
        {
         "name": "days_since_last_trans",
         "rawType": "int64",
         "type": "integer"
        }
       ],
       "ref": "f4904772-e9fb-4917-9e4c-f082fc7da141",
       "rows": [
        [
         "0",
         "536365",
         "85123A",
         "WHITE HANGING HEART T-LIGHT HOLDER",
         "6",
         "2010-12-01 08:26:00",
         "2.55",
         "17850",
         "United Kingdom",
         "2010-12-02 15:27:00",
         "371"
        ],
        [
         "1",
         "536365",
         "71053",
         "WHITE METAL LANTERN",
         "6",
         "2010-12-01 08:26:00",
         "3.39",
         "17850",
         "United Kingdom",
         "2010-12-02 15:27:00",
         "371"
        ],
        [
         "2",
         "536365",
         "84406B",
         "CREAM CUPID HEARTS COAT HANGER",
         "8",
         "2010-12-01 08:26:00",
         "2.75",
         "17850",
         "United Kingdom",
         "2010-12-02 15:27:00",
         "371"
        ],
        [
         "3",
         "536365",
         "84029G",
         "KNITTED UNION FLAG HOT WATER BOTTLE",
         "6",
         "2010-12-01 08:26:00",
         "3.39",
         "17850",
         "United Kingdom",
         "2010-12-02 15:27:00",
         "371"
        ],
        [
         "4",
         "536365",
         "84029E",
         "RED WOOLLY HOTTIE WHITE HEART.",
         "6",
         "2010-12-01 08:26:00",
         "3.39",
         "17850",
         "United Kingdom",
         "2010-12-02 15:27:00",
         "371"
        ],
        [
         "5",
         "536365",
         "22752",
         "SET 7 BABUSHKA NESTING BOXES",
         "2",
         "2010-12-01 08:26:00",
         "7.65",
         "17850",
         "United Kingdom",
         "2010-12-02 15:27:00",
         "371"
        ],
        [
         "6",
         "536365",
         "21730",
         "GLASS STAR FROSTED T-LIGHT HOLDER",
         "6",
         "2010-12-01 08:26:00",
         "4.25",
         "17850",
         "United Kingdom",
         "2010-12-02 15:27:00",
         "371"
        ],
        [
         "7",
         "536366",
         "22633",
         "HAND WARMER UNION JACK",
         "6",
         "2010-12-01 08:28:00",
         "1.85",
         "17850",
         "United Kingdom",
         "2010-12-02 15:27:00",
         "371"
        ],
        [
         "8",
         "536366",
         "22632",
         "HAND WARMER RED POLKA DOT",
         "6",
         "2010-12-01 08:28:00",
         "1.85",
         "17850",
         "United Kingdom",
         "2010-12-02 15:27:00",
         "371"
        ],
        [
         "9",
         "536367",
         "84879",
         "ASSORTED COLOUR BIRD ORNAMENT",
         "32",
         "2010-12-01 08:34:00",
         "1.69",
         "13047",
         "United Kingdom",
         "2011-11-08 12:06:00",
         "31"
        ],
        [
         "10",
         "536367",
         "22745",
         "POPPY'S PLAYHOUSE BEDROOM ",
         "6",
         "2010-12-01 08:34:00",
         "2.1",
         "13047",
         "United Kingdom",
         "2011-11-08 12:06:00",
         "31"
        ],
        [
         "11",
         "536367",
         "22748",
         "POPPY'S PLAYHOUSE KITCHEN",
         "6",
         "2010-12-01 08:34:00",
         "2.1",
         "13047",
         "United Kingdom",
         "2011-11-08 12:06:00",
         "31"
        ],
        [
         "12",
         "536367",
         "22749",
         "FELTCRAFT PRINCESS CHARLOTTE DOLL",
         "8",
         "2010-12-01 08:34:00",
         "3.75",
         "13047",
         "United Kingdom",
         "2011-11-08 12:06:00",
         "31"
        ],
        [
         "13",
         "536367",
         "22310",
         "IVORY KNITTED MUG COSY ",
         "6",
         "2010-12-01 08:34:00",
         "1.65",
         "13047",
         "United Kingdom",
         "2011-11-08 12:06:00",
         "31"
        ],
        [
         "14",
         "536367",
         "84969",
         "BOX OF 6 ASSORTED COLOUR TEASPOONS",
         "6",
         "2010-12-01 08:34:00",
         "4.25",
         "13047",
         "United Kingdom",
         "2011-11-08 12:06:00",
         "31"
        ],
        [
         "15",
         "536367",
         "22623",
         "BOX OF VINTAGE JIGSAW BLOCKS ",
         "3",
         "2010-12-01 08:34:00",
         "4.95",
         "13047",
         "United Kingdom",
         "2011-11-08 12:06:00",
         "31"
        ],
        [
         "16",
         "536367",
         "22622",
         "BOX OF VINTAGE ALPHABET BLOCKS",
         "2",
         "2010-12-01 08:34:00",
         "9.95",
         "13047",
         "United Kingdom",
         "2011-11-08 12:06:00",
         "31"
        ],
        [
         "17",
         "536367",
         "21754",
         "HOME BUILDING BLOCK WORD",
         "3",
         "2010-12-01 08:34:00",
         "5.95",
         "13047",
         "United Kingdom",
         "2011-11-08 12:06:00",
         "31"
        ],
        [
         "18",
         "536367",
         "21755",
         "LOVE BUILDING BLOCK WORD",
         "3",
         "2010-12-01 08:34:00",
         "5.95",
         "13047",
         "United Kingdom",
         "2011-11-08 12:06:00",
         "31"
        ],
        [
         "19",
         "536367",
         "21777",
         "RECIPE BOX WITH METAL HEART",
         "4",
         "2010-12-01 08:34:00",
         "7.95",
         "13047",
         "United Kingdom",
         "2011-11-08 12:06:00",
         "31"
        ],
        [
         "20",
         "536367",
         "48187",
         "DOORMAT NEW ENGLAND",
         "4",
         "2010-12-01 08:34:00",
         "7.95",
         "13047",
         "United Kingdom",
         "2011-11-08 12:06:00",
         "31"
        ],
        [
         "21",
         "536368",
         "22960",
         "JAM MAKING SET WITH JARS",
         "6",
         "2010-12-01 08:34:00",
         "4.25",
         "13047",
         "United Kingdom",
         "2011-11-08 12:06:00",
         "31"
        ],
        [
         "22",
         "536368",
         "22913",
         "RED COAT RACK PARIS FASHION",
         "3",
         "2010-12-01 08:34:00",
         "4.95",
         "13047",
         "United Kingdom",
         "2011-11-08 12:06:00",
         "31"
        ],
        [
         "23",
         "536368",
         "22912",
         "YELLOW COAT RACK PARIS FASHION",
         "3",
         "2010-12-01 08:34:00",
         "4.95",
         "13047",
         "United Kingdom",
         "2011-11-08 12:06:00",
         "31"
        ],
        [
         "24",
         "536368",
         "22914",
         "BLUE COAT RACK PARIS FASHION",
         "3",
         "2010-12-01 08:34:00",
         "4.95",
         "13047",
         "United Kingdom",
         "2011-11-08 12:06:00",
         "31"
        ],
        [
         "25",
         "536369",
         "21756",
         "BATH BUILDING BLOCK WORD",
         "3",
         "2010-12-01 08:35:00",
         "5.95",
         "13047",
         "United Kingdom",
         "2011-11-08 12:06:00",
         "31"
        ],
        [
         "26",
         "536370",
         "22728",
         "ALARM CLOCK BAKELIKE PINK",
         "24",
         "2010-12-01 08:45:00",
         "3.75",
         "12583",
         "France",
         "2011-12-07 08:07:00",
         "2"
        ],
        [
         "27",
         "536370",
         "22727",
         "ALARM CLOCK BAKELIKE RED ",
         "24",
         "2010-12-01 08:45:00",
         "3.75",
         "12583",
         "France",
         "2011-12-07 08:07:00",
         "2"
        ],
        [
         "28",
         "536370",
         "22726",
         "ALARM CLOCK BAKELIKE GREEN",
         "12",
         "2010-12-01 08:45:00",
         "3.75",
         "12583",
         "France",
         "2011-12-07 08:07:00",
         "2"
        ],
        [
         "29",
         "536370",
         "21724",
         "PANDA AND BUNNIES STICKER SHEET",
         "12",
         "2010-12-01 08:45:00",
         "0.85",
         "12583",
         "France",
         "2011-12-07 08:07:00",
         "2"
        ],
        [
         "30",
         "536370",
         "21883",
         "STARS GIFT TAPE ",
         "24",
         "2010-12-01 08:45:00",
         "0.65",
         "12583",
         "France",
         "2011-12-07 08:07:00",
         "2"
        ],
        [
         "31",
         "536370",
         "10002",
         "INFLATABLE POLITICAL GLOBE ",
         "48",
         "2010-12-01 08:45:00",
         "0.85",
         "12583",
         "France",
         "2011-12-07 08:07:00",
         "2"
        ],
        [
         "32",
         "536370",
         "21791",
         "VINTAGE HEADS AND TAILS CARD GAME ",
         "24",
         "2010-12-01 08:45:00",
         "1.25",
         "12583",
         "France",
         "2011-12-07 08:07:00",
         "2"
        ],
        [
         "33",
         "536370",
         "21035",
         "SET/2 RED RETROSPOT TEA TOWELS ",
         "18",
         "2010-12-01 08:45:00",
         "2.95",
         "12583",
         "France",
         "2011-12-07 08:07:00",
         "2"
        ],
        [
         "34",
         "536370",
         "22326",
         "ROUND SNACK BOXES SET OF4 WOODLAND ",
         "24",
         "2010-12-01 08:45:00",
         "2.95",
         "12583",
         "France",
         "2011-12-07 08:07:00",
         "2"
        ],
        [
         "35",
         "536370",
         "22629",
         "SPACEBOY LUNCH BOX ",
         "24",
         "2010-12-01 08:45:00",
         "1.95",
         "12583",
         "France",
         "2011-12-07 08:07:00",
         "2"
        ],
        [
         "36",
         "536370",
         "22659",
         "LUNCH BOX I LOVE LONDON",
         "24",
         "2010-12-01 08:45:00",
         "1.95",
         "12583",
         "France",
         "2011-12-07 08:07:00",
         "2"
        ],
        [
         "37",
         "536370",
         "22631",
         "CIRCUS PARADE LUNCH BOX ",
         "24",
         "2010-12-01 08:45:00",
         "1.95",
         "12583",
         "France",
         "2011-12-07 08:07:00",
         "2"
        ],
        [
         "38",
         "536370",
         "22661",
         "CHARLOTTE BAG DOLLY GIRL DESIGN",
         "20",
         "2010-12-01 08:45:00",
         "0.85",
         "12583",
         "France",
         "2011-12-07 08:07:00",
         "2"
        ],
        [
         "39",
         "536370",
         "21731",
         "RED TOADSTOOL LED NIGHT LIGHT",
         "24",
         "2010-12-01 08:45:00",
         "1.65",
         "12583",
         "France",
         "2011-12-07 08:07:00",
         "2"
        ],
        [
         "40",
         "536370",
         "22900",
         " SET 2 TEA TOWELS I LOVE LONDON ",
         "24",
         "2010-12-01 08:45:00",
         "2.95",
         "12583",
         "France",
         "2011-12-07 08:07:00",
         "2"
        ],
        [
         "41",
         "536370",
         "21913",
         "VINTAGE SEASIDE JIGSAW PUZZLES",
         "12",
         "2010-12-01 08:45:00",
         "3.75",
         "12583",
         "France",
         "2011-12-07 08:07:00",
         "2"
        ],
        [
         "42",
         "536370",
         "22540",
         "MINI JIGSAW CIRCUS PARADE ",
         "24",
         "2010-12-01 08:45:00",
         "0.42",
         "12583",
         "France",
         "2011-12-07 08:07:00",
         "2"
        ],
        [
         "43",
         "536370",
         "22544",
         "MINI JIGSAW SPACEBOY",
         "24",
         "2010-12-01 08:45:00",
         "0.42",
         "12583",
         "France",
         "2011-12-07 08:07:00",
         "2"
        ],
        [
         "44",
         "536370",
         "22492",
         "MINI PAINT SET VINTAGE ",
         "36",
         "2010-12-01 08:45:00",
         "0.65",
         "12583",
         "France",
         "2011-12-07 08:07:00",
         "2"
        ],
        [
         "45",
         "536370",
         "POST",
         "POSTAGE",
         "3",
         "2010-12-01 08:45:00",
         "18.0",
         "12583",
         "France",
         "2011-12-07 08:07:00",
         "2"
        ],
        [
         "46",
         "536371",
         "22086",
         "PAPER CHAIN KIT 50'S CHRISTMAS ",
         "80",
         "2010-12-01 09:00:00",
         "2.55",
         "13748",
         "United Kingdom",
         "2011-09-05 09:45:00",
         "95"
        ],
        [
         "47",
         "536372",
         "22632",
         "HAND WARMER RED POLKA DOT",
         "6",
         "2010-12-01 09:01:00",
         "1.85",
         "17850",
         "United Kingdom",
         "2010-12-02 15:27:00",
         "371"
        ],
        [
         "48",
         "536372",
         "22633",
         "HAND WARMER UNION JACK",
         "6",
         "2010-12-01 09:01:00",
         "1.85",
         "17850",
         "United Kingdom",
         "2010-12-02 15:27:00",
         "371"
        ],
        [
         "49",
         "536373",
         "85123A",
         "WHITE HANGING HEART T-LIGHT HOLDER",
         "6",
         "2010-12-01 09:02:00",
         "2.55",
         "17850",
         "United Kingdom",
         "2010-12-02 15:27:00",
         "371"
        ]
       ],
       "shape": {
        "columns": 10,
        "rows": 397884
       }
      },
      "text/html": [
       "<div>\n",
       "<style scoped>\n",
       "    .dataframe tbody tr th:only-of-type {\n",
       "        vertical-align: middle;\n",
       "    }\n",
       "\n",
       "    .dataframe tbody tr th {\n",
       "        vertical-align: top;\n",
       "    }\n",
       "\n",
       "    .dataframe thead th {\n",
       "        text-align: right;\n",
       "    }\n",
       "</style>\n",
       "<table border=\"1\" class=\"dataframe\">\n",
       "  <thead>\n",
       "    <tr style=\"text-align: right;\">\n",
       "      <th></th>\n",
       "      <th>InvoiceNo</th>\n",
       "      <th>StockCode</th>\n",
       "      <th>Description</th>\n",
       "      <th>Quantity</th>\n",
       "      <th>InvoiceDate</th>\n",
       "      <th>UnitPrice</th>\n",
       "      <th>CustomerID</th>\n",
       "      <th>Country</th>\n",
       "      <th>LastTransaction</th>\n",
       "      <th>days_since_last_trans</th>\n",
       "    </tr>\n",
       "  </thead>\n",
       "  <tbody>\n",
       "    <tr>\n",
       "      <th>0</th>\n",
       "      <td>536365</td>\n",
       "      <td>85123A</td>\n",
       "      <td>WHITE HANGING HEART T-LIGHT HOLDER</td>\n",
       "      <td>6</td>\n",
       "      <td>2010-12-01 08:26:00</td>\n",
       "      <td>2.55</td>\n",
       "      <td>17850</td>\n",
       "      <td>United Kingdom</td>\n",
       "      <td>2010-12-02 15:27:00</td>\n",
       "      <td>371</td>\n",
       "    </tr>\n",
       "    <tr>\n",
       "      <th>1</th>\n",
       "      <td>536365</td>\n",
       "      <td>71053</td>\n",
       "      <td>WHITE METAL LANTERN</td>\n",
       "      <td>6</td>\n",
       "      <td>2010-12-01 08:26:00</td>\n",
       "      <td>3.39</td>\n",
       "      <td>17850</td>\n",
       "      <td>United Kingdom</td>\n",
       "      <td>2010-12-02 15:27:00</td>\n",
       "      <td>371</td>\n",
       "    </tr>\n",
       "    <tr>\n",
       "      <th>2</th>\n",
       "      <td>536365</td>\n",
       "      <td>84406B</td>\n",
       "      <td>CREAM CUPID HEARTS COAT HANGER</td>\n",
       "      <td>8</td>\n",
       "      <td>2010-12-01 08:26:00</td>\n",
       "      <td>2.75</td>\n",
       "      <td>17850</td>\n",
       "      <td>United Kingdom</td>\n",
       "      <td>2010-12-02 15:27:00</td>\n",
       "      <td>371</td>\n",
       "    </tr>\n",
       "    <tr>\n",
       "      <th>3</th>\n",
       "      <td>536365</td>\n",
       "      <td>84029G</td>\n",
       "      <td>KNITTED UNION FLAG HOT WATER BOTTLE</td>\n",
       "      <td>6</td>\n",
       "      <td>2010-12-01 08:26:00</td>\n",
       "      <td>3.39</td>\n",
       "      <td>17850</td>\n",
       "      <td>United Kingdom</td>\n",
       "      <td>2010-12-02 15:27:00</td>\n",
       "      <td>371</td>\n",
       "    </tr>\n",
       "    <tr>\n",
       "      <th>4</th>\n",
       "      <td>536365</td>\n",
       "      <td>84029E</td>\n",
       "      <td>RED WOOLLY HOTTIE WHITE HEART.</td>\n",
       "      <td>6</td>\n",
       "      <td>2010-12-01 08:26:00</td>\n",
       "      <td>3.39</td>\n",
       "      <td>17850</td>\n",
       "      <td>United Kingdom</td>\n",
       "      <td>2010-12-02 15:27:00</td>\n",
       "      <td>371</td>\n",
       "    </tr>\n",
       "    <tr>\n",
       "      <th>...</th>\n",
       "      <td>...</td>\n",
       "      <td>...</td>\n",
       "      <td>...</td>\n",
       "      <td>...</td>\n",
       "      <td>...</td>\n",
       "      <td>...</td>\n",
       "      <td>...</td>\n",
       "      <td>...</td>\n",
       "      <td>...</td>\n",
       "      <td>...</td>\n",
       "    </tr>\n",
       "    <tr>\n",
       "      <th>397879</th>\n",
       "      <td>581587</td>\n",
       "      <td>22613</td>\n",
       "      <td>PACK OF 20 SPACEBOY NAPKINS</td>\n",
       "      <td>12</td>\n",
       "      <td>2011-12-09 12:50:00</td>\n",
       "      <td>0.85</td>\n",
       "      <td>12680</td>\n",
       "      <td>France</td>\n",
       "      <td>2011-12-09 12:50:00</td>\n",
       "      <td>0</td>\n",
       "    </tr>\n",
       "    <tr>\n",
       "      <th>397880</th>\n",
       "      <td>581587</td>\n",
       "      <td>22899</td>\n",
       "      <td>CHILDREN'S APRON DOLLY GIRL</td>\n",
       "      <td>6</td>\n",
       "      <td>2011-12-09 12:50:00</td>\n",
       "      <td>2.10</td>\n",
       "      <td>12680</td>\n",
       "      <td>France</td>\n",
       "      <td>2011-12-09 12:50:00</td>\n",
       "      <td>0</td>\n",
       "    </tr>\n",
       "    <tr>\n",
       "      <th>397881</th>\n",
       "      <td>581587</td>\n",
       "      <td>23254</td>\n",
       "      <td>CHILDRENS CUTLERY DOLLY GIRL</td>\n",
       "      <td>4</td>\n",
       "      <td>2011-12-09 12:50:00</td>\n",
       "      <td>4.15</td>\n",
       "      <td>12680</td>\n",
       "      <td>France</td>\n",
       "      <td>2011-12-09 12:50:00</td>\n",
       "      <td>0</td>\n",
       "    </tr>\n",
       "    <tr>\n",
       "      <th>397882</th>\n",
       "      <td>581587</td>\n",
       "      <td>23255</td>\n",
       "      <td>CHILDRENS CUTLERY CIRCUS PARADE</td>\n",
       "      <td>4</td>\n",
       "      <td>2011-12-09 12:50:00</td>\n",
       "      <td>4.15</td>\n",
       "      <td>12680</td>\n",
       "      <td>France</td>\n",
       "      <td>2011-12-09 12:50:00</td>\n",
       "      <td>0</td>\n",
       "    </tr>\n",
       "    <tr>\n",
       "      <th>397883</th>\n",
       "      <td>581587</td>\n",
       "      <td>22138</td>\n",
       "      <td>BAKING SET 9 PIECE RETROSPOT</td>\n",
       "      <td>3</td>\n",
       "      <td>2011-12-09 12:50:00</td>\n",
       "      <td>4.95</td>\n",
       "      <td>12680</td>\n",
       "      <td>France</td>\n",
       "      <td>2011-12-09 12:50:00</td>\n",
       "      <td>0</td>\n",
       "    </tr>\n",
       "  </tbody>\n",
       "</table>\n",
       "<p>397884 rows × 10 columns</p>\n",
       "</div>"
      ],
      "text/plain": [
       "       InvoiceNo StockCode                          Description  Quantity  \\\n",
       "0         536365    85123A   WHITE HANGING HEART T-LIGHT HOLDER         6   \n",
       "1         536365     71053                  WHITE METAL LANTERN         6   \n",
       "2         536365    84406B       CREAM CUPID HEARTS COAT HANGER         8   \n",
       "3         536365    84029G  KNITTED UNION FLAG HOT WATER BOTTLE         6   \n",
       "4         536365    84029E       RED WOOLLY HOTTIE WHITE HEART.         6   \n",
       "...          ...       ...                                  ...       ...   \n",
       "397879    581587     22613          PACK OF 20 SPACEBOY NAPKINS        12   \n",
       "397880    581587     22899         CHILDREN'S APRON DOLLY GIRL          6   \n",
       "397881    581587     23254        CHILDRENS CUTLERY DOLLY GIRL          4   \n",
       "397882    581587     23255      CHILDRENS CUTLERY CIRCUS PARADE         4   \n",
       "397883    581587     22138        BAKING SET 9 PIECE RETROSPOT          3   \n",
       "\n",
       "               InvoiceDate  UnitPrice  CustomerID         Country  \\\n",
       "0      2010-12-01 08:26:00       2.55       17850  United Kingdom   \n",
       "1      2010-12-01 08:26:00       3.39       17850  United Kingdom   \n",
       "2      2010-12-01 08:26:00       2.75       17850  United Kingdom   \n",
       "3      2010-12-01 08:26:00       3.39       17850  United Kingdom   \n",
       "4      2010-12-01 08:26:00       3.39       17850  United Kingdom   \n",
       "...                    ...        ...         ...             ...   \n",
       "397879 2011-12-09 12:50:00       0.85       12680          France   \n",
       "397880 2011-12-09 12:50:00       2.10       12680          France   \n",
       "397881 2011-12-09 12:50:00       4.15       12680          France   \n",
       "397882 2011-12-09 12:50:00       4.15       12680          France   \n",
       "397883 2011-12-09 12:50:00       4.95       12680          France   \n",
       "\n",
       "           LastTransaction  days_since_last_trans  \n",
       "0      2010-12-02 15:27:00                    371  \n",
       "1      2010-12-02 15:27:00                    371  \n",
       "2      2010-12-02 15:27:00                    371  \n",
       "3      2010-12-02 15:27:00                    371  \n",
       "4      2010-12-02 15:27:00                    371  \n",
       "...                    ...                    ...  \n",
       "397879 2011-12-09 12:50:00                      0  \n",
       "397880 2011-12-09 12:50:00                      0  \n",
       "397881 2011-12-09 12:50:00                      0  \n",
       "397882 2011-12-09 12:50:00                      0  \n",
       "397883 2011-12-09 12:50:00                      0  \n",
       "\n",
       "[397884 rows x 10 columns]"
      ]
     },
     "execution_count": 14,
     "metadata": {},
     "output_type": "execute_result"
    }
   ],
   "source": [
    "df['days_since_last_trans'] = (datenow - df['LastTransaction']).dt.days\n",
    "df\n"
   ]
  },
  {
   "cell_type": "code",
   "execution_count": 15,
   "id": "1dec62a7",
   "metadata": {},
   "outputs": [
    {
     "data": {
      "application/vnd.microsoft.datawrangler.viewer.v0+json": {
       "columns": [
        {
         "name": "index",
         "rawType": "int64",
         "type": "integer"
        },
        {
         "name": "CustomerID",
         "rawType": "Int64",
         "type": "integer"
        },
        {
         "name": "days_since_last_trans",
         "rawType": "int64",
         "type": "integer"
        }
       ],
       "ref": "b3942543-ef5f-4290-9a07-62f982d63cba",
       "rows": [
        [
         "0",
         "12346",
         "325"
        ],
        [
         "1",
         "12347",
         "1"
        ],
        [
         "2",
         "12348",
         "74"
        ],
        [
         "3",
         "12349",
         "18"
        ],
        [
         "4",
         "12350",
         "309"
        ],
        [
         "5",
         "12352",
         "35"
        ],
        [
         "6",
         "12353",
         "203"
        ],
        [
         "7",
         "12354",
         "231"
        ],
        [
         "8",
         "12355",
         "213"
        ],
        [
         "9",
         "12356",
         "22"
        ],
        [
         "10",
         "12357",
         "32"
        ],
        [
         "11",
         "12358",
         "1"
        ],
        [
         "12",
         "12359",
         "57"
        ],
        [
         "13",
         "12360",
         "51"
        ],
        [
         "14",
         "12361",
         "286"
        ],
        [
         "15",
         "12362",
         "2"
        ],
        [
         "16",
         "12363",
         "109"
        ],
        [
         "17",
         "12364",
         "7"
        ],
        [
         "18",
         "12365",
         "290"
        ],
        [
         "19",
         "12367",
         "3"
        ],
        [
         "20",
         "12370",
         "50"
        ],
        [
         "21",
         "12371",
         "44"
        ],
        [
         "22",
         "12372",
         "71"
        ],
        [
         "23",
         "12373",
         "310"
        ],
        [
         "24",
         "12374",
         "24"
        ],
        [
         "25",
         "12375",
         "10"
        ],
        [
         "26",
         "12377",
         "314"
        ],
        [
         "27",
         "12378",
         "129"
        ],
        [
         "28",
         "12379",
         "81"
        ],
        [
         "29",
         "12380",
         "21"
        ],
        [
         "30",
         "12381",
         "4"
        ],
        [
         "31",
         "12383",
         "184"
        ],
        [
         "32",
         "12384",
         "28"
        ],
        [
         "33",
         "12386",
         "337"
        ],
        [
         "34",
         "12388",
         "15"
        ],
        [
         "35",
         "12390",
         "79"
        ],
        [
         "36",
         "12391",
         "21"
        ],
        [
         "37",
         "12393",
         "71"
        ],
        [
         "38",
         "12394",
         "63"
        ],
        [
         "39",
         "12395",
         "18"
        ],
        [
         "40",
         "12397",
         "35"
        ],
        [
         "41",
         "12398",
         "45"
        ],
        [
         "42",
         "12399",
         "118"
        ],
        [
         "43",
         "12401",
         "302"
        ],
        [
         "44",
         "12402",
         "322"
        ],
        [
         "45",
         "12403",
         "49"
        ],
        [
         "46",
         "12405",
         "148"
        ],
        [
         "47",
         "12406",
         "21"
        ],
        [
         "48",
         "12407",
         "49"
        ],
        [
         "49",
         "12408",
         "32"
        ]
       ],
       "shape": {
        "columns": 2,
        "rows": 4338
       }
      },
      "text/html": [
       "<div>\n",
       "<style scoped>\n",
       "    .dataframe tbody tr th:only-of-type {\n",
       "        vertical-align: middle;\n",
       "    }\n",
       "\n",
       "    .dataframe tbody tr th {\n",
       "        vertical-align: top;\n",
       "    }\n",
       "\n",
       "    .dataframe thead th {\n",
       "        text-align: right;\n",
       "    }\n",
       "</style>\n",
       "<table border=\"1\" class=\"dataframe\">\n",
       "  <thead>\n",
       "    <tr style=\"text-align: right;\">\n",
       "      <th></th>\n",
       "      <th>CustomerID</th>\n",
       "      <th>days_since_last_trans</th>\n",
       "    </tr>\n",
       "  </thead>\n",
       "  <tbody>\n",
       "    <tr>\n",
       "      <th>0</th>\n",
       "      <td>12346</td>\n",
       "      <td>325</td>\n",
       "    </tr>\n",
       "    <tr>\n",
       "      <th>1</th>\n",
       "      <td>12347</td>\n",
       "      <td>1</td>\n",
       "    </tr>\n",
       "    <tr>\n",
       "      <th>2</th>\n",
       "      <td>12348</td>\n",
       "      <td>74</td>\n",
       "    </tr>\n",
       "    <tr>\n",
       "      <th>3</th>\n",
       "      <td>12349</td>\n",
       "      <td>18</td>\n",
       "    </tr>\n",
       "    <tr>\n",
       "      <th>4</th>\n",
       "      <td>12350</td>\n",
       "      <td>309</td>\n",
       "    </tr>\n",
       "    <tr>\n",
       "      <th>...</th>\n",
       "      <td>...</td>\n",
       "      <td>...</td>\n",
       "    </tr>\n",
       "    <tr>\n",
       "      <th>4333</th>\n",
       "      <td>18280</td>\n",
       "      <td>277</td>\n",
       "    </tr>\n",
       "    <tr>\n",
       "      <th>4334</th>\n",
       "      <td>18281</td>\n",
       "      <td>180</td>\n",
       "    </tr>\n",
       "    <tr>\n",
       "      <th>4335</th>\n",
       "      <td>18282</td>\n",
       "      <td>7</td>\n",
       "    </tr>\n",
       "    <tr>\n",
       "      <th>4336</th>\n",
       "      <td>18283</td>\n",
       "      <td>3</td>\n",
       "    </tr>\n",
       "    <tr>\n",
       "      <th>4337</th>\n",
       "      <td>18287</td>\n",
       "      <td>42</td>\n",
       "    </tr>\n",
       "  </tbody>\n",
       "</table>\n",
       "<p>4338 rows × 2 columns</p>\n",
       "</div>"
      ],
      "text/plain": [
       "      CustomerID  days_since_last_trans\n",
       "0          12346                    325\n",
       "1          12347                      1\n",
       "2          12348                     74\n",
       "3          12349                     18\n",
       "4          12350                    309\n",
       "...          ...                    ...\n",
       "4333       18280                    277\n",
       "4334       18281                    180\n",
       "4335       18282                      7\n",
       "4336       18283                      3\n",
       "4337       18287                     42\n",
       "\n",
       "[4338 rows x 2 columns]"
      ]
     },
     "execution_count": 15,
     "metadata": {},
     "output_type": "execute_result"
    }
   ],
   "source": [
    "last_trans = df.loc[:,['CustomerID','days_since_last_trans']]\n",
    "last_trans = last_trans.groupby('CustomerID')['days_since_last_trans'].max().reset_index()\n",
    "last_trans"
   ]
  },
  {
   "cell_type": "code",
   "execution_count": 16,
   "id": "a43fe3e9",
   "metadata": {},
   "outputs": [
    {
     "data": {
      "application/vnd.microsoft.datawrangler.viewer.v0+json": {
       "columns": [
        {
         "name": "index",
         "rawType": "int64",
         "type": "integer"
        },
        {
         "name": "CustomerID",
         "rawType": "Int64",
         "type": "integer"
        },
        {
         "name": "TotalCount",
         "rawType": "int64",
         "type": "integer"
        }
       ],
       "ref": "7a9515d5-4ed7-4fd6-ab51-de061225f28a",
       "rows": [
        [
         "0",
         "12346",
         "1"
        ],
        [
         "1",
         "12347",
         "7"
        ],
        [
         "2",
         "12348",
         "4"
        ],
        [
         "3",
         "12349",
         "1"
        ],
        [
         "4",
         "12350",
         "1"
        ],
        [
         "5",
         "12352",
         "8"
        ],
        [
         "6",
         "12353",
         "1"
        ],
        [
         "7",
         "12354",
         "1"
        ],
        [
         "8",
         "12355",
         "1"
        ],
        [
         "9",
         "12356",
         "3"
        ],
        [
         "10",
         "12357",
         "1"
        ],
        [
         "11",
         "12358",
         "2"
        ],
        [
         "12",
         "12359",
         "4"
        ],
        [
         "13",
         "12360",
         "3"
        ],
        [
         "14",
         "12361",
         "1"
        ],
        [
         "15",
         "12362",
         "10"
        ],
        [
         "16",
         "12363",
         "2"
        ],
        [
         "17",
         "12364",
         "4"
        ],
        [
         "18",
         "12365",
         "2"
        ],
        [
         "19",
         "12367",
         "1"
        ],
        [
         "20",
         "12370",
         "4"
        ],
        [
         "21",
         "12371",
         "2"
        ],
        [
         "22",
         "12372",
         "3"
        ],
        [
         "23",
         "12373",
         "1"
        ],
        [
         "24",
         "12374",
         "1"
        ],
        [
         "25",
         "12375",
         "2"
        ],
        [
         "26",
         "12377",
         "2"
        ],
        [
         "27",
         "12378",
         "1"
        ],
        [
         "28",
         "12379",
         "2"
        ],
        [
         "29",
         "12380",
         "4"
        ],
        [
         "30",
         "12381",
         "5"
        ],
        [
         "31",
         "12383",
         "5"
        ],
        [
         "32",
         "12384",
         "2"
        ],
        [
         "33",
         "12386",
         "2"
        ],
        [
         "34",
         "12388",
         "6"
        ],
        [
         "35",
         "12390",
         "1"
        ],
        [
         "36",
         "12391",
         "1"
        ],
        [
         "37",
         "12393",
         "4"
        ],
        [
         "38",
         "12394",
         "2"
        ],
        [
         "39",
         "12395",
         "12"
        ],
        [
         "40",
         "12397",
         "2"
        ],
        [
         "41",
         "12398",
         "1"
        ],
        [
         "42",
         "12399",
         "4"
        ],
        [
         "43",
         "12401",
         "1"
        ],
        [
         "44",
         "12402",
         "1"
        ],
        [
         "45",
         "12403",
         "1"
        ],
        [
         "46",
         "12405",
         "1"
        ],
        [
         "47",
         "12406",
         "2"
        ],
        [
         "48",
         "12407",
         "5"
        ],
        [
         "49",
         "12408",
         "5"
        ]
       ],
       "shape": {
        "columns": 2,
        "rows": 4338
       }
      },
      "text/html": [
       "<div>\n",
       "<style scoped>\n",
       "    .dataframe tbody tr th:only-of-type {\n",
       "        vertical-align: middle;\n",
       "    }\n",
       "\n",
       "    .dataframe tbody tr th {\n",
       "        vertical-align: top;\n",
       "    }\n",
       "\n",
       "    .dataframe thead th {\n",
       "        text-align: right;\n",
       "    }\n",
       "</style>\n",
       "<table border=\"1\" class=\"dataframe\">\n",
       "  <thead>\n",
       "    <tr style=\"text-align: right;\">\n",
       "      <th></th>\n",
       "      <th>CustomerID</th>\n",
       "      <th>TotalCount</th>\n",
       "    </tr>\n",
       "  </thead>\n",
       "  <tbody>\n",
       "    <tr>\n",
       "      <th>0</th>\n",
       "      <td>12346</td>\n",
       "      <td>1</td>\n",
       "    </tr>\n",
       "    <tr>\n",
       "      <th>1</th>\n",
       "      <td>12347</td>\n",
       "      <td>7</td>\n",
       "    </tr>\n",
       "    <tr>\n",
       "      <th>2</th>\n",
       "      <td>12348</td>\n",
       "      <td>4</td>\n",
       "    </tr>\n",
       "    <tr>\n",
       "      <th>3</th>\n",
       "      <td>12349</td>\n",
       "      <td>1</td>\n",
       "    </tr>\n",
       "    <tr>\n",
       "      <th>4</th>\n",
       "      <td>12350</td>\n",
       "      <td>1</td>\n",
       "    </tr>\n",
       "    <tr>\n",
       "      <th>...</th>\n",
       "      <td>...</td>\n",
       "      <td>...</td>\n",
       "    </tr>\n",
       "    <tr>\n",
       "      <th>4333</th>\n",
       "      <td>18280</td>\n",
       "      <td>1</td>\n",
       "    </tr>\n",
       "    <tr>\n",
       "      <th>4334</th>\n",
       "      <td>18281</td>\n",
       "      <td>1</td>\n",
       "    </tr>\n",
       "    <tr>\n",
       "      <th>4335</th>\n",
       "      <td>18282</td>\n",
       "      <td>2</td>\n",
       "    </tr>\n",
       "    <tr>\n",
       "      <th>4336</th>\n",
       "      <td>18283</td>\n",
       "      <td>16</td>\n",
       "    </tr>\n",
       "    <tr>\n",
       "      <th>4337</th>\n",
       "      <td>18287</td>\n",
       "      <td>3</td>\n",
       "    </tr>\n",
       "  </tbody>\n",
       "</table>\n",
       "<p>4338 rows × 2 columns</p>\n",
       "</div>"
      ],
      "text/plain": [
       "      CustomerID  TotalCount\n",
       "0          12346           1\n",
       "1          12347           7\n",
       "2          12348           4\n",
       "3          12349           1\n",
       "4          12350           1\n",
       "...          ...         ...\n",
       "4333       18280           1\n",
       "4334       18281           1\n",
       "4335       18282           2\n",
       "4336       18283          16\n",
       "4337       18287           3\n",
       "\n",
       "[4338 rows x 2 columns]"
      ]
     },
     "execution_count": 16,
     "metadata": {},
     "output_type": "execute_result"
    }
   ],
   "source": [
    "freq = df.groupby('CustomerID')['InvoiceNo'].nunique().reset_index()\n",
    "freq = freq.rename(columns={'InvoiceNo':'TotalCount'})\n",
    "freq"
   ]
  },
  {
   "cell_type": "code",
   "execution_count": 17,
   "id": "e68bb09f",
   "metadata": {},
   "outputs": [
    {
     "data": {
      "application/vnd.microsoft.datawrangler.viewer.v0+json": {
       "columns": [
        {
         "name": "index",
         "rawType": "int64",
         "type": "integer"
        },
        {
         "name": "CustomerID",
         "rawType": "Int64",
         "type": "integer"
        },
        {
         "name": "days_since_last_trans",
         "rawType": "int64",
         "type": "integer"
        },
        {
         "name": "TotalCount",
         "rawType": "int64",
         "type": "integer"
        }
       ],
       "ref": "f9670ec6-71b1-443f-8e42-9174031e577e",
       "rows": [
        [
         "0",
         "12346",
         "325",
         "1"
        ],
        [
         "1",
         "12347",
         "1",
         "7"
        ],
        [
         "2",
         "12348",
         "74",
         "4"
        ],
        [
         "3",
         "12349",
         "18",
         "1"
        ],
        [
         "4",
         "12350",
         "309",
         "1"
        ],
        [
         "5",
         "12352",
         "35",
         "8"
        ],
        [
         "6",
         "12353",
         "203",
         "1"
        ],
        [
         "7",
         "12354",
         "231",
         "1"
        ],
        [
         "8",
         "12355",
         "213",
         "1"
        ],
        [
         "9",
         "12356",
         "22",
         "3"
        ],
        [
         "10",
         "12357",
         "32",
         "1"
        ],
        [
         "11",
         "12358",
         "1",
         "2"
        ],
        [
         "12",
         "12359",
         "57",
         "4"
        ],
        [
         "13",
         "12360",
         "51",
         "3"
        ],
        [
         "14",
         "12361",
         "286",
         "1"
        ],
        [
         "15",
         "12362",
         "2",
         "10"
        ],
        [
         "16",
         "12363",
         "109",
         "2"
        ],
        [
         "17",
         "12364",
         "7",
         "4"
        ],
        [
         "18",
         "12365",
         "290",
         "2"
        ],
        [
         "19",
         "12367",
         "3",
         "1"
        ],
        [
         "20",
         "12370",
         "50",
         "4"
        ],
        [
         "21",
         "12371",
         "44",
         "2"
        ],
        [
         "22",
         "12372",
         "71",
         "3"
        ],
        [
         "23",
         "12373",
         "310",
         "1"
        ],
        [
         "24",
         "12374",
         "24",
         "1"
        ],
        [
         "25",
         "12375",
         "10",
         "2"
        ],
        [
         "26",
         "12377",
         "314",
         "2"
        ],
        [
         "27",
         "12378",
         "129",
         "1"
        ],
        [
         "28",
         "12379",
         "81",
         "2"
        ],
        [
         "29",
         "12380",
         "21",
         "4"
        ],
        [
         "30",
         "12381",
         "4",
         "5"
        ],
        [
         "31",
         "12383",
         "184",
         "5"
        ],
        [
         "32",
         "12384",
         "28",
         "2"
        ],
        [
         "33",
         "12386",
         "337",
         "2"
        ],
        [
         "34",
         "12388",
         "15",
         "6"
        ],
        [
         "35",
         "12390",
         "79",
         "1"
        ],
        [
         "36",
         "12391",
         "21",
         "1"
        ],
        [
         "37",
         "12393",
         "71",
         "4"
        ],
        [
         "38",
         "12394",
         "63",
         "2"
        ],
        [
         "39",
         "12395",
         "18",
         "12"
        ],
        [
         "40",
         "12397",
         "35",
         "2"
        ],
        [
         "41",
         "12398",
         "45",
         "1"
        ],
        [
         "42",
         "12399",
         "118",
         "4"
        ],
        [
         "43",
         "12401",
         "302",
         "1"
        ],
        [
         "44",
         "12402",
         "322",
         "1"
        ],
        [
         "45",
         "12403",
         "49",
         "1"
        ],
        [
         "46",
         "12405",
         "148",
         "1"
        ],
        [
         "47",
         "12406",
         "21",
         "2"
        ],
        [
         "48",
         "12407",
         "49",
         "5"
        ],
        [
         "49",
         "12408",
         "32",
         "5"
        ]
       ],
       "shape": {
        "columns": 3,
        "rows": 4338
       }
      },
      "text/html": [
       "<div>\n",
       "<style scoped>\n",
       "    .dataframe tbody tr th:only-of-type {\n",
       "        vertical-align: middle;\n",
       "    }\n",
       "\n",
       "    .dataframe tbody tr th {\n",
       "        vertical-align: top;\n",
       "    }\n",
       "\n",
       "    .dataframe thead th {\n",
       "        text-align: right;\n",
       "    }\n",
       "</style>\n",
       "<table border=\"1\" class=\"dataframe\">\n",
       "  <thead>\n",
       "    <tr style=\"text-align: right;\">\n",
       "      <th></th>\n",
       "      <th>CustomerID</th>\n",
       "      <th>days_since_last_trans</th>\n",
       "      <th>TotalCount</th>\n",
       "    </tr>\n",
       "  </thead>\n",
       "  <tbody>\n",
       "    <tr>\n",
       "      <th>0</th>\n",
       "      <td>12346</td>\n",
       "      <td>325</td>\n",
       "      <td>1</td>\n",
       "    </tr>\n",
       "    <tr>\n",
       "      <th>1</th>\n",
       "      <td>12347</td>\n",
       "      <td>1</td>\n",
       "      <td>7</td>\n",
       "    </tr>\n",
       "    <tr>\n",
       "      <th>2</th>\n",
       "      <td>12348</td>\n",
       "      <td>74</td>\n",
       "      <td>4</td>\n",
       "    </tr>\n",
       "    <tr>\n",
       "      <th>3</th>\n",
       "      <td>12349</td>\n",
       "      <td>18</td>\n",
       "      <td>1</td>\n",
       "    </tr>\n",
       "    <tr>\n",
       "      <th>4</th>\n",
       "      <td>12350</td>\n",
       "      <td>309</td>\n",
       "      <td>1</td>\n",
       "    </tr>\n",
       "    <tr>\n",
       "      <th>...</th>\n",
       "      <td>...</td>\n",
       "      <td>...</td>\n",
       "      <td>...</td>\n",
       "    </tr>\n",
       "    <tr>\n",
       "      <th>4333</th>\n",
       "      <td>18280</td>\n",
       "      <td>277</td>\n",
       "      <td>1</td>\n",
       "    </tr>\n",
       "    <tr>\n",
       "      <th>4334</th>\n",
       "      <td>18281</td>\n",
       "      <td>180</td>\n",
       "      <td>1</td>\n",
       "    </tr>\n",
       "    <tr>\n",
       "      <th>4335</th>\n",
       "      <td>18282</td>\n",
       "      <td>7</td>\n",
       "      <td>2</td>\n",
       "    </tr>\n",
       "    <tr>\n",
       "      <th>4336</th>\n",
       "      <td>18283</td>\n",
       "      <td>3</td>\n",
       "      <td>16</td>\n",
       "    </tr>\n",
       "    <tr>\n",
       "      <th>4337</th>\n",
       "      <td>18287</td>\n",
       "      <td>42</td>\n",
       "      <td>3</td>\n",
       "    </tr>\n",
       "  </tbody>\n",
       "</table>\n",
       "<p>4338 rows × 3 columns</p>\n",
       "</div>"
      ],
      "text/plain": [
       "      CustomerID  days_since_last_trans  TotalCount\n",
       "0          12346                    325           1\n",
       "1          12347                      1           7\n",
       "2          12348                     74           4\n",
       "3          12349                     18           1\n",
       "4          12350                    309           1\n",
       "...          ...                    ...         ...\n",
       "4333       18280                    277           1\n",
       "4334       18281                    180           1\n",
       "4335       18282                      7           2\n",
       "4336       18283                      3          16\n",
       "4337       18287                     42           3\n",
       "\n",
       "[4338 rows x 3 columns]"
      ]
     },
     "execution_count": 17,
     "metadata": {},
     "output_type": "execute_result"
    }
   ],
   "source": [
    "rfm = last_trans.merge(freq, on = 'CustomerID', how='left')\n",
    "rfm"
   ]
  },
  {
   "cell_type": "code",
   "execution_count": 18,
   "id": "6dd80572",
   "metadata": {},
   "outputs": [
    {
     "data": {
      "application/vnd.microsoft.datawrangler.viewer.v0+json": {
       "columns": [
        {
         "name": "index",
         "rawType": "int64",
         "type": "integer"
        },
        {
         "name": "InvoiceNo",
         "rawType": "string",
         "type": "string"
        },
        {
         "name": "StockCode",
         "rawType": "string",
         "type": "string"
        },
        {
         "name": "Description",
         "rawType": "string",
         "type": "string"
        },
        {
         "name": "Quantity",
         "rawType": "int64",
         "type": "integer"
        },
        {
         "name": "InvoiceDate",
         "rawType": "datetime64[ns]",
         "type": "datetime"
        },
        {
         "name": "UnitPrice",
         "rawType": "float64",
         "type": "float"
        },
        {
         "name": "CustomerID",
         "rawType": "Int64",
         "type": "integer"
        },
        {
         "name": "Country",
         "rawType": "category",
         "type": "unknown"
        },
        {
         "name": "LastTransaction",
         "rawType": "datetime64[ns]",
         "type": "datetime"
        },
        {
         "name": "days_since_last_trans",
         "rawType": "int64",
         "type": "integer"
        },
        {
         "name": "TotalAmount",
         "rawType": "float64",
         "type": "float"
        }
       ],
       "ref": "0a5bc911-6622-4ecf-860c-49d097c7d2e4",
       "rows": [
        [
         "0",
         "536365",
         "85123A",
         "WHITE HANGING HEART T-LIGHT HOLDER",
         "6",
         "2010-12-01 08:26:00",
         "2.55",
         "17850",
         "United Kingdom",
         "2010-12-02 15:27:00",
         "371",
         "15.299999999999999"
        ],
        [
         "1",
         "536365",
         "71053",
         "WHITE METAL LANTERN",
         "6",
         "2010-12-01 08:26:00",
         "3.39",
         "17850",
         "United Kingdom",
         "2010-12-02 15:27:00",
         "371",
         "20.34"
        ],
        [
         "2",
         "536365",
         "84406B",
         "CREAM CUPID HEARTS COAT HANGER",
         "8",
         "2010-12-01 08:26:00",
         "2.75",
         "17850",
         "United Kingdom",
         "2010-12-02 15:27:00",
         "371",
         "22.0"
        ],
        [
         "3",
         "536365",
         "84029G",
         "KNITTED UNION FLAG HOT WATER BOTTLE",
         "6",
         "2010-12-01 08:26:00",
         "3.39",
         "17850",
         "United Kingdom",
         "2010-12-02 15:27:00",
         "371",
         "20.34"
        ],
        [
         "4",
         "536365",
         "84029E",
         "RED WOOLLY HOTTIE WHITE HEART.",
         "6",
         "2010-12-01 08:26:00",
         "3.39",
         "17850",
         "United Kingdom",
         "2010-12-02 15:27:00",
         "371",
         "20.34"
        ],
        [
         "5",
         "536365",
         "22752",
         "SET 7 BABUSHKA NESTING BOXES",
         "2",
         "2010-12-01 08:26:00",
         "7.65",
         "17850",
         "United Kingdom",
         "2010-12-02 15:27:00",
         "371",
         "15.3"
        ],
        [
         "6",
         "536365",
         "21730",
         "GLASS STAR FROSTED T-LIGHT HOLDER",
         "6",
         "2010-12-01 08:26:00",
         "4.25",
         "17850",
         "United Kingdom",
         "2010-12-02 15:27:00",
         "371",
         "25.5"
        ],
        [
         "7",
         "536366",
         "22633",
         "HAND WARMER UNION JACK",
         "6",
         "2010-12-01 08:28:00",
         "1.85",
         "17850",
         "United Kingdom",
         "2010-12-02 15:27:00",
         "371",
         "11.100000000000001"
        ],
        [
         "8",
         "536366",
         "22632",
         "HAND WARMER RED POLKA DOT",
         "6",
         "2010-12-01 08:28:00",
         "1.85",
         "17850",
         "United Kingdom",
         "2010-12-02 15:27:00",
         "371",
         "11.100000000000001"
        ],
        [
         "9",
         "536367",
         "84879",
         "ASSORTED COLOUR BIRD ORNAMENT",
         "32",
         "2010-12-01 08:34:00",
         "1.69",
         "13047",
         "United Kingdom",
         "2011-11-08 12:06:00",
         "31",
         "54.08"
        ],
        [
         "10",
         "536367",
         "22745",
         "POPPY'S PLAYHOUSE BEDROOM ",
         "6",
         "2010-12-01 08:34:00",
         "2.1",
         "13047",
         "United Kingdom",
         "2011-11-08 12:06:00",
         "31",
         "12.600000000000001"
        ],
        [
         "11",
         "536367",
         "22748",
         "POPPY'S PLAYHOUSE KITCHEN",
         "6",
         "2010-12-01 08:34:00",
         "2.1",
         "13047",
         "United Kingdom",
         "2011-11-08 12:06:00",
         "31",
         "12.600000000000001"
        ],
        [
         "12",
         "536367",
         "22749",
         "FELTCRAFT PRINCESS CHARLOTTE DOLL",
         "8",
         "2010-12-01 08:34:00",
         "3.75",
         "13047",
         "United Kingdom",
         "2011-11-08 12:06:00",
         "31",
         "30.0"
        ],
        [
         "13",
         "536367",
         "22310",
         "IVORY KNITTED MUG COSY ",
         "6",
         "2010-12-01 08:34:00",
         "1.65",
         "13047",
         "United Kingdom",
         "2011-11-08 12:06:00",
         "31",
         "9.899999999999999"
        ],
        [
         "14",
         "536367",
         "84969",
         "BOX OF 6 ASSORTED COLOUR TEASPOONS",
         "6",
         "2010-12-01 08:34:00",
         "4.25",
         "13047",
         "United Kingdom",
         "2011-11-08 12:06:00",
         "31",
         "25.5"
        ],
        [
         "15",
         "536367",
         "22623",
         "BOX OF VINTAGE JIGSAW BLOCKS ",
         "3",
         "2010-12-01 08:34:00",
         "4.95",
         "13047",
         "United Kingdom",
         "2011-11-08 12:06:00",
         "31",
         "14.850000000000001"
        ],
        [
         "16",
         "536367",
         "22622",
         "BOX OF VINTAGE ALPHABET BLOCKS",
         "2",
         "2010-12-01 08:34:00",
         "9.95",
         "13047",
         "United Kingdom",
         "2011-11-08 12:06:00",
         "31",
         "19.9"
        ],
        [
         "17",
         "536367",
         "21754",
         "HOME BUILDING BLOCK WORD",
         "3",
         "2010-12-01 08:34:00",
         "5.95",
         "13047",
         "United Kingdom",
         "2011-11-08 12:06:00",
         "31",
         "17.85"
        ],
        [
         "18",
         "536367",
         "21755",
         "LOVE BUILDING BLOCK WORD",
         "3",
         "2010-12-01 08:34:00",
         "5.95",
         "13047",
         "United Kingdom",
         "2011-11-08 12:06:00",
         "31",
         "17.85"
        ],
        [
         "19",
         "536367",
         "21777",
         "RECIPE BOX WITH METAL HEART",
         "4",
         "2010-12-01 08:34:00",
         "7.95",
         "13047",
         "United Kingdom",
         "2011-11-08 12:06:00",
         "31",
         "31.8"
        ],
        [
         "20",
         "536367",
         "48187",
         "DOORMAT NEW ENGLAND",
         "4",
         "2010-12-01 08:34:00",
         "7.95",
         "13047",
         "United Kingdom",
         "2011-11-08 12:06:00",
         "31",
         "31.8"
        ],
        [
         "21",
         "536368",
         "22960",
         "JAM MAKING SET WITH JARS",
         "6",
         "2010-12-01 08:34:00",
         "4.25",
         "13047",
         "United Kingdom",
         "2011-11-08 12:06:00",
         "31",
         "25.5"
        ],
        [
         "22",
         "536368",
         "22913",
         "RED COAT RACK PARIS FASHION",
         "3",
         "2010-12-01 08:34:00",
         "4.95",
         "13047",
         "United Kingdom",
         "2011-11-08 12:06:00",
         "31",
         "14.850000000000001"
        ],
        [
         "23",
         "536368",
         "22912",
         "YELLOW COAT RACK PARIS FASHION",
         "3",
         "2010-12-01 08:34:00",
         "4.95",
         "13047",
         "United Kingdom",
         "2011-11-08 12:06:00",
         "31",
         "14.850000000000001"
        ],
        [
         "24",
         "536368",
         "22914",
         "BLUE COAT RACK PARIS FASHION",
         "3",
         "2010-12-01 08:34:00",
         "4.95",
         "13047",
         "United Kingdom",
         "2011-11-08 12:06:00",
         "31",
         "14.850000000000001"
        ],
        [
         "25",
         "536369",
         "21756",
         "BATH BUILDING BLOCK WORD",
         "3",
         "2010-12-01 08:35:00",
         "5.95",
         "13047",
         "United Kingdom",
         "2011-11-08 12:06:00",
         "31",
         "17.85"
        ],
        [
         "26",
         "536370",
         "22728",
         "ALARM CLOCK BAKELIKE PINK",
         "24",
         "2010-12-01 08:45:00",
         "3.75",
         "12583",
         "France",
         "2011-12-07 08:07:00",
         "2",
         "90.0"
        ],
        [
         "27",
         "536370",
         "22727",
         "ALARM CLOCK BAKELIKE RED ",
         "24",
         "2010-12-01 08:45:00",
         "3.75",
         "12583",
         "France",
         "2011-12-07 08:07:00",
         "2",
         "90.0"
        ],
        [
         "28",
         "536370",
         "22726",
         "ALARM CLOCK BAKELIKE GREEN",
         "12",
         "2010-12-01 08:45:00",
         "3.75",
         "12583",
         "France",
         "2011-12-07 08:07:00",
         "2",
         "45.0"
        ],
        [
         "29",
         "536370",
         "21724",
         "PANDA AND BUNNIES STICKER SHEET",
         "12",
         "2010-12-01 08:45:00",
         "0.85",
         "12583",
         "France",
         "2011-12-07 08:07:00",
         "2",
         "10.2"
        ],
        [
         "30",
         "536370",
         "21883",
         "STARS GIFT TAPE ",
         "24",
         "2010-12-01 08:45:00",
         "0.65",
         "12583",
         "France",
         "2011-12-07 08:07:00",
         "2",
         "15.600000000000001"
        ],
        [
         "31",
         "536370",
         "10002",
         "INFLATABLE POLITICAL GLOBE ",
         "48",
         "2010-12-01 08:45:00",
         "0.85",
         "12583",
         "France",
         "2011-12-07 08:07:00",
         "2",
         "40.8"
        ],
        [
         "32",
         "536370",
         "21791",
         "VINTAGE HEADS AND TAILS CARD GAME ",
         "24",
         "2010-12-01 08:45:00",
         "1.25",
         "12583",
         "France",
         "2011-12-07 08:07:00",
         "2",
         "30.0"
        ],
        [
         "33",
         "536370",
         "21035",
         "SET/2 RED RETROSPOT TEA TOWELS ",
         "18",
         "2010-12-01 08:45:00",
         "2.95",
         "12583",
         "France",
         "2011-12-07 08:07:00",
         "2",
         "53.1"
        ],
        [
         "34",
         "536370",
         "22326",
         "ROUND SNACK BOXES SET OF4 WOODLAND ",
         "24",
         "2010-12-01 08:45:00",
         "2.95",
         "12583",
         "France",
         "2011-12-07 08:07:00",
         "2",
         "70.80000000000001"
        ],
        [
         "35",
         "536370",
         "22629",
         "SPACEBOY LUNCH BOX ",
         "24",
         "2010-12-01 08:45:00",
         "1.95",
         "12583",
         "France",
         "2011-12-07 08:07:00",
         "2",
         "46.8"
        ],
        [
         "36",
         "536370",
         "22659",
         "LUNCH BOX I LOVE LONDON",
         "24",
         "2010-12-01 08:45:00",
         "1.95",
         "12583",
         "France",
         "2011-12-07 08:07:00",
         "2",
         "46.8"
        ],
        [
         "37",
         "536370",
         "22631",
         "CIRCUS PARADE LUNCH BOX ",
         "24",
         "2010-12-01 08:45:00",
         "1.95",
         "12583",
         "France",
         "2011-12-07 08:07:00",
         "2",
         "46.8"
        ],
        [
         "38",
         "536370",
         "22661",
         "CHARLOTTE BAG DOLLY GIRL DESIGN",
         "20",
         "2010-12-01 08:45:00",
         "0.85",
         "12583",
         "France",
         "2011-12-07 08:07:00",
         "2",
         "17.0"
        ],
        [
         "39",
         "536370",
         "21731",
         "RED TOADSTOOL LED NIGHT LIGHT",
         "24",
         "2010-12-01 08:45:00",
         "1.65",
         "12583",
         "France",
         "2011-12-07 08:07:00",
         "2",
         "39.599999999999994"
        ],
        [
         "40",
         "536370",
         "22900",
         " SET 2 TEA TOWELS I LOVE LONDON ",
         "24",
         "2010-12-01 08:45:00",
         "2.95",
         "12583",
         "France",
         "2011-12-07 08:07:00",
         "2",
         "70.80000000000001"
        ],
        [
         "41",
         "536370",
         "21913",
         "VINTAGE SEASIDE JIGSAW PUZZLES",
         "12",
         "2010-12-01 08:45:00",
         "3.75",
         "12583",
         "France",
         "2011-12-07 08:07:00",
         "2",
         "45.0"
        ],
        [
         "42",
         "536370",
         "22540",
         "MINI JIGSAW CIRCUS PARADE ",
         "24",
         "2010-12-01 08:45:00",
         "0.42",
         "12583",
         "France",
         "2011-12-07 08:07:00",
         "2",
         "10.08"
        ],
        [
         "43",
         "536370",
         "22544",
         "MINI JIGSAW SPACEBOY",
         "24",
         "2010-12-01 08:45:00",
         "0.42",
         "12583",
         "France",
         "2011-12-07 08:07:00",
         "2",
         "10.08"
        ],
        [
         "44",
         "536370",
         "22492",
         "MINI PAINT SET VINTAGE ",
         "36",
         "2010-12-01 08:45:00",
         "0.65",
         "12583",
         "France",
         "2011-12-07 08:07:00",
         "2",
         "23.400000000000002"
        ],
        [
         "45",
         "536370",
         "POST",
         "POSTAGE",
         "3",
         "2010-12-01 08:45:00",
         "18.0",
         "12583",
         "France",
         "2011-12-07 08:07:00",
         "2",
         "54.0"
        ],
        [
         "46",
         "536371",
         "22086",
         "PAPER CHAIN KIT 50'S CHRISTMAS ",
         "80",
         "2010-12-01 09:00:00",
         "2.55",
         "13748",
         "United Kingdom",
         "2011-09-05 09:45:00",
         "95",
         "204.0"
        ],
        [
         "47",
         "536372",
         "22632",
         "HAND WARMER RED POLKA DOT",
         "6",
         "2010-12-01 09:01:00",
         "1.85",
         "17850",
         "United Kingdom",
         "2010-12-02 15:27:00",
         "371",
         "11.100000000000001"
        ],
        [
         "48",
         "536372",
         "22633",
         "HAND WARMER UNION JACK",
         "6",
         "2010-12-01 09:01:00",
         "1.85",
         "17850",
         "United Kingdom",
         "2010-12-02 15:27:00",
         "371",
         "11.100000000000001"
        ],
        [
         "49",
         "536373",
         "85123A",
         "WHITE HANGING HEART T-LIGHT HOLDER",
         "6",
         "2010-12-01 09:02:00",
         "2.55",
         "17850",
         "United Kingdom",
         "2010-12-02 15:27:00",
         "371",
         "15.299999999999999"
        ]
       ],
       "shape": {
        "columns": 11,
        "rows": 397884
       }
      },
      "text/html": [
       "<div>\n",
       "<style scoped>\n",
       "    .dataframe tbody tr th:only-of-type {\n",
       "        vertical-align: middle;\n",
       "    }\n",
       "\n",
       "    .dataframe tbody tr th {\n",
       "        vertical-align: top;\n",
       "    }\n",
       "\n",
       "    .dataframe thead th {\n",
       "        text-align: right;\n",
       "    }\n",
       "</style>\n",
       "<table border=\"1\" class=\"dataframe\">\n",
       "  <thead>\n",
       "    <tr style=\"text-align: right;\">\n",
       "      <th></th>\n",
       "      <th>InvoiceNo</th>\n",
       "      <th>StockCode</th>\n",
       "      <th>Description</th>\n",
       "      <th>Quantity</th>\n",
       "      <th>InvoiceDate</th>\n",
       "      <th>UnitPrice</th>\n",
       "      <th>CustomerID</th>\n",
       "      <th>Country</th>\n",
       "      <th>LastTransaction</th>\n",
       "      <th>days_since_last_trans</th>\n",
       "      <th>TotalAmount</th>\n",
       "    </tr>\n",
       "  </thead>\n",
       "  <tbody>\n",
       "    <tr>\n",
       "      <th>0</th>\n",
       "      <td>536365</td>\n",
       "      <td>85123A</td>\n",
       "      <td>WHITE HANGING HEART T-LIGHT HOLDER</td>\n",
       "      <td>6</td>\n",
       "      <td>2010-12-01 08:26:00</td>\n",
       "      <td>2.55</td>\n",
       "      <td>17850</td>\n",
       "      <td>United Kingdom</td>\n",
       "      <td>2010-12-02 15:27:00</td>\n",
       "      <td>371</td>\n",
       "      <td>15.30</td>\n",
       "    </tr>\n",
       "    <tr>\n",
       "      <th>1</th>\n",
       "      <td>536365</td>\n",
       "      <td>71053</td>\n",
       "      <td>WHITE METAL LANTERN</td>\n",
       "      <td>6</td>\n",
       "      <td>2010-12-01 08:26:00</td>\n",
       "      <td>3.39</td>\n",
       "      <td>17850</td>\n",
       "      <td>United Kingdom</td>\n",
       "      <td>2010-12-02 15:27:00</td>\n",
       "      <td>371</td>\n",
       "      <td>20.34</td>\n",
       "    </tr>\n",
       "    <tr>\n",
       "      <th>2</th>\n",
       "      <td>536365</td>\n",
       "      <td>84406B</td>\n",
       "      <td>CREAM CUPID HEARTS COAT HANGER</td>\n",
       "      <td>8</td>\n",
       "      <td>2010-12-01 08:26:00</td>\n",
       "      <td>2.75</td>\n",
       "      <td>17850</td>\n",
       "      <td>United Kingdom</td>\n",
       "      <td>2010-12-02 15:27:00</td>\n",
       "      <td>371</td>\n",
       "      <td>22.00</td>\n",
       "    </tr>\n",
       "    <tr>\n",
       "      <th>3</th>\n",
       "      <td>536365</td>\n",
       "      <td>84029G</td>\n",
       "      <td>KNITTED UNION FLAG HOT WATER BOTTLE</td>\n",
       "      <td>6</td>\n",
       "      <td>2010-12-01 08:26:00</td>\n",
       "      <td>3.39</td>\n",
       "      <td>17850</td>\n",
       "      <td>United Kingdom</td>\n",
       "      <td>2010-12-02 15:27:00</td>\n",
       "      <td>371</td>\n",
       "      <td>20.34</td>\n",
       "    </tr>\n",
       "    <tr>\n",
       "      <th>4</th>\n",
       "      <td>536365</td>\n",
       "      <td>84029E</td>\n",
       "      <td>RED WOOLLY HOTTIE WHITE HEART.</td>\n",
       "      <td>6</td>\n",
       "      <td>2010-12-01 08:26:00</td>\n",
       "      <td>3.39</td>\n",
       "      <td>17850</td>\n",
       "      <td>United Kingdom</td>\n",
       "      <td>2010-12-02 15:27:00</td>\n",
       "      <td>371</td>\n",
       "      <td>20.34</td>\n",
       "    </tr>\n",
       "    <tr>\n",
       "      <th>...</th>\n",
       "      <td>...</td>\n",
       "      <td>...</td>\n",
       "      <td>...</td>\n",
       "      <td>...</td>\n",
       "      <td>...</td>\n",
       "      <td>...</td>\n",
       "      <td>...</td>\n",
       "      <td>...</td>\n",
       "      <td>...</td>\n",
       "      <td>...</td>\n",
       "      <td>...</td>\n",
       "    </tr>\n",
       "    <tr>\n",
       "      <th>397879</th>\n",
       "      <td>581587</td>\n",
       "      <td>22613</td>\n",
       "      <td>PACK OF 20 SPACEBOY NAPKINS</td>\n",
       "      <td>12</td>\n",
       "      <td>2011-12-09 12:50:00</td>\n",
       "      <td>0.85</td>\n",
       "      <td>12680</td>\n",
       "      <td>France</td>\n",
       "      <td>2011-12-09 12:50:00</td>\n",
       "      <td>0</td>\n",
       "      <td>10.20</td>\n",
       "    </tr>\n",
       "    <tr>\n",
       "      <th>397880</th>\n",
       "      <td>581587</td>\n",
       "      <td>22899</td>\n",
       "      <td>CHILDREN'S APRON DOLLY GIRL</td>\n",
       "      <td>6</td>\n",
       "      <td>2011-12-09 12:50:00</td>\n",
       "      <td>2.10</td>\n",
       "      <td>12680</td>\n",
       "      <td>France</td>\n",
       "      <td>2011-12-09 12:50:00</td>\n",
       "      <td>0</td>\n",
       "      <td>12.60</td>\n",
       "    </tr>\n",
       "    <tr>\n",
       "      <th>397881</th>\n",
       "      <td>581587</td>\n",
       "      <td>23254</td>\n",
       "      <td>CHILDRENS CUTLERY DOLLY GIRL</td>\n",
       "      <td>4</td>\n",
       "      <td>2011-12-09 12:50:00</td>\n",
       "      <td>4.15</td>\n",
       "      <td>12680</td>\n",
       "      <td>France</td>\n",
       "      <td>2011-12-09 12:50:00</td>\n",
       "      <td>0</td>\n",
       "      <td>16.60</td>\n",
       "    </tr>\n",
       "    <tr>\n",
       "      <th>397882</th>\n",
       "      <td>581587</td>\n",
       "      <td>23255</td>\n",
       "      <td>CHILDRENS CUTLERY CIRCUS PARADE</td>\n",
       "      <td>4</td>\n",
       "      <td>2011-12-09 12:50:00</td>\n",
       "      <td>4.15</td>\n",
       "      <td>12680</td>\n",
       "      <td>France</td>\n",
       "      <td>2011-12-09 12:50:00</td>\n",
       "      <td>0</td>\n",
       "      <td>16.60</td>\n",
       "    </tr>\n",
       "    <tr>\n",
       "      <th>397883</th>\n",
       "      <td>581587</td>\n",
       "      <td>22138</td>\n",
       "      <td>BAKING SET 9 PIECE RETROSPOT</td>\n",
       "      <td>3</td>\n",
       "      <td>2011-12-09 12:50:00</td>\n",
       "      <td>4.95</td>\n",
       "      <td>12680</td>\n",
       "      <td>France</td>\n",
       "      <td>2011-12-09 12:50:00</td>\n",
       "      <td>0</td>\n",
       "      <td>14.85</td>\n",
       "    </tr>\n",
       "  </tbody>\n",
       "</table>\n",
       "<p>397884 rows × 11 columns</p>\n",
       "</div>"
      ],
      "text/plain": [
       "       InvoiceNo StockCode                          Description  Quantity  \\\n",
       "0         536365    85123A   WHITE HANGING HEART T-LIGHT HOLDER         6   \n",
       "1         536365     71053                  WHITE METAL LANTERN         6   \n",
       "2         536365    84406B       CREAM CUPID HEARTS COAT HANGER         8   \n",
       "3         536365    84029G  KNITTED UNION FLAG HOT WATER BOTTLE         6   \n",
       "4         536365    84029E       RED WOOLLY HOTTIE WHITE HEART.         6   \n",
       "...          ...       ...                                  ...       ...   \n",
       "397879    581587     22613          PACK OF 20 SPACEBOY NAPKINS        12   \n",
       "397880    581587     22899         CHILDREN'S APRON DOLLY GIRL          6   \n",
       "397881    581587     23254        CHILDRENS CUTLERY DOLLY GIRL          4   \n",
       "397882    581587     23255      CHILDRENS CUTLERY CIRCUS PARADE         4   \n",
       "397883    581587     22138        BAKING SET 9 PIECE RETROSPOT          3   \n",
       "\n",
       "               InvoiceDate  UnitPrice  CustomerID         Country  \\\n",
       "0      2010-12-01 08:26:00       2.55       17850  United Kingdom   \n",
       "1      2010-12-01 08:26:00       3.39       17850  United Kingdom   \n",
       "2      2010-12-01 08:26:00       2.75       17850  United Kingdom   \n",
       "3      2010-12-01 08:26:00       3.39       17850  United Kingdom   \n",
       "4      2010-12-01 08:26:00       3.39       17850  United Kingdom   \n",
       "...                    ...        ...         ...             ...   \n",
       "397879 2011-12-09 12:50:00       0.85       12680          France   \n",
       "397880 2011-12-09 12:50:00       2.10       12680          France   \n",
       "397881 2011-12-09 12:50:00       4.15       12680          France   \n",
       "397882 2011-12-09 12:50:00       4.15       12680          France   \n",
       "397883 2011-12-09 12:50:00       4.95       12680          France   \n",
       "\n",
       "           LastTransaction  days_since_last_trans  TotalAmount  \n",
       "0      2010-12-02 15:27:00                    371        15.30  \n",
       "1      2010-12-02 15:27:00                    371        20.34  \n",
       "2      2010-12-02 15:27:00                    371        22.00  \n",
       "3      2010-12-02 15:27:00                    371        20.34  \n",
       "4      2010-12-02 15:27:00                    371        20.34  \n",
       "...                    ...                    ...          ...  \n",
       "397879 2011-12-09 12:50:00                      0        10.20  \n",
       "397880 2011-12-09 12:50:00                      0        12.60  \n",
       "397881 2011-12-09 12:50:00                      0        16.60  \n",
       "397882 2011-12-09 12:50:00                      0        16.60  \n",
       "397883 2011-12-09 12:50:00                      0        14.85  \n",
       "\n",
       "[397884 rows x 11 columns]"
      ]
     },
     "execution_count": 18,
     "metadata": {},
     "output_type": "execute_result"
    }
   ],
   "source": [
    "df['TotalAmount'] = df['UnitPrice'] * df['Quantity']\n",
    "df"
   ]
  },
  {
   "cell_type": "markdown",
   "id": "685ed175",
   "metadata": {},
   "source": []
  },
  {
   "cell_type": "code",
   "execution_count": 19,
   "id": "3f4c459a",
   "metadata": {},
   "outputs": [
    {
     "data": {
      "application/vnd.microsoft.datawrangler.viewer.v0+json": {
       "columns": [
        {
         "name": "index",
         "rawType": "int64",
         "type": "integer"
        },
        {
         "name": "CustomerID",
         "rawType": "Int64",
         "type": "integer"
        },
        {
         "name": "TotalSpendings",
         "rawType": "float64",
         "type": "float"
        }
       ],
       "ref": "142b4d93-be04-4f19-b960-9c5f4a1c798b",
       "rows": [
        [
         "0",
         "12346",
         "77183.6"
        ],
        [
         "1",
         "12347",
         "4310.0"
        ],
        [
         "2",
         "12348",
         "1797.24"
        ],
        [
         "3",
         "12349",
         "1757.55"
        ],
        [
         "4",
         "12350",
         "334.4"
        ],
        [
         "5",
         "12352",
         "2506.04"
        ],
        [
         "6",
         "12353",
         "89.0"
        ],
        [
         "7",
         "12354",
         "1079.4"
        ],
        [
         "8",
         "12355",
         "459.4"
        ],
        [
         "9",
         "12356",
         "2811.43"
        ],
        [
         "10",
         "12357",
         "6207.67"
        ],
        [
         "11",
         "12358",
         "1168.06"
        ],
        [
         "12",
         "12359",
         "6372.58"
        ],
        [
         "13",
         "12360",
         "2662.06"
        ],
        [
         "14",
         "12361",
         "189.9"
        ],
        [
         "15",
         "12362",
         "5226.23"
        ],
        [
         "16",
         "12363",
         "552.0"
        ],
        [
         "17",
         "12364",
         "1313.1"
        ],
        [
         "18",
         "12365",
         "641.38"
        ],
        [
         "19",
         "12367",
         "168.9"
        ],
        [
         "20",
         "12370",
         "3545.69"
        ],
        [
         "21",
         "12371",
         "1887.96"
        ],
        [
         "22",
         "12372",
         "1298.04"
        ],
        [
         "23",
         "12373",
         "364.6"
        ],
        [
         "24",
         "12374",
         "742.9300000000001"
        ],
        [
         "25",
         "12375",
         "457.5"
        ],
        [
         "26",
         "12377",
         "1628.12"
        ],
        [
         "27",
         "12378",
         "4008.62"
        ],
        [
         "28",
         "12379",
         "852.24"
        ],
        [
         "29",
         "12380",
         "2724.81"
        ],
        [
         "30",
         "12381",
         "1845.31"
        ],
        [
         "31",
         "12383",
         "1850.56"
        ],
        [
         "32",
         "12384",
         "585.27"
        ],
        [
         "33",
         "12386",
         "401.9"
        ],
        [
         "34",
         "12388",
         "2780.66"
        ],
        [
         "35",
         "12390",
         "549.84"
        ],
        [
         "36",
         "12391",
         "460.89"
        ],
        [
         "37",
         "12393",
         "1582.6000000000001"
        ],
        [
         "38",
         "12394",
         "1272.48"
        ],
        [
         "39",
         "12395",
         "3018.63"
        ],
        [
         "40",
         "12397",
         "2409.9"
        ],
        [
         "41",
         "12398",
         "1635.6599999999999"
        ],
        [
         "42",
         "12399",
         "1108.65"
        ],
        [
         "43",
         "12401",
         "84.3"
        ],
        [
         "44",
         "12402",
         "225.6"
        ],
        [
         "45",
         "12403",
         "427.7"
        ],
        [
         "46",
         "12405",
         "1710.39"
        ],
        [
         "47",
         "12406",
         "3415.3"
        ],
        [
         "48",
         "12407",
         "1708.1200000000001"
        ],
        [
         "49",
         "12408",
         "2888.55"
        ]
       ],
       "shape": {
        "columns": 2,
        "rows": 4338
       }
      },
      "text/html": [
       "<div>\n",
       "<style scoped>\n",
       "    .dataframe tbody tr th:only-of-type {\n",
       "        vertical-align: middle;\n",
       "    }\n",
       "\n",
       "    .dataframe tbody tr th {\n",
       "        vertical-align: top;\n",
       "    }\n",
       "\n",
       "    .dataframe thead th {\n",
       "        text-align: right;\n",
       "    }\n",
       "</style>\n",
       "<table border=\"1\" class=\"dataframe\">\n",
       "  <thead>\n",
       "    <tr style=\"text-align: right;\">\n",
       "      <th></th>\n",
       "      <th>CustomerID</th>\n",
       "      <th>TotalSpendings</th>\n",
       "    </tr>\n",
       "  </thead>\n",
       "  <tbody>\n",
       "    <tr>\n",
       "      <th>0</th>\n",
       "      <td>12346</td>\n",
       "      <td>77183.60</td>\n",
       "    </tr>\n",
       "    <tr>\n",
       "      <th>1</th>\n",
       "      <td>12347</td>\n",
       "      <td>4310.00</td>\n",
       "    </tr>\n",
       "    <tr>\n",
       "      <th>2</th>\n",
       "      <td>12348</td>\n",
       "      <td>1797.24</td>\n",
       "    </tr>\n",
       "    <tr>\n",
       "      <th>3</th>\n",
       "      <td>12349</td>\n",
       "      <td>1757.55</td>\n",
       "    </tr>\n",
       "    <tr>\n",
       "      <th>4</th>\n",
       "      <td>12350</td>\n",
       "      <td>334.40</td>\n",
       "    </tr>\n",
       "    <tr>\n",
       "      <th>...</th>\n",
       "      <td>...</td>\n",
       "      <td>...</td>\n",
       "    </tr>\n",
       "    <tr>\n",
       "      <th>4333</th>\n",
       "      <td>18280</td>\n",
       "      <td>180.60</td>\n",
       "    </tr>\n",
       "    <tr>\n",
       "      <th>4334</th>\n",
       "      <td>18281</td>\n",
       "      <td>80.82</td>\n",
       "    </tr>\n",
       "    <tr>\n",
       "      <th>4335</th>\n",
       "      <td>18282</td>\n",
       "      <td>178.05</td>\n",
       "    </tr>\n",
       "    <tr>\n",
       "      <th>4336</th>\n",
       "      <td>18283</td>\n",
       "      <td>2094.88</td>\n",
       "    </tr>\n",
       "    <tr>\n",
       "      <th>4337</th>\n",
       "      <td>18287</td>\n",
       "      <td>1837.28</td>\n",
       "    </tr>\n",
       "  </tbody>\n",
       "</table>\n",
       "<p>4338 rows × 2 columns</p>\n",
       "</div>"
      ],
      "text/plain": [
       "      CustomerID  TotalSpendings\n",
       "0          12346        77183.60\n",
       "1          12347         4310.00\n",
       "2          12348         1797.24\n",
       "3          12349         1757.55\n",
       "4          12350          334.40\n",
       "...          ...             ...\n",
       "4333       18280          180.60\n",
       "4334       18281           80.82\n",
       "4335       18282          178.05\n",
       "4336       18283         2094.88\n",
       "4337       18287         1837.28\n",
       "\n",
       "[4338 rows x 2 columns]"
      ]
     },
     "execution_count": 19,
     "metadata": {},
     "output_type": "execute_result"
    }
   ],
   "source": [
    "total_spending = df.groupby('CustomerID')['TotalAmount'].sum().reset_index()\n",
    "total_spending = total_spending.rename(columns={'TotalAmount':'TotalSpendings'})\n",
    "total_spending"
   ]
  },
  {
   "cell_type": "code",
   "execution_count": 20,
   "id": "1dd61f3b",
   "metadata": {},
   "outputs": [
    {
     "data": {
      "application/vnd.microsoft.datawrangler.viewer.v0+json": {
       "columns": [
        {
         "name": "index",
         "rawType": "int64",
         "type": "integer"
        },
        {
         "name": "CustomerID",
         "rawType": "Int64",
         "type": "integer"
        },
        {
         "name": "days_since_last_trans",
         "rawType": "int64",
         "type": "integer"
        },
        {
         "name": "TotalCount",
         "rawType": "int64",
         "type": "integer"
        },
        {
         "name": "TotalSpendings",
         "rawType": "float64",
         "type": "float"
        }
       ],
       "ref": "9fe8d8a9-c49b-48b8-87fd-f7d4b15d9594",
       "rows": [
        [
         "0",
         "12346",
         "325",
         "1",
         "77183.6"
        ],
        [
         "1",
         "12347",
         "1",
         "7",
         "4310.0"
        ],
        [
         "2",
         "12348",
         "74",
         "4",
         "1797.24"
        ],
        [
         "3",
         "12349",
         "18",
         "1",
         "1757.55"
        ],
        [
         "4",
         "12350",
         "309",
         "1",
         "334.4"
        ],
        [
         "5",
         "12352",
         "35",
         "8",
         "2506.04"
        ],
        [
         "6",
         "12353",
         "203",
         "1",
         "89.0"
        ],
        [
         "7",
         "12354",
         "231",
         "1",
         "1079.4"
        ],
        [
         "8",
         "12355",
         "213",
         "1",
         "459.4"
        ],
        [
         "9",
         "12356",
         "22",
         "3",
         "2811.43"
        ],
        [
         "10",
         "12357",
         "32",
         "1",
         "6207.67"
        ],
        [
         "11",
         "12358",
         "1",
         "2",
         "1168.06"
        ],
        [
         "12",
         "12359",
         "57",
         "4",
         "6372.58"
        ],
        [
         "13",
         "12360",
         "51",
         "3",
         "2662.06"
        ],
        [
         "14",
         "12361",
         "286",
         "1",
         "189.9"
        ],
        [
         "15",
         "12362",
         "2",
         "10",
         "5226.23"
        ],
        [
         "16",
         "12363",
         "109",
         "2",
         "552.0"
        ],
        [
         "17",
         "12364",
         "7",
         "4",
         "1313.1"
        ],
        [
         "18",
         "12365",
         "290",
         "2",
         "641.38"
        ],
        [
         "19",
         "12367",
         "3",
         "1",
         "168.9"
        ],
        [
         "20",
         "12370",
         "50",
         "4",
         "3545.69"
        ],
        [
         "21",
         "12371",
         "44",
         "2",
         "1887.96"
        ],
        [
         "22",
         "12372",
         "71",
         "3",
         "1298.04"
        ],
        [
         "23",
         "12373",
         "310",
         "1",
         "364.6"
        ],
        [
         "24",
         "12374",
         "24",
         "1",
         "742.9300000000001"
        ],
        [
         "25",
         "12375",
         "10",
         "2",
         "457.5"
        ],
        [
         "26",
         "12377",
         "314",
         "2",
         "1628.12"
        ],
        [
         "27",
         "12378",
         "129",
         "1",
         "4008.62"
        ],
        [
         "28",
         "12379",
         "81",
         "2",
         "852.24"
        ],
        [
         "29",
         "12380",
         "21",
         "4",
         "2724.81"
        ],
        [
         "30",
         "12381",
         "4",
         "5",
         "1845.31"
        ],
        [
         "31",
         "12383",
         "184",
         "5",
         "1850.56"
        ],
        [
         "32",
         "12384",
         "28",
         "2",
         "585.27"
        ],
        [
         "33",
         "12386",
         "337",
         "2",
         "401.9"
        ],
        [
         "34",
         "12388",
         "15",
         "6",
         "2780.66"
        ],
        [
         "35",
         "12390",
         "79",
         "1",
         "549.84"
        ],
        [
         "36",
         "12391",
         "21",
         "1",
         "460.89"
        ],
        [
         "37",
         "12393",
         "71",
         "4",
         "1582.6000000000001"
        ],
        [
         "38",
         "12394",
         "63",
         "2",
         "1272.48"
        ],
        [
         "39",
         "12395",
         "18",
         "12",
         "3018.63"
        ],
        [
         "40",
         "12397",
         "35",
         "2",
         "2409.9"
        ],
        [
         "41",
         "12398",
         "45",
         "1",
         "1635.6599999999999"
        ],
        [
         "42",
         "12399",
         "118",
         "4",
         "1108.65"
        ],
        [
         "43",
         "12401",
         "302",
         "1",
         "84.3"
        ],
        [
         "44",
         "12402",
         "322",
         "1",
         "225.6"
        ],
        [
         "45",
         "12403",
         "49",
         "1",
         "427.7"
        ],
        [
         "46",
         "12405",
         "148",
         "1",
         "1710.39"
        ],
        [
         "47",
         "12406",
         "21",
         "2",
         "3415.3"
        ],
        [
         "48",
         "12407",
         "49",
         "5",
         "1708.1200000000001"
        ],
        [
         "49",
         "12408",
         "32",
         "5",
         "2888.55"
        ]
       ],
       "shape": {
        "columns": 4,
        "rows": 4338
       }
      },
      "text/html": [
       "<div>\n",
       "<style scoped>\n",
       "    .dataframe tbody tr th:only-of-type {\n",
       "        vertical-align: middle;\n",
       "    }\n",
       "\n",
       "    .dataframe tbody tr th {\n",
       "        vertical-align: top;\n",
       "    }\n",
       "\n",
       "    .dataframe thead th {\n",
       "        text-align: right;\n",
       "    }\n",
       "</style>\n",
       "<table border=\"1\" class=\"dataframe\">\n",
       "  <thead>\n",
       "    <tr style=\"text-align: right;\">\n",
       "      <th></th>\n",
       "      <th>CustomerID</th>\n",
       "      <th>days_since_last_trans</th>\n",
       "      <th>TotalCount</th>\n",
       "      <th>TotalSpendings</th>\n",
       "    </tr>\n",
       "  </thead>\n",
       "  <tbody>\n",
       "    <tr>\n",
       "      <th>0</th>\n",
       "      <td>12346</td>\n",
       "      <td>325</td>\n",
       "      <td>1</td>\n",
       "      <td>77183.60</td>\n",
       "    </tr>\n",
       "    <tr>\n",
       "      <th>1</th>\n",
       "      <td>12347</td>\n",
       "      <td>1</td>\n",
       "      <td>7</td>\n",
       "      <td>4310.00</td>\n",
       "    </tr>\n",
       "    <tr>\n",
       "      <th>2</th>\n",
       "      <td>12348</td>\n",
       "      <td>74</td>\n",
       "      <td>4</td>\n",
       "      <td>1797.24</td>\n",
       "    </tr>\n",
       "    <tr>\n",
       "      <th>3</th>\n",
       "      <td>12349</td>\n",
       "      <td>18</td>\n",
       "      <td>1</td>\n",
       "      <td>1757.55</td>\n",
       "    </tr>\n",
       "    <tr>\n",
       "      <th>4</th>\n",
       "      <td>12350</td>\n",
       "      <td>309</td>\n",
       "      <td>1</td>\n",
       "      <td>334.40</td>\n",
       "    </tr>\n",
       "    <tr>\n",
       "      <th>...</th>\n",
       "      <td>...</td>\n",
       "      <td>...</td>\n",
       "      <td>...</td>\n",
       "      <td>...</td>\n",
       "    </tr>\n",
       "    <tr>\n",
       "      <th>4333</th>\n",
       "      <td>18280</td>\n",
       "      <td>277</td>\n",
       "      <td>1</td>\n",
       "      <td>180.60</td>\n",
       "    </tr>\n",
       "    <tr>\n",
       "      <th>4334</th>\n",
       "      <td>18281</td>\n",
       "      <td>180</td>\n",
       "      <td>1</td>\n",
       "      <td>80.82</td>\n",
       "    </tr>\n",
       "    <tr>\n",
       "      <th>4335</th>\n",
       "      <td>18282</td>\n",
       "      <td>7</td>\n",
       "      <td>2</td>\n",
       "      <td>178.05</td>\n",
       "    </tr>\n",
       "    <tr>\n",
       "      <th>4336</th>\n",
       "      <td>18283</td>\n",
       "      <td>3</td>\n",
       "      <td>16</td>\n",
       "      <td>2094.88</td>\n",
       "    </tr>\n",
       "    <tr>\n",
       "      <th>4337</th>\n",
       "      <td>18287</td>\n",
       "      <td>42</td>\n",
       "      <td>3</td>\n",
       "      <td>1837.28</td>\n",
       "    </tr>\n",
       "  </tbody>\n",
       "</table>\n",
       "<p>4338 rows × 4 columns</p>\n",
       "</div>"
      ],
      "text/plain": [
       "      CustomerID  days_since_last_trans  TotalCount  TotalSpendings\n",
       "0          12346                    325           1        77183.60\n",
       "1          12347                      1           7         4310.00\n",
       "2          12348                     74           4         1797.24\n",
       "3          12349                     18           1         1757.55\n",
       "4          12350                    309           1          334.40\n",
       "...          ...                    ...         ...             ...\n",
       "4333       18280                    277           1          180.60\n",
       "4334       18281                    180           1           80.82\n",
       "4335       18282                      7           2          178.05\n",
       "4336       18283                      3          16         2094.88\n",
       "4337       18287                     42           3         1837.28\n",
       "\n",
       "[4338 rows x 4 columns]"
      ]
     },
     "execution_count": 20,
     "metadata": {},
     "output_type": "execute_result"
    }
   ],
   "source": [
    "# merging all tables to create rfm df\n",
    "rfm_df = rfm.merge(total_spending, on='CustomerID', how='left')\n",
    "rfm_df\n"
   ]
  },
  {
   "cell_type": "code",
   "execution_count": 21,
   "id": "6142e65d",
   "metadata": {},
   "outputs": [],
   "source": [
    "# calculating r,f,m values\n",
    "r = pd.qcut(rfm_df['days_since_last_trans'], q=5, labels=range(5,0,-1))\n",
    "f = pd.qcut(rfm_df['TotalCount'].rank(method='first'),5, labels=[1, 2, 3, 4, 5], duplicates='drop')\n",
    "m = pd.qcut(rfm_df['TotalSpendings'], q=5, labels=range(1,6))"
   ]
  },
  {
   "cell_type": "code",
   "execution_count": 22,
   "id": "14875be9",
   "metadata": {},
   "outputs": [
    {
     "data": {
      "application/vnd.microsoft.datawrangler.viewer.v0+json": {
       "columns": [
        {
         "name": "index",
         "rawType": "int64",
         "type": "integer"
        },
        {
         "name": "CustomerID",
         "rawType": "Int64",
         "type": "integer"
        },
        {
         "name": "days_since_last_trans",
         "rawType": "int64",
         "type": "integer"
        },
        {
         "name": "TotalCount",
         "rawType": "int64",
         "type": "integer"
        },
        {
         "name": "TotalSpendings",
         "rawType": "float64",
         "type": "float"
        },
        {
         "name": "R",
         "rawType": "category",
         "type": "unknown"
        },
        {
         "name": "F",
         "rawType": "category",
         "type": "unknown"
        },
        {
         "name": "M",
         "rawType": "category",
         "type": "unknown"
        }
       ],
       "ref": "c13ec922-36cf-4b98-9d0a-2999bac884ef",
       "rows": [
        [
         "0",
         "12346",
         "325",
         "1",
         "77183.6",
         "1",
         "1",
         "5"
        ],
        [
         "1",
         "12347",
         "1",
         "7",
         "4310.0",
         "5",
         "5",
         "5"
        ],
        [
         "2",
         "12348",
         "74",
         "4",
         "1797.24",
         "2",
         "4",
         "4"
        ],
        [
         "3",
         "12349",
         "18",
         "1",
         "1757.55",
         "4",
         "1",
         "4"
        ],
        [
         "4",
         "12350",
         "309",
         "1",
         "334.4",
         "1",
         "1",
         "2"
        ],
        [
         "5",
         "12352",
         "35",
         "8",
         "2506.04",
         "3",
         "5",
         "5"
        ],
        [
         "6",
         "12353",
         "203",
         "1",
         "89.0",
         "1",
         "1",
         "1"
        ],
        [
         "7",
         "12354",
         "231",
         "1",
         "1079.4",
         "1",
         "1",
         "4"
        ],
        [
         "8",
         "12355",
         "213",
         "1",
         "459.4",
         "1",
         "1",
         "2"
        ],
        [
         "9",
         "12356",
         "22",
         "3",
         "2811.43",
         "4",
         "3",
         "5"
        ],
        [
         "10",
         "12357",
         "32",
         "1",
         "6207.67",
         "4",
         "1",
         "5"
        ],
        [
         "11",
         "12358",
         "1",
         "2",
         "1168.06",
         "5",
         "2",
         "4"
        ],
        [
         "12",
         "12359",
         "57",
         "4",
         "6372.58",
         "3",
         "4",
         "5"
        ],
        [
         "13",
         "12360",
         "51",
         "3",
         "2662.06",
         "3",
         "3",
         "5"
        ],
        [
         "14",
         "12361",
         "286",
         "1",
         "189.9",
         "1",
         "1",
         "1"
        ],
        [
         "15",
         "12362",
         "2",
         "10",
         "5226.23",
         "5",
         "5",
         "5"
        ],
        [
         "16",
         "12363",
         "109",
         "2",
         "552.0",
         "2",
         "2",
         "3"
        ],
        [
         "17",
         "12364",
         "7",
         "4",
         "1313.1",
         "5",
         "4",
         "4"
        ],
        [
         "18",
         "12365",
         "290",
         "2",
         "641.38",
         "1",
         "2",
         "3"
        ],
        [
         "19",
         "12367",
         "3",
         "1",
         "168.9",
         "5",
         "1",
         "1"
        ],
        [
         "20",
         "12370",
         "50",
         "4",
         "3545.69",
         "3",
         "4",
         "5"
        ],
        [
         "21",
         "12371",
         "44",
         "2",
         "1887.96",
         "3",
         "2",
         "4"
        ],
        [
         "22",
         "12372",
         "71",
         "3",
         "1298.04",
         "3",
         "3",
         "4"
        ],
        [
         "23",
         "12373",
         "310",
         "1",
         "364.6",
         "1",
         "1",
         "2"
        ],
        [
         "24",
         "12374",
         "24",
         "1",
         "742.9300000000001",
         "4",
         "1",
         "3"
        ],
        [
         "25",
         "12375",
         "10",
         "2",
         "457.5",
         "5",
         "2",
         "2"
        ],
        [
         "26",
         "12377",
         "314",
         "2",
         "1628.12",
         "1",
         "2",
         "4"
        ],
        [
         "27",
         "12378",
         "129",
         "1",
         "4008.62",
         "2",
         "1",
         "5"
        ],
        [
         "28",
         "12379",
         "81",
         "2",
         "852.24",
         "2",
         "2",
         "3"
        ],
        [
         "29",
         "12380",
         "21",
         "4",
         "2724.81",
         "4",
         "4",
         "5"
        ],
        [
         "30",
         "12381",
         "4",
         "5",
         "1845.31",
         "5",
         "4",
         "4"
        ],
        [
         "31",
         "12383",
         "184",
         "5",
         "1850.56",
         "1",
         "4",
         "4"
        ],
        [
         "32",
         "12384",
         "28",
         "2",
         "585.27",
         "4",
         "2",
         "3"
        ],
        [
         "33",
         "12386",
         "337",
         "2",
         "401.9",
         "1",
         "2",
         "2"
        ],
        [
         "34",
         "12388",
         "15",
         "6",
         "2780.66",
         "4",
         "4",
         "5"
        ],
        [
         "35",
         "12390",
         "79",
         "1",
         "549.84",
         "2",
         "1",
         "3"
        ],
        [
         "36",
         "12391",
         "21",
         "1",
         "460.89",
         "4",
         "1",
         "2"
        ],
        [
         "37",
         "12393",
         "71",
         "4",
         "1582.6000000000001",
         "3",
         "4",
         "4"
        ],
        [
         "38",
         "12394",
         "63",
         "2",
         "1272.48",
         "3",
         "2",
         "4"
        ],
        [
         "39",
         "12395",
         "18",
         "12",
         "3018.63",
         "4",
         "5",
         "5"
        ],
        [
         "40",
         "12397",
         "35",
         "2",
         "2409.9",
         "3",
         "2",
         "5"
        ],
        [
         "41",
         "12398",
         "45",
         "1",
         "1635.6599999999999",
         "3",
         "1",
         "4"
        ],
        [
         "42",
         "12399",
         "118",
         "4",
         "1108.65",
         "2",
         "4",
         "4"
        ],
        [
         "43",
         "12401",
         "302",
         "1",
         "84.3",
         "1",
         "1",
         "1"
        ],
        [
         "44",
         "12402",
         "322",
         "1",
         "225.6",
         "1",
         "1",
         "1"
        ],
        [
         "45",
         "12403",
         "49",
         "1",
         "427.7",
         "3",
         "1",
         "2"
        ],
        [
         "46",
         "12405",
         "148",
         "1",
         "1710.39",
         "2",
         "1",
         "4"
        ],
        [
         "47",
         "12406",
         "21",
         "2",
         "3415.3",
         "4",
         "2",
         "5"
        ],
        [
         "48",
         "12407",
         "49",
         "5",
         "1708.1200000000001",
         "3",
         "4",
         "4"
        ],
        [
         "49",
         "12408",
         "32",
         "5",
         "2888.55",
         "4",
         "4",
         "5"
        ]
       ],
       "shape": {
        "columns": 7,
        "rows": 4338
       }
      },
      "text/html": [
       "<div>\n",
       "<style scoped>\n",
       "    .dataframe tbody tr th:only-of-type {\n",
       "        vertical-align: middle;\n",
       "    }\n",
       "\n",
       "    .dataframe tbody tr th {\n",
       "        vertical-align: top;\n",
       "    }\n",
       "\n",
       "    .dataframe thead th {\n",
       "        text-align: right;\n",
       "    }\n",
       "</style>\n",
       "<table border=\"1\" class=\"dataframe\">\n",
       "  <thead>\n",
       "    <tr style=\"text-align: right;\">\n",
       "      <th></th>\n",
       "      <th>CustomerID</th>\n",
       "      <th>days_since_last_trans</th>\n",
       "      <th>TotalCount</th>\n",
       "      <th>TotalSpendings</th>\n",
       "      <th>R</th>\n",
       "      <th>F</th>\n",
       "      <th>M</th>\n",
       "    </tr>\n",
       "  </thead>\n",
       "  <tbody>\n",
       "    <tr>\n",
       "      <th>0</th>\n",
       "      <td>12346</td>\n",
       "      <td>325</td>\n",
       "      <td>1</td>\n",
       "      <td>77183.60</td>\n",
       "      <td>1</td>\n",
       "      <td>1</td>\n",
       "      <td>5</td>\n",
       "    </tr>\n",
       "    <tr>\n",
       "      <th>1</th>\n",
       "      <td>12347</td>\n",
       "      <td>1</td>\n",
       "      <td>7</td>\n",
       "      <td>4310.00</td>\n",
       "      <td>5</td>\n",
       "      <td>5</td>\n",
       "      <td>5</td>\n",
       "    </tr>\n",
       "    <tr>\n",
       "      <th>2</th>\n",
       "      <td>12348</td>\n",
       "      <td>74</td>\n",
       "      <td>4</td>\n",
       "      <td>1797.24</td>\n",
       "      <td>2</td>\n",
       "      <td>4</td>\n",
       "      <td>4</td>\n",
       "    </tr>\n",
       "    <tr>\n",
       "      <th>3</th>\n",
       "      <td>12349</td>\n",
       "      <td>18</td>\n",
       "      <td>1</td>\n",
       "      <td>1757.55</td>\n",
       "      <td>4</td>\n",
       "      <td>1</td>\n",
       "      <td>4</td>\n",
       "    </tr>\n",
       "    <tr>\n",
       "      <th>4</th>\n",
       "      <td>12350</td>\n",
       "      <td>309</td>\n",
       "      <td>1</td>\n",
       "      <td>334.40</td>\n",
       "      <td>1</td>\n",
       "      <td>1</td>\n",
       "      <td>2</td>\n",
       "    </tr>\n",
       "    <tr>\n",
       "      <th>...</th>\n",
       "      <td>...</td>\n",
       "      <td>...</td>\n",
       "      <td>...</td>\n",
       "      <td>...</td>\n",
       "      <td>...</td>\n",
       "      <td>...</td>\n",
       "      <td>...</td>\n",
       "    </tr>\n",
       "    <tr>\n",
       "      <th>4333</th>\n",
       "      <td>18280</td>\n",
       "      <td>277</td>\n",
       "      <td>1</td>\n",
       "      <td>180.60</td>\n",
       "      <td>1</td>\n",
       "      <td>2</td>\n",
       "      <td>1</td>\n",
       "    </tr>\n",
       "    <tr>\n",
       "      <th>4334</th>\n",
       "      <td>18281</td>\n",
       "      <td>180</td>\n",
       "      <td>1</td>\n",
       "      <td>80.82</td>\n",
       "      <td>1</td>\n",
       "      <td>2</td>\n",
       "      <td>1</td>\n",
       "    </tr>\n",
       "    <tr>\n",
       "      <th>4335</th>\n",
       "      <td>18282</td>\n",
       "      <td>7</td>\n",
       "      <td>2</td>\n",
       "      <td>178.05</td>\n",
       "      <td>5</td>\n",
       "      <td>3</td>\n",
       "      <td>1</td>\n",
       "    </tr>\n",
       "    <tr>\n",
       "      <th>4336</th>\n",
       "      <td>18283</td>\n",
       "      <td>3</td>\n",
       "      <td>16</td>\n",
       "      <td>2094.88</td>\n",
       "      <td>5</td>\n",
       "      <td>5</td>\n",
       "      <td>5</td>\n",
       "    </tr>\n",
       "    <tr>\n",
       "      <th>4337</th>\n",
       "      <td>18287</td>\n",
       "      <td>42</td>\n",
       "      <td>3</td>\n",
       "      <td>1837.28</td>\n",
       "      <td>3</td>\n",
       "      <td>4</td>\n",
       "      <td>4</td>\n",
       "    </tr>\n",
       "  </tbody>\n",
       "</table>\n",
       "<p>4338 rows × 7 columns</p>\n",
       "</div>"
      ],
      "text/plain": [
       "      CustomerID  days_since_last_trans  TotalCount  TotalSpendings  R  F  M\n",
       "0          12346                    325           1        77183.60  1  1  5\n",
       "1          12347                      1           7         4310.00  5  5  5\n",
       "2          12348                     74           4         1797.24  2  4  4\n",
       "3          12349                     18           1         1757.55  4  1  4\n",
       "4          12350                    309           1          334.40  1  1  2\n",
       "...          ...                    ...         ...             ... .. .. ..\n",
       "4333       18280                    277           1          180.60  1  2  1\n",
       "4334       18281                    180           1           80.82  1  2  1\n",
       "4335       18282                      7           2          178.05  5  3  1\n",
       "4336       18283                      3          16         2094.88  5  5  5\n",
       "4337       18287                     42           3         1837.28  3  4  4\n",
       "\n",
       "[4338 rows x 7 columns]"
      ]
     },
     "execution_count": 22,
     "metadata": {},
     "output_type": "execute_result"
    }
   ],
   "source": [
    "# assigning rfm values to the dataframe\n",
    "rfm_df = rfm_df.assign(R=r.values, F=f.values, M=m.values)\n",
    "rfm_df"
   ]
  },
  {
   "cell_type": "code",
   "execution_count": 23,
   "id": "a51bb9d9",
   "metadata": {},
   "outputs": [
    {
     "data": {
      "application/vnd.microsoft.datawrangler.viewer.v0+json": {
       "columns": [
        {
         "name": "index",
         "rawType": "int64",
         "type": "integer"
        },
        {
         "name": "CustomerID",
         "rawType": "Int64",
         "type": "integer"
        },
        {
         "name": "days_since_last_trans",
         "rawType": "int64",
         "type": "integer"
        },
        {
         "name": "TotalCount",
         "rawType": "int64",
         "type": "integer"
        },
        {
         "name": "TotalSpendings",
         "rawType": "float64",
         "type": "float"
        },
        {
         "name": "R",
         "rawType": "category",
         "type": "unknown"
        },
        {
         "name": "F",
         "rawType": "category",
         "type": "unknown"
        },
        {
         "name": "M",
         "rawType": "category",
         "type": "unknown"
        },
        {
         "name": "rfm_total",
         "rawType": "int64",
         "type": "integer"
        }
       ],
       "ref": "af30fcf7-4375-4bac-8a99-68bc5e89498f",
       "rows": [
        [
         "0",
         "12346",
         "325",
         "1",
         "77183.6",
         "1",
         "1",
         "5",
         "7"
        ],
        [
         "1",
         "12347",
         "1",
         "7",
         "4310.0",
         "5",
         "5",
         "5",
         "15"
        ],
        [
         "2",
         "12348",
         "74",
         "4",
         "1797.24",
         "2",
         "4",
         "4",
         "10"
        ],
        [
         "3",
         "12349",
         "18",
         "1",
         "1757.55",
         "4",
         "1",
         "4",
         "9"
        ],
        [
         "4",
         "12350",
         "309",
         "1",
         "334.4",
         "1",
         "1",
         "2",
         "4"
        ],
        [
         "5",
         "12352",
         "35",
         "8",
         "2506.04",
         "3",
         "5",
         "5",
         "13"
        ],
        [
         "6",
         "12353",
         "203",
         "1",
         "89.0",
         "1",
         "1",
         "1",
         "3"
        ],
        [
         "7",
         "12354",
         "231",
         "1",
         "1079.4",
         "1",
         "1",
         "4",
         "6"
        ],
        [
         "8",
         "12355",
         "213",
         "1",
         "459.4",
         "1",
         "1",
         "2",
         "4"
        ],
        [
         "9",
         "12356",
         "22",
         "3",
         "2811.43",
         "4",
         "3",
         "5",
         "12"
        ],
        [
         "10",
         "12357",
         "32",
         "1",
         "6207.67",
         "4",
         "1",
         "5",
         "10"
        ],
        [
         "11",
         "12358",
         "1",
         "2",
         "1168.06",
         "5",
         "2",
         "4",
         "11"
        ],
        [
         "12",
         "12359",
         "57",
         "4",
         "6372.58",
         "3",
         "4",
         "5",
         "12"
        ],
        [
         "13",
         "12360",
         "51",
         "3",
         "2662.06",
         "3",
         "3",
         "5",
         "11"
        ],
        [
         "14",
         "12361",
         "286",
         "1",
         "189.9",
         "1",
         "1",
         "1",
         "3"
        ],
        [
         "15",
         "12362",
         "2",
         "10",
         "5226.23",
         "5",
         "5",
         "5",
         "15"
        ],
        [
         "16",
         "12363",
         "109",
         "2",
         "552.0",
         "2",
         "2",
         "3",
         "7"
        ],
        [
         "17",
         "12364",
         "7",
         "4",
         "1313.1",
         "5",
         "4",
         "4",
         "13"
        ],
        [
         "18",
         "12365",
         "290",
         "2",
         "641.38",
         "1",
         "2",
         "3",
         "6"
        ],
        [
         "19",
         "12367",
         "3",
         "1",
         "168.9",
         "5",
         "1",
         "1",
         "7"
        ],
        [
         "20",
         "12370",
         "50",
         "4",
         "3545.69",
         "3",
         "4",
         "5",
         "12"
        ],
        [
         "21",
         "12371",
         "44",
         "2",
         "1887.96",
         "3",
         "2",
         "4",
         "9"
        ],
        [
         "22",
         "12372",
         "71",
         "3",
         "1298.04",
         "3",
         "3",
         "4",
         "10"
        ],
        [
         "23",
         "12373",
         "310",
         "1",
         "364.6",
         "1",
         "1",
         "2",
         "4"
        ],
        [
         "24",
         "12374",
         "24",
         "1",
         "742.9300000000001",
         "4",
         "1",
         "3",
         "8"
        ],
        [
         "25",
         "12375",
         "10",
         "2",
         "457.5",
         "5",
         "2",
         "2",
         "9"
        ],
        [
         "26",
         "12377",
         "314",
         "2",
         "1628.12",
         "1",
         "2",
         "4",
         "7"
        ],
        [
         "27",
         "12378",
         "129",
         "1",
         "4008.62",
         "2",
         "1",
         "5",
         "8"
        ],
        [
         "28",
         "12379",
         "81",
         "2",
         "852.24",
         "2",
         "2",
         "3",
         "7"
        ],
        [
         "29",
         "12380",
         "21",
         "4",
         "2724.81",
         "4",
         "4",
         "5",
         "13"
        ],
        [
         "30",
         "12381",
         "4",
         "5",
         "1845.31",
         "5",
         "4",
         "4",
         "13"
        ],
        [
         "31",
         "12383",
         "184",
         "5",
         "1850.56",
         "1",
         "4",
         "4",
         "9"
        ],
        [
         "32",
         "12384",
         "28",
         "2",
         "585.27",
         "4",
         "2",
         "3",
         "9"
        ],
        [
         "33",
         "12386",
         "337",
         "2",
         "401.9",
         "1",
         "2",
         "2",
         "5"
        ],
        [
         "34",
         "12388",
         "15",
         "6",
         "2780.66",
         "4",
         "4",
         "5",
         "13"
        ],
        [
         "35",
         "12390",
         "79",
         "1",
         "549.84",
         "2",
         "1",
         "3",
         "6"
        ],
        [
         "36",
         "12391",
         "21",
         "1",
         "460.89",
         "4",
         "1",
         "2",
         "7"
        ],
        [
         "37",
         "12393",
         "71",
         "4",
         "1582.6000000000001",
         "3",
         "4",
         "4",
         "11"
        ],
        [
         "38",
         "12394",
         "63",
         "2",
         "1272.48",
         "3",
         "2",
         "4",
         "9"
        ],
        [
         "39",
         "12395",
         "18",
         "12",
         "3018.63",
         "4",
         "5",
         "5",
         "14"
        ],
        [
         "40",
         "12397",
         "35",
         "2",
         "2409.9",
         "3",
         "2",
         "5",
         "10"
        ],
        [
         "41",
         "12398",
         "45",
         "1",
         "1635.6599999999999",
         "3",
         "1",
         "4",
         "8"
        ],
        [
         "42",
         "12399",
         "118",
         "4",
         "1108.65",
         "2",
         "4",
         "4",
         "10"
        ],
        [
         "43",
         "12401",
         "302",
         "1",
         "84.3",
         "1",
         "1",
         "1",
         "3"
        ],
        [
         "44",
         "12402",
         "322",
         "1",
         "225.6",
         "1",
         "1",
         "1",
         "3"
        ],
        [
         "45",
         "12403",
         "49",
         "1",
         "427.7",
         "3",
         "1",
         "2",
         "6"
        ],
        [
         "46",
         "12405",
         "148",
         "1",
         "1710.39",
         "2",
         "1",
         "4",
         "7"
        ],
        [
         "47",
         "12406",
         "21",
         "2",
         "3415.3",
         "4",
         "2",
         "5",
         "11"
        ],
        [
         "48",
         "12407",
         "49",
         "5",
         "1708.1200000000001",
         "3",
         "4",
         "4",
         "11"
        ],
        [
         "49",
         "12408",
         "32",
         "5",
         "2888.55",
         "4",
         "4",
         "5",
         "13"
        ]
       ],
       "shape": {
        "columns": 8,
        "rows": 4338
       }
      },
      "text/html": [
       "<div>\n",
       "<style scoped>\n",
       "    .dataframe tbody tr th:only-of-type {\n",
       "        vertical-align: middle;\n",
       "    }\n",
       "\n",
       "    .dataframe tbody tr th {\n",
       "        vertical-align: top;\n",
       "    }\n",
       "\n",
       "    .dataframe thead th {\n",
       "        text-align: right;\n",
       "    }\n",
       "</style>\n",
       "<table border=\"1\" class=\"dataframe\">\n",
       "  <thead>\n",
       "    <tr style=\"text-align: right;\">\n",
       "      <th></th>\n",
       "      <th>CustomerID</th>\n",
       "      <th>days_since_last_trans</th>\n",
       "      <th>TotalCount</th>\n",
       "      <th>TotalSpendings</th>\n",
       "      <th>R</th>\n",
       "      <th>F</th>\n",
       "      <th>M</th>\n",
       "      <th>rfm_total</th>\n",
       "    </tr>\n",
       "  </thead>\n",
       "  <tbody>\n",
       "    <tr>\n",
       "      <th>0</th>\n",
       "      <td>12346</td>\n",
       "      <td>325</td>\n",
       "      <td>1</td>\n",
       "      <td>77183.60</td>\n",
       "      <td>1</td>\n",
       "      <td>1</td>\n",
       "      <td>5</td>\n",
       "      <td>7</td>\n",
       "    </tr>\n",
       "    <tr>\n",
       "      <th>1</th>\n",
       "      <td>12347</td>\n",
       "      <td>1</td>\n",
       "      <td>7</td>\n",
       "      <td>4310.00</td>\n",
       "      <td>5</td>\n",
       "      <td>5</td>\n",
       "      <td>5</td>\n",
       "      <td>15</td>\n",
       "    </tr>\n",
       "    <tr>\n",
       "      <th>2</th>\n",
       "      <td>12348</td>\n",
       "      <td>74</td>\n",
       "      <td>4</td>\n",
       "      <td>1797.24</td>\n",
       "      <td>2</td>\n",
       "      <td>4</td>\n",
       "      <td>4</td>\n",
       "      <td>10</td>\n",
       "    </tr>\n",
       "    <tr>\n",
       "      <th>3</th>\n",
       "      <td>12349</td>\n",
       "      <td>18</td>\n",
       "      <td>1</td>\n",
       "      <td>1757.55</td>\n",
       "      <td>4</td>\n",
       "      <td>1</td>\n",
       "      <td>4</td>\n",
       "      <td>9</td>\n",
       "    </tr>\n",
       "    <tr>\n",
       "      <th>4</th>\n",
       "      <td>12350</td>\n",
       "      <td>309</td>\n",
       "      <td>1</td>\n",
       "      <td>334.40</td>\n",
       "      <td>1</td>\n",
       "      <td>1</td>\n",
       "      <td>2</td>\n",
       "      <td>4</td>\n",
       "    </tr>\n",
       "    <tr>\n",
       "      <th>...</th>\n",
       "      <td>...</td>\n",
       "      <td>...</td>\n",
       "      <td>...</td>\n",
       "      <td>...</td>\n",
       "      <td>...</td>\n",
       "      <td>...</td>\n",
       "      <td>...</td>\n",
       "      <td>...</td>\n",
       "    </tr>\n",
       "    <tr>\n",
       "      <th>4333</th>\n",
       "      <td>18280</td>\n",
       "      <td>277</td>\n",
       "      <td>1</td>\n",
       "      <td>180.60</td>\n",
       "      <td>1</td>\n",
       "      <td>2</td>\n",
       "      <td>1</td>\n",
       "      <td>4</td>\n",
       "    </tr>\n",
       "    <tr>\n",
       "      <th>4334</th>\n",
       "      <td>18281</td>\n",
       "      <td>180</td>\n",
       "      <td>1</td>\n",
       "      <td>80.82</td>\n",
       "      <td>1</td>\n",
       "      <td>2</td>\n",
       "      <td>1</td>\n",
       "      <td>4</td>\n",
       "    </tr>\n",
       "    <tr>\n",
       "      <th>4335</th>\n",
       "      <td>18282</td>\n",
       "      <td>7</td>\n",
       "      <td>2</td>\n",
       "      <td>178.05</td>\n",
       "      <td>5</td>\n",
       "      <td>3</td>\n",
       "      <td>1</td>\n",
       "      <td>9</td>\n",
       "    </tr>\n",
       "    <tr>\n",
       "      <th>4336</th>\n",
       "      <td>18283</td>\n",
       "      <td>3</td>\n",
       "      <td>16</td>\n",
       "      <td>2094.88</td>\n",
       "      <td>5</td>\n",
       "      <td>5</td>\n",
       "      <td>5</td>\n",
       "      <td>15</td>\n",
       "    </tr>\n",
       "    <tr>\n",
       "      <th>4337</th>\n",
       "      <td>18287</td>\n",
       "      <td>42</td>\n",
       "      <td>3</td>\n",
       "      <td>1837.28</td>\n",
       "      <td>3</td>\n",
       "      <td>4</td>\n",
       "      <td>4</td>\n",
       "      <td>11</td>\n",
       "    </tr>\n",
       "  </tbody>\n",
       "</table>\n",
       "<p>4338 rows × 8 columns</p>\n",
       "</div>"
      ],
      "text/plain": [
       "      CustomerID  days_since_last_trans  TotalCount  TotalSpendings  R  F  M  \\\n",
       "0          12346                    325           1        77183.60  1  1  5   \n",
       "1          12347                      1           7         4310.00  5  5  5   \n",
       "2          12348                     74           4         1797.24  2  4  4   \n",
       "3          12349                     18           1         1757.55  4  1  4   \n",
       "4          12350                    309           1          334.40  1  1  2   \n",
       "...          ...                    ...         ...             ... .. .. ..   \n",
       "4333       18280                    277           1          180.60  1  2  1   \n",
       "4334       18281                    180           1           80.82  1  2  1   \n",
       "4335       18282                      7           2          178.05  5  3  1   \n",
       "4336       18283                      3          16         2094.88  5  5  5   \n",
       "4337       18287                     42           3         1837.28  3  4  4   \n",
       "\n",
       "      rfm_total  \n",
       "0             7  \n",
       "1            15  \n",
       "2            10  \n",
       "3             9  \n",
       "4             4  \n",
       "...         ...  \n",
       "4333          4  \n",
       "4334          4  \n",
       "4335          9  \n",
       "4336         15  \n",
       "4337         11  \n",
       "\n",
       "[4338 rows x 8 columns]"
      ]
     },
     "execution_count": 23,
     "metadata": {},
     "output_type": "execute_result"
    }
   ],
   "source": [
    "# calculating total rfm value for each customerID\n",
    "rfm_df['rfm_total'] = rfm_df[['R','F','M']].sum(axis=1)\n",
    "rfm_df"
   ]
  },
  {
   "cell_type": "code",
   "execution_count": null,
   "id": "6215d8e7",
   "metadata": {},
   "outputs": [
    {
     "data": {
      "application/vnd.microsoft.datawrangler.viewer.v0+json": {
       "columns": [
        {
         "name": "index",
         "rawType": "int64",
         "type": "integer"
        },
        {
         "name": "CustomerID",
         "rawType": "Int64",
         "type": "integer"
        },
        {
         "name": "days_since_last_trans",
         "rawType": "int64",
         "type": "integer"
        },
        {
         "name": "TotalCount",
         "rawType": "int64",
         "type": "integer"
        },
        {
         "name": "TotalSpendings",
         "rawType": "float64",
         "type": "float"
        },
        {
         "name": "R",
         "rawType": "category",
         "type": "unknown"
        },
        {
         "name": "F",
         "rawType": "category",
         "type": "unknown"
        },
        {
         "name": "M",
         "rawType": "category",
         "type": "unknown"
        },
        {
         "name": "rfm_total",
         "rawType": "int64",
         "type": "integer"
        },
        {
         "name": "rfm_score",
         "rawType": "category",
         "type": "unknown"
        }
       ],
       "ref": "2b81a392-edcb-4073-825c-6048f020a703",
       "rows": [
        [
         "0",
         "12346",
         "325",
         "1",
         "77183.6",
         "1",
         "1",
         "5",
         "7",
         "4"
        ],
        [
         "1",
         "12347",
         "1",
         "7",
         "4310.0",
         "5",
         "5",
         "5",
         "15",
         "10"
        ],
        [
         "2",
         "12348",
         "74",
         "4",
         "1797.24",
         "2",
         "4",
         "4",
         "10",
         "6"
        ],
        [
         "3",
         "12349",
         "18",
         "1",
         "1757.55",
         "4",
         "1",
         "4",
         "9",
         "5"
        ],
        [
         "4",
         "12350",
         "309",
         "1",
         "334.4",
         "1",
         "1",
         "2",
         "4",
         "1"
        ],
        [
         "5",
         "12352",
         "35",
         "8",
         "2506.04",
         "3",
         "5",
         "5",
         "13",
         "8"
        ],
        [
         "6",
         "12353",
         "203",
         "1",
         "89.0",
         "1",
         "1",
         "1",
         "3",
         "1"
        ],
        [
         "7",
         "12354",
         "231",
         "1",
         "1079.4",
         "1",
         "1",
         "4",
         "6",
         "3"
        ],
        [
         "8",
         "12355",
         "213",
         "1",
         "459.4",
         "1",
         "1",
         "2",
         "4",
         "1"
        ],
        [
         "9",
         "12356",
         "22",
         "3",
         "2811.43",
         "4",
         "3",
         "5",
         "12",
         "8"
        ],
        [
         "10",
         "12357",
         "32",
         "1",
         "6207.67",
         "4",
         "1",
         "5",
         "10",
         "6"
        ],
        [
         "11",
         "12358",
         "1",
         "2",
         "1168.06",
         "5",
         "2",
         "4",
         "11",
         "7"
        ],
        [
         "12",
         "12359",
         "57",
         "4",
         "6372.58",
         "3",
         "4",
         "5",
         "12",
         "8"
        ],
        [
         "13",
         "12360",
         "51",
         "3",
         "2662.06",
         "3",
         "3",
         "5",
         "11",
         "7"
        ],
        [
         "14",
         "12361",
         "286",
         "1",
         "189.9",
         "1",
         "1",
         "1",
         "3",
         "1"
        ],
        [
         "15",
         "12362",
         "2",
         "10",
         "5226.23",
         "5",
         "5",
         "5",
         "15",
         "10"
        ],
        [
         "16",
         "12363",
         "109",
         "2",
         "552.0",
         "2",
         "2",
         "3",
         "7",
         "4"
        ],
        [
         "17",
         "12364",
         "7",
         "4",
         "1313.1",
         "5",
         "4",
         "4",
         "13",
         "8"
        ],
        [
         "18",
         "12365",
         "290",
         "2",
         "641.38",
         "1",
         "2",
         "3",
         "6",
         "3"
        ],
        [
         "19",
         "12367",
         "3",
         "1",
         "168.9",
         "5",
         "1",
         "1",
         "7",
         "4"
        ],
        [
         "20",
         "12370",
         "50",
         "4",
         "3545.69",
         "3",
         "4",
         "5",
         "12",
         "8"
        ],
        [
         "21",
         "12371",
         "44",
         "2",
         "1887.96",
         "3",
         "2",
         "4",
         "9",
         "5"
        ],
        [
         "22",
         "12372",
         "71",
         "3",
         "1298.04",
         "3",
         "3",
         "4",
         "10",
         "6"
        ],
        [
         "23",
         "12373",
         "310",
         "1",
         "364.6",
         "1",
         "1",
         "2",
         "4",
         "1"
        ],
        [
         "24",
         "12374",
         "24",
         "1",
         "742.9300000000001",
         "4",
         "1",
         "3",
         "8",
         "4"
        ],
        [
         "25",
         "12375",
         "10",
         "2",
         "457.5",
         "5",
         "2",
         "2",
         "9",
         "5"
        ],
        [
         "26",
         "12377",
         "314",
         "2",
         "1628.12",
         "1",
         "2",
         "4",
         "7",
         "4"
        ],
        [
         "27",
         "12378",
         "129",
         "1",
         "4008.62",
         "2",
         "1",
         "5",
         "8",
         "4"
        ],
        [
         "28",
         "12379",
         "81",
         "2",
         "852.24",
         "2",
         "2",
         "3",
         "7",
         "4"
        ],
        [
         "29",
         "12380",
         "21",
         "4",
         "2724.81",
         "4",
         "4",
         "5",
         "13",
         "8"
        ],
        [
         "30",
         "12381",
         "4",
         "5",
         "1845.31",
         "5",
         "4",
         "4",
         "13",
         "8"
        ],
        [
         "31",
         "12383",
         "184",
         "5",
         "1850.56",
         "1",
         "4",
         "4",
         "9",
         "5"
        ],
        [
         "32",
         "12384",
         "28",
         "2",
         "585.27",
         "4",
         "2",
         "3",
         "9",
         "5"
        ],
        [
         "33",
         "12386",
         "337",
         "2",
         "401.9",
         "1",
         "2",
         "2",
         "5",
         "2"
        ],
        [
         "34",
         "12388",
         "15",
         "6",
         "2780.66",
         "4",
         "4",
         "5",
         "13",
         "8"
        ],
        [
         "35",
         "12390",
         "79",
         "1",
         "549.84",
         "2",
         "1",
         "3",
         "6",
         "3"
        ],
        [
         "36",
         "12391",
         "21",
         "1",
         "460.89",
         "4",
         "1",
         "2",
         "7",
         "4"
        ],
        [
         "37",
         "12393",
         "71",
         "4",
         "1582.6000000000001",
         "3",
         "4",
         "4",
         "11",
         "7"
        ],
        [
         "38",
         "12394",
         "63",
         "2",
         "1272.48",
         "3",
         "2",
         "4",
         "9",
         "5"
        ],
        [
         "39",
         "12395",
         "18",
         "12",
         "3018.63",
         "4",
         "5",
         "5",
         "14",
         "9"
        ],
        [
         "40",
         "12397",
         "35",
         "2",
         "2409.9",
         "3",
         "2",
         "5",
         "10",
         "6"
        ],
        [
         "41",
         "12398",
         "45",
         "1",
         "1635.6599999999999",
         "3",
         "1",
         "4",
         "8",
         "4"
        ],
        [
         "42",
         "12399",
         "118",
         "4",
         "1108.65",
         "2",
         "4",
         "4",
         "10",
         "6"
        ],
        [
         "43",
         "12401",
         "302",
         "1",
         "84.3",
         "1",
         "1",
         "1",
         "3",
         "1"
        ],
        [
         "44",
         "12402",
         "322",
         "1",
         "225.6",
         "1",
         "1",
         "1",
         "3",
         "1"
        ],
        [
         "45",
         "12403",
         "49",
         "1",
         "427.7",
         "3",
         "1",
         "2",
         "6",
         "3"
        ],
        [
         "46",
         "12405",
         "148",
         "1",
         "1710.39",
         "2",
         "1",
         "4",
         "7",
         "4"
        ],
        [
         "47",
         "12406",
         "21",
         "2",
         "3415.3",
         "4",
         "2",
         "5",
         "11",
         "7"
        ],
        [
         "48",
         "12407",
         "49",
         "5",
         "1708.1200000000001",
         "3",
         "4",
         "4",
         "11",
         "7"
        ],
        [
         "49",
         "12408",
         "32",
         "5",
         "2888.55",
         "4",
         "4",
         "5",
         "13",
         "8"
        ]
       ],
       "shape": {
        "columns": 9,
        "rows": 4338
       }
      },
      "text/html": [
       "<div>\n",
       "<style scoped>\n",
       "    .dataframe tbody tr th:only-of-type {\n",
       "        vertical-align: middle;\n",
       "    }\n",
       "\n",
       "    .dataframe tbody tr th {\n",
       "        vertical-align: top;\n",
       "    }\n",
       "\n",
       "    .dataframe thead th {\n",
       "        text-align: right;\n",
       "    }\n",
       "</style>\n",
       "<table border=\"1\" class=\"dataframe\">\n",
       "  <thead>\n",
       "    <tr style=\"text-align: right;\">\n",
       "      <th></th>\n",
       "      <th>CustomerID</th>\n",
       "      <th>days_since_last_trans</th>\n",
       "      <th>TotalCount</th>\n",
       "      <th>TotalSpendings</th>\n",
       "      <th>R</th>\n",
       "      <th>F</th>\n",
       "      <th>M</th>\n",
       "      <th>rfm_total</th>\n",
       "      <th>rfm_score</th>\n",
       "    </tr>\n",
       "  </thead>\n",
       "  <tbody>\n",
       "    <tr>\n",
       "      <th>0</th>\n",
       "      <td>12346</td>\n",
       "      <td>325</td>\n",
       "      <td>1</td>\n",
       "      <td>77183.60</td>\n",
       "      <td>1</td>\n",
       "      <td>1</td>\n",
       "      <td>5</td>\n",
       "      <td>7</td>\n",
       "      <td>4</td>\n",
       "    </tr>\n",
       "    <tr>\n",
       "      <th>1</th>\n",
       "      <td>12347</td>\n",
       "      <td>1</td>\n",
       "      <td>7</td>\n",
       "      <td>4310.00</td>\n",
       "      <td>5</td>\n",
       "      <td>5</td>\n",
       "      <td>5</td>\n",
       "      <td>15</td>\n",
       "      <td>10</td>\n",
       "    </tr>\n",
       "    <tr>\n",
       "      <th>2</th>\n",
       "      <td>12348</td>\n",
       "      <td>74</td>\n",
       "      <td>4</td>\n",
       "      <td>1797.24</td>\n",
       "      <td>2</td>\n",
       "      <td>4</td>\n",
       "      <td>4</td>\n",
       "      <td>10</td>\n",
       "      <td>6</td>\n",
       "    </tr>\n",
       "    <tr>\n",
       "      <th>3</th>\n",
       "      <td>12349</td>\n",
       "      <td>18</td>\n",
       "      <td>1</td>\n",
       "      <td>1757.55</td>\n",
       "      <td>4</td>\n",
       "      <td>1</td>\n",
       "      <td>4</td>\n",
       "      <td>9</td>\n",
       "      <td>5</td>\n",
       "    </tr>\n",
       "    <tr>\n",
       "      <th>4</th>\n",
       "      <td>12350</td>\n",
       "      <td>309</td>\n",
       "      <td>1</td>\n",
       "      <td>334.40</td>\n",
       "      <td>1</td>\n",
       "      <td>1</td>\n",
       "      <td>2</td>\n",
       "      <td>4</td>\n",
       "      <td>1</td>\n",
       "    </tr>\n",
       "    <tr>\n",
       "      <th>...</th>\n",
       "      <td>...</td>\n",
       "      <td>...</td>\n",
       "      <td>...</td>\n",
       "      <td>...</td>\n",
       "      <td>...</td>\n",
       "      <td>...</td>\n",
       "      <td>...</td>\n",
       "      <td>...</td>\n",
       "      <td>...</td>\n",
       "    </tr>\n",
       "    <tr>\n",
       "      <th>4333</th>\n",
       "      <td>18280</td>\n",
       "      <td>277</td>\n",
       "      <td>1</td>\n",
       "      <td>180.60</td>\n",
       "      <td>1</td>\n",
       "      <td>2</td>\n",
       "      <td>1</td>\n",
       "      <td>4</td>\n",
       "      <td>1</td>\n",
       "    </tr>\n",
       "    <tr>\n",
       "      <th>4334</th>\n",
       "      <td>18281</td>\n",
       "      <td>180</td>\n",
       "      <td>1</td>\n",
       "      <td>80.82</td>\n",
       "      <td>1</td>\n",
       "      <td>2</td>\n",
       "      <td>1</td>\n",
       "      <td>4</td>\n",
       "      <td>1</td>\n",
       "    </tr>\n",
       "    <tr>\n",
       "      <th>4335</th>\n",
       "      <td>18282</td>\n",
       "      <td>7</td>\n",
       "      <td>2</td>\n",
       "      <td>178.05</td>\n",
       "      <td>5</td>\n",
       "      <td>3</td>\n",
       "      <td>1</td>\n",
       "      <td>9</td>\n",
       "      <td>5</td>\n",
       "    </tr>\n",
       "    <tr>\n",
       "      <th>4336</th>\n",
       "      <td>18283</td>\n",
       "      <td>3</td>\n",
       "      <td>16</td>\n",
       "      <td>2094.88</td>\n",
       "      <td>5</td>\n",
       "      <td>5</td>\n",
       "      <td>5</td>\n",
       "      <td>15</td>\n",
       "      <td>10</td>\n",
       "    </tr>\n",
       "    <tr>\n",
       "      <th>4337</th>\n",
       "      <td>18287</td>\n",
       "      <td>42</td>\n",
       "      <td>3</td>\n",
       "      <td>1837.28</td>\n",
       "      <td>3</td>\n",
       "      <td>4</td>\n",
       "      <td>4</td>\n",
       "      <td>11</td>\n",
       "      <td>7</td>\n",
       "    </tr>\n",
       "  </tbody>\n",
       "</table>\n",
       "<p>4338 rows × 9 columns</p>\n",
       "</div>"
      ],
      "text/plain": [
       "      CustomerID  days_since_last_trans  TotalCount  TotalSpendings  R  F  M  \\\n",
       "0          12346                    325           1        77183.60  1  1  5   \n",
       "1          12347                      1           7         4310.00  5  5  5   \n",
       "2          12348                     74           4         1797.24  2  4  4   \n",
       "3          12349                     18           1         1757.55  4  1  4   \n",
       "4          12350                    309           1          334.40  1  1  2   \n",
       "...          ...                    ...         ...             ... .. .. ..   \n",
       "4333       18280                    277           1          180.60  1  2  1   \n",
       "4334       18281                    180           1           80.82  1  2  1   \n",
       "4335       18282                      7           2          178.05  5  3  1   \n",
       "4336       18283                      3          16         2094.88  5  5  5   \n",
       "4337       18287                     42           3         1837.28  3  4  4   \n",
       "\n",
       "      rfm_total rfm_score  \n",
       "0             7         4  \n",
       "1            15        10  \n",
       "2            10         6  \n",
       "3             9         5  \n",
       "4             4         1  \n",
       "...         ...       ...  \n",
       "4333          4         1  \n",
       "4334          4         1  \n",
       "4335          9         5  \n",
       "4336         15        10  \n",
       "4337         11         7  \n",
       "\n",
       "[4338 rows x 9 columns]"
      ]
     },
     "execution_count": 25,
     "metadata": {},
     "output_type": "execute_result"
    }
   ],
   "source": [
    "# creating 10 segments instead of 15\n",
    "rfm_df['rfm_score'] = pd.qcut(rfm_df['rfm_total'], 10, labels=range(1,11)) \n",
    "rfm_df\n",
    "\n"
   ]
  },
  {
   "cell_type": "code",
   "execution_count": null,
   "id": "c615c036",
   "metadata": {},
   "outputs": [
    {
     "data": {
      "image/png": "[encoded data removed]",
      "text/plain": [
       "<Figure size 1000x600 with 1 Axes>"
      ]
     },
     "metadata": {},
     "output_type": "display_data"
    }
   ],
   "source": [
    "segment_counts = rfm_df['rfm_score'].value_counts().sort_index()\n",
    "plt.figure(figsize=(10, 6))\n",
    "plt.bar(segment_counts.index.astype(str), segment_counts.values, color='skyblue', edgecolor='black')\n",
    "plt.title('Customer Segmentation Bar Chart')\n",
    "plt.xlabel('RFM Score (1 = Low Value, 10 = High Value)')\n",
    "plt.ylabel('Number of Customers')\n",
    "plt.grid(axis='y', linestyle='--', alpha=0.7)\n",
    "plt.tight_layout()\n",
    "plt.show()"
   ]
  },
  {
   "cell_type": "code",
   "execution_count": null,
   "id": "8a597d9a",
   "metadata": {},
   "outputs": [
    {
     "data": {
      "image/png": "[encoded data removed]",
      "text/plain": [
       "<Figure size 500x500 with 1 Axes>"
      ]
     },
     "metadata": {},
     "output_type": "display_data"
    }
   ],
   "source": [
    "def label_segment(x):\n",
    "    if x >= 9:\n",
    "        return 'Champions'\n",
    "    elif x >= 7:\n",
    "        return 'Loyal Customers'\n",
    "    elif x >= 5:\n",
    "        return 'Potential Loyalist'\n",
    "    elif x >= 3:\n",
    "        return 'Needs Attention'\n",
    "    else:\n",
    "        return 'At Risk'\n",
    "    \n",
    "rfm_df['Segment_Label'] = rfm_df['rfm_score'].apply(label_segment)   \n",
    "segment_counts = rfm_df['Segment_Label'].value_counts()    \n",
    "    \n",
    "    \n",
    "    \n",
    "custom_colors = [\n",
    "    '#ffc000',  # Needs Attention\n",
    "    '#66b3ff',  # Loyal Customers\n",
    "    '#ff6666',  # At Risk\n",
    "    '#9999ff',  # Potential Loyalists\n",
    "    '#99ff99',  # Champions\n",
    "]    \n",
    "\n",
    "plt.figure(figsize=(5, 5))\n",
    "plt.pie(segment_counts.values, labels=segment_counts.index, autopct='%1.1f%%', colors=custom_colors)\n",
    "plt.title(\"Customer Segmentation Pie Chart\")\n",
    "plt.tight_layout()\n",
    "plt.show()   \n",
    "    "
   ]
  },
  {
   "cell_type": "code",
   "execution_count": 76,
   "id": "8306dc83",
   "metadata": {},
   "outputs": [
    {
     "data": {
      "application/vnd.microsoft.datawrangler.viewer.v0+json": {
       "columns": [
        {
         "name": "Segment_Label",
         "rawType": "object",
         "type": "string"
        },
        {
         "name": "count",
         "rawType": "int64",
         "type": "integer"
        }
       ],
       "ref": "fc21cd85-3b48-447d-8ea1-8b53e43de974",
       "rows": [
        [
         "At Risk",
         "883"
        ],
        [
         "Champions",
         "647"
        ],
        [
         "Loyal Customers",
         "953"
        ],
        [
         "Needs Attention",
         "1178"
        ],
        [
         "Potential Loyalist",
         "677"
        ]
       ],
       "shape": {
        "columns": 1,
        "rows": 5
       }
      },
      "text/plain": [
       "Segment_Label\n",
       "At Risk                883\n",
       "Champions              647\n",
       "Loyal Customers        953\n",
       "Needs Attention       1178\n",
       "Potential Loyalist     677\n",
       "Name: count, dtype: int64"
      ]
     },
     "execution_count": 76,
     "metadata": {},
     "output_type": "execute_result"
    }
   ],
   "source": [
    "rfm_df\n",
    "segment_counts = rfm_df['Segment_Label'].value_counts().sort_index()\n",
    "segment_counts"
   ]
  },
  {
   "cell_type": "code",
   "execution_count": 90,
   "id": "96155443",
   "metadata": {},
   "outputs": [
    {
     "data": {
      "application/vnd.microsoft.datawrangler.viewer.v0+json": {
       "columns": [
        {
         "name": "Segment_Label",
         "rawType": "object",
         "type": "string"
        },
        {
         "name": "TotalSpendings",
         "rawType": "int32",
         "type": "integer"
        }
       ],
       "ref": "44f73193-493a-4764-b175-e4240319dbe0",
       "rows": [
        [
         "At Risk",
         "230"
        ],
        [
         "Champions",
         "8121"
        ],
        [
         "Loyal Customers",
         "2151"
        ],
        [
         "Needs Attention",
         "581"
        ],
        [
         "Potential Loyalist",
         "1062"
        ]
       ],
       "shape": {
        "columns": 1,
        "rows": 5
       }
      },
      "text/plain": [
       "Segment_Label\n",
       "At Risk                230\n",
       "Champions             8121\n",
       "Loyal Customers       2151\n",
       "Needs Attention        581\n",
       "Potential Loyalist    1062\n",
       "Name: TotalSpendings, dtype: int32"
      ]
     },
     "execution_count": 90,
     "metadata": {},
     "output_type": "execute_result"
    }
   ],
   "source": [
    "mean_df = rfm_df.groupby('Segment_Label')['TotalSpendings'].mean().round().astype(int)\n",
    "mean_df"
   ]
  },
  {
   "cell_type": "code",
   "execution_count": 87,
   "id": "2d97b736",
   "metadata": {},
   "outputs": [
    {
     "data": {
      "application/vnd.microsoft.datawrangler.viewer.v0+json": {
       "columns": [
        {
         "name": "Segment_Label",
         "rawType": "object",
         "type": "string"
        },
        {
         "name": "days_since_last_trans",
         "rawType": "int32",
         "type": "integer"
        }
       ],
       "ref": "a2609345-cc37-4926-85e4-f41a4af16990",
       "rows": [
        [
         "At Risk",
         "224"
        ],
        [
         "Champions",
         "9"
        ],
        [
         "Loyal Customers",
         "32"
        ],
        [
         "Needs Attention",
         "102"
        ],
        [
         "Potential Loyalist",
         "62"
        ]
       ],
       "shape": {
        "columns": 1,
        "rows": 5
       }
      },
      "text/plain": [
       "Segment_Label\n",
       "At Risk               224\n",
       "Champions               9\n",
       "Loyal Customers        32\n",
       "Needs Attention       102\n",
       "Potential Loyalist     62\n",
       "Name: days_since_last_trans, dtype: int32"
      ]
     },
     "execution_count": 87,
     "metadata": {},
     "output_type": "execute_result"
    }
   ],
   "source": [
    "recency_df = rfm_df.groupby('Segment_Label')['days_since_last_trans'].mean().round().astype(int)\n",
    "recency_df"
   ]
  },
  {
   "cell_type": "code",
   "execution_count": 91,
   "id": "d7bd50ed",
   "metadata": {},
   "outputs": [
    {
     "data": {
      "application/vnd.microsoft.datawrangler.viewer.v0+json": {
       "columns": [
        {
         "name": "Segment_Label",
         "rawType": "object",
         "type": "string"
        },
        {
         "name": "TotalCount",
         "rawType": "int32",
         "type": "integer"
        }
       ],
       "ref": "e2c3cdc4-e859-4354-a1d3-1311a4af5347",
       "rows": [
        [
         "At Risk",
         "1"
        ],
        [
         "Champions",
         "14"
        ],
        [
         "Loyal Customers",
         "5"
        ],
        [
         "Needs Attention",
         "2"
        ],
        [
         "Potential Loyalist",
         "3"
        ]
       ],
       "shape": {
        "columns": 1,
        "rows": 5
       }
      },
      "text/plain": [
       "Segment_Label\n",
       "At Risk                1\n",
       "Champions             14\n",
       "Loyal Customers        5\n",
       "Needs Attention        2\n",
       "Potential Loyalist     3\n",
       "Name: TotalCount, dtype: int32"
      ]
     },
     "execution_count": 91,
     "metadata": {},
     "output_type": "execute_result"
    }
   ],
   "source": [
    "freq_df = rfm_df.groupby('Segment_Label')['TotalCount'].mean().round().astype(int)\n",
    "freq_df"
   ]
  },
  {
   "cell_type": "code",
   "execution_count": 79,
   "id": "91c229e4",
   "metadata": {},
   "outputs": [
    {
     "data": {
      "application/vnd.microsoft.datawrangler.viewer.v0+json": {
       "columns": [
        {
         "name": "index",
         "rawType": "int64",
         "type": "integer"
        },
        {
         "name": "CustomerID",
         "rawType": "Int64",
         "type": "integer"
        },
        {
         "name": "days_since_last_trans",
         "rawType": "int64",
         "type": "integer"
        },
        {
         "name": "TotalCount",
         "rawType": "int64",
         "type": "integer"
        },
        {
         "name": "TotalSpendings",
         "rawType": "float64",
         "type": "float"
        },
        {
         "name": "R",
         "rawType": "category",
         "type": "unknown"
        },
        {
         "name": "F",
         "rawType": "category",
         "type": "unknown"
        },
        {
         "name": "M",
         "rawType": "category",
         "type": "unknown"
        },
        {
         "name": "rfm_total",
         "rawType": "int64",
         "type": "integer"
        },
        {
         "name": "rfm_score",
         "rawType": "category",
         "type": "unknown"
        },
        {
         "name": "Segment_Label",
         "rawType": "object",
         "type": "string"
        }
       ],
       "ref": "9350344e-cb57-444d-a74a-a6f74f424734",
       "rows": [
        [
         "0",
         "12346",
         "325",
         "1",
         "77183.6",
         "1",
         "1",
         "5",
         "7",
         "4",
         "Needs Attention"
        ],
        [
         "1",
         "12347",
         "1",
         "7",
         "4310.0",
         "5",
         "5",
         "5",
         "15",
         "10",
         "Champions"
        ],
        [
         "2",
         "12348",
         "74",
         "4",
         "1797.24",
         "2",
         "4",
         "4",
         "10",
         "6",
         "Potential Loyalist"
        ],
        [
         "3",
         "12349",
         "18",
         "1",
         "1757.55",
         "4",
         "1",
         "4",
         "9",
         "5",
         "Potential Loyalist"
        ],
        [
         "4",
         "12350",
         "309",
         "1",
         "334.4",
         "1",
         "1",
         "2",
         "4",
         "1",
         "At Risk"
        ],
        [
         "5",
         "12352",
         "35",
         "8",
         "2506.04",
         "3",
         "5",
         "5",
         "13",
         "8",
         "Loyal Customers"
        ],
        [
         "6",
         "12353",
         "203",
         "1",
         "89.0",
         "1",
         "1",
         "1",
         "3",
         "1",
         "At Risk"
        ],
        [
         "7",
         "12354",
         "231",
         "1",
         "1079.4",
         "1",
         "1",
         "4",
         "6",
         "3",
         "Needs Attention"
        ],
        [
         "8",
         "12355",
         "213",
         "1",
         "459.4",
         "1",
         "1",
         "2",
         "4",
         "1",
         "At Risk"
        ],
        [
         "9",
         "12356",
         "22",
         "3",
         "2811.43",
         "4",
         "3",
         "5",
         "12",
         "8",
         "Loyal Customers"
        ],
        [
         "10",
         "12357",
         "32",
         "1",
         "6207.67",
         "4",
         "1",
         "5",
         "10",
         "6",
         "Potential Loyalist"
        ],
        [
         "11",
         "12358",
         "1",
         "2",
         "1168.06",
         "5",
         "2",
         "4",
         "11",
         "7",
         "Loyal Customers"
        ],
        [
         "12",
         "12359",
         "57",
         "4",
         "6372.58",
         "3",
         "4",
         "5",
         "12",
         "8",
         "Loyal Customers"
        ],
        [
         "13",
         "12360",
         "51",
         "3",
         "2662.06",
         "3",
         "3",
         "5",
         "11",
         "7",
         "Loyal Customers"
        ],
        [
         "14",
         "12361",
         "286",
         "1",
         "189.9",
         "1",
         "1",
         "1",
         "3",
         "1",
         "At Risk"
        ],
        [
         "15",
         "12362",
         "2",
         "10",
         "5226.23",
         "5",
         "5",
         "5",
         "15",
         "10",
         "Champions"
        ],
        [
         "16",
         "12363",
         "109",
         "2",
         "552.0",
         "2",
         "2",
         "3",
         "7",
         "4",
         "Needs Attention"
        ],
        [
         "17",
         "12364",
         "7",
         "4",
         "1313.1",
         "5",
         "4",
         "4",
         "13",
         "8",
         "Loyal Customers"
        ],
        [
         "18",
         "12365",
         "290",
         "2",
         "641.38",
         "1",
         "2",
         "3",
         "6",
         "3",
         "Needs Attention"
        ],
        [
         "19",
         "12367",
         "3",
         "1",
         "168.9",
         "5",
         "1",
         "1",
         "7",
         "4",
         "Needs Attention"
        ],
        [
         "20",
         "12370",
         "50",
         "4",
         "3545.69",
         "3",
         "4",
         "5",
         "12",
         "8",
         "Loyal Customers"
        ],
        [
         "21",
         "12371",
         "44",
         "2",
         "1887.96",
         "3",
         "2",
         "4",
         "9",
         "5",
         "Potential Loyalist"
        ],
        [
         "22",
         "12372",
         "71",
         "3",
         "1298.04",
         "3",
         "3",
         "4",
         "10",
         "6",
         "Potential Loyalist"
        ],
        [
         "23",
         "12373",
         "310",
         "1",
         "364.6",
         "1",
         "1",
         "2",
         "4",
         "1",
         "At Risk"
        ],
        [
         "24",
         "12374",
         "24",
         "1",
         "742.9300000000001",
         "4",
         "1",
         "3",
         "8",
         "4",
         "Needs Attention"
        ],
        [
         "25",
         "12375",
         "10",
         "2",
         "457.5",
         "5",
         "2",
         "2",
         "9",
         "5",
         "Potential Loyalist"
        ],
        [
         "26",
         "12377",
         "314",
         "2",
         "1628.12",
         "1",
         "2",
         "4",
         "7",
         "4",
         "Needs Attention"
        ],
        [
         "27",
         "12378",
         "129",
         "1",
         "4008.62",
         "2",
         "1",
         "5",
         "8",
         "4",
         "Needs Attention"
        ],
        [
         "28",
         "12379",
         "81",
         "2",
         "852.24",
         "2",
         "2",
         "3",
         "7",
         "4",
         "Needs Attention"
        ],
        [
         "29",
         "12380",
         "21",
         "4",
         "2724.81",
         "4",
         "4",
         "5",
         "13",
         "8",
         "Loyal Customers"
        ],
        [
         "30",
         "12381",
         "4",
         "5",
         "1845.31",
         "5",
         "4",
         "4",
         "13",
         "8",
         "Loyal Customers"
        ],
        [
         "31",
         "12383",
         "184",
         "5",
         "1850.56",
         "1",
         "4",
         "4",
         "9",
         "5",
         "Potential Loyalist"
        ],
        [
         "32",
         "12384",
         "28",
         "2",
         "585.27",
         "4",
         "2",
         "3",
         "9",
         "5",
         "Potential Loyalist"
        ],
        [
         "33",
         "12386",
         "337",
         "2",
         "401.9",
         "1",
         "2",
         "2",
         "5",
         "2",
         "At Risk"
        ],
        [
         "34",
         "12388",
         "15",
         "6",
         "2780.66",
         "4",
         "4",
         "5",
         "13",
         "8",
         "Loyal Customers"
        ],
        [
         "35",
         "12390",
         "79",
         "1",
         "549.84",
         "2",
         "1",
         "3",
         "6",
         "3",
         "Needs Attention"
        ],
        [
         "36",
         "12391",
         "21",
         "1",
         "460.89",
         "4",
         "1",
         "2",
         "7",
         "4",
         "Needs Attention"
        ],
        [
         "37",
         "12393",
         "71",
         "4",
         "1582.6000000000001",
         "3",
         "4",
         "4",
         "11",
         "7",
         "Loyal Customers"
        ],
        [
         "38",
         "12394",
         "63",
         "2",
         "1272.48",
         "3",
         "2",
         "4",
         "9",
         "5",
         "Potential Loyalist"
        ],
        [
         "39",
         "12395",
         "18",
         "12",
         "3018.63",
         "4",
         "5",
         "5",
         "14",
         "9",
         "Champions"
        ],
        [
         "40",
         "12397",
         "35",
         "2",
         "2409.9",
         "3",
         "2",
         "5",
         "10",
         "6",
         "Potential Loyalist"
        ],
        [
         "41",
         "12398",
         "45",
         "1",
         "1635.6599999999999",
         "3",
         "1",
         "4",
         "8",
         "4",
         "Needs Attention"
        ],
        [
         "42",
         "12399",
         "118",
         "4",
         "1108.65",
         "2",
         "4",
         "4",
         "10",
         "6",
         "Potential Loyalist"
        ],
        [
         "43",
         "12401",
         "302",
         "1",
         "84.3",
         "1",
         "1",
         "1",
         "3",
         "1",
         "At Risk"
        ],
        [
         "44",
         "12402",
         "322",
         "1",
         "225.6",
         "1",
         "1",
         "1",
         "3",
         "1",
         "At Risk"
        ],
        [
         "45",
         "12403",
         "49",
         "1",
         "427.7",
         "3",
         "1",
         "2",
         "6",
         "3",
         "Needs Attention"
        ],
        [
         "46",
         "12405",
         "148",
         "1",
         "1710.39",
         "2",
         "1",
         "4",
         "7",
         "4",
         "Needs Attention"
        ],
        [
         "47",
         "12406",
         "21",
         "2",
         "3415.3",
         "4",
         "2",
         "5",
         "11",
         "7",
         "Loyal Customers"
        ],
        [
         "48",
         "12407",
         "49",
         "5",
         "1708.1200000000001",
         "3",
         "4",
         "4",
         "11",
         "7",
         "Loyal Customers"
        ],
        [
         "49",
         "12408",
         "32",
         "5",
         "2888.55",
         "4",
         "4",
         "5",
         "13",
         "8",
         "Loyal Customers"
        ]
       ],
       "shape": {
        "columns": 10,
        "rows": 4338
       }
      },
      "text/html": [
       "<div>\n",
       "<style scoped>\n",
       "    .dataframe tbody tr th:only-of-type {\n",
       "        vertical-align: middle;\n",
       "    }\n",
       "\n",
       "    .dataframe tbody tr th {\n",
       "        vertical-align: top;\n",
       "    }\n",
       "\n",
       "    .dataframe thead th {\n",
       "        text-align: right;\n",
       "    }\n",
       "</style>\n",
       "<table border=\"1\" class=\"dataframe\">\n",
       "  <thead>\n",
       "    <tr style=\"text-align: right;\">\n",
       "      <th></th>\n",
       "      <th>CustomerID</th>\n",
       "      <th>days_since_last_trans</th>\n",
       "      <th>TotalCount</th>\n",
       "      <th>TotalSpendings</th>\n",
       "      <th>R</th>\n",
       "      <th>F</th>\n",
       "      <th>M</th>\n",
       "      <th>rfm_total</th>\n",
       "      <th>rfm_score</th>\n",
       "      <th>Segment_Label</th>\n",
       "    </tr>\n",
       "  </thead>\n",
       "  <tbody>\n",
       "    <tr>\n",
       "      <th>0</th>\n",
       "      <td>12346</td>\n",
       "      <td>325</td>\n",
       "      <td>1</td>\n",
       "      <td>77183.60</td>\n",
       "      <td>1</td>\n",
       "      <td>1</td>\n",
       "      <td>5</td>\n",
       "      <td>7</td>\n",
       "      <td>4</td>\n",
       "      <td>Needs Attention</td>\n",
       "    </tr>\n",
       "    <tr>\n",
       "      <th>1</th>\n",
       "      <td>12347</td>\n",
       "      <td>1</td>\n",
       "      <td>7</td>\n",
       "      <td>4310.00</td>\n",
       "      <td>5</td>\n",
       "      <td>5</td>\n",
       "      <td>5</td>\n",
       "      <td>15</td>\n",
       "      <td>10</td>\n",
       "      <td>Champions</td>\n",
       "    </tr>\n",
       "    <tr>\n",
       "      <th>2</th>\n",
       "      <td>12348</td>\n",
       "      <td>74</td>\n",
       "      <td>4</td>\n",
       "      <td>1797.24</td>\n",
       "      <td>2</td>\n",
       "      <td>4</td>\n",
       "      <td>4</td>\n",
       "      <td>10</td>\n",
       "      <td>6</td>\n",
       "      <td>Potential Loyalist</td>\n",
       "    </tr>\n",
       "    <tr>\n",
       "      <th>3</th>\n",
       "      <td>12349</td>\n",
       "      <td>18</td>\n",
       "      <td>1</td>\n",
       "      <td>1757.55</td>\n",
       "      <td>4</td>\n",
       "      <td>1</td>\n",
       "      <td>4</td>\n",
       "      <td>9</td>\n",
       "      <td>5</td>\n",
       "      <td>Potential Loyalist</td>\n",
       "    </tr>\n",
       "    <tr>\n",
       "      <th>4</th>\n",
       "      <td>12350</td>\n",
       "      <td>309</td>\n",
       "      <td>1</td>\n",
       "      <td>334.40</td>\n",
       "      <td>1</td>\n",
       "      <td>1</td>\n",
       "      <td>2</td>\n",
       "      <td>4</td>\n",
       "      <td>1</td>\n",
       "      <td>At Risk</td>\n",
       "    </tr>\n",
       "    <tr>\n",
       "      <th>...</th>\n",
       "      <td>...</td>\n",
       "      <td>...</td>\n",
       "      <td>...</td>\n",
       "      <td>...</td>\n",
       "      <td>...</td>\n",
       "      <td>...</td>\n",
       "      <td>...</td>\n",
       "      <td>...</td>\n",
       "      <td>...</td>\n",
       "      <td>...</td>\n",
       "    </tr>\n",
       "    <tr>\n",
       "      <th>4333</th>\n",
       "      <td>18280</td>\n",
       "      <td>277</td>\n",
       "      <td>1</td>\n",
       "      <td>180.60</td>\n",
       "      <td>1</td>\n",
       "      <td>2</td>\n",
       "      <td>1</td>\n",
       "      <td>4</td>\n",
       "      <td>1</td>\n",
       "      <td>At Risk</td>\n",
       "    </tr>\n",
       "    <tr>\n",
       "      <th>4334</th>\n",
       "      <td>18281</td>\n",
       "      <td>180</td>\n",
       "      <td>1</td>\n",
       "      <td>80.82</td>\n",
       "      <td>1</td>\n",
       "      <td>2</td>\n",
       "      <td>1</td>\n",
       "      <td>4</td>\n",
       "      <td>1</td>\n",
       "      <td>At Risk</td>\n",
       "    </tr>\n",
       "    <tr>\n",
       "      <th>4335</th>\n",
       "      <td>18282</td>\n",
       "      <td>7</td>\n",
       "      <td>2</td>\n",
       "      <td>178.05</td>\n",
       "      <td>5</td>\n",
       "      <td>3</td>\n",
       "      <td>1</td>\n",
       "      <td>9</td>\n",
       "      <td>5</td>\n",
       "      <td>Potential Loyalist</td>\n",
       "    </tr>\n",
       "    <tr>\n",
       "      <th>4336</th>\n",
       "      <td>18283</td>\n",
       "      <td>3</td>\n",
       "      <td>16</td>\n",
       "      <td>2094.88</td>\n",
       "      <td>5</td>\n",
       "      <td>5</td>\n",
       "      <td>5</td>\n",
       "      <td>15</td>\n",
       "      <td>10</td>\n",
       "      <td>Champions</td>\n",
       "    </tr>\n",
       "    <tr>\n",
       "      <th>4337</th>\n",
       "      <td>18287</td>\n",
       "      <td>42</td>\n",
       "      <td>3</td>\n",
       "      <td>1837.28</td>\n",
       "      <td>3</td>\n",
       "      <td>4</td>\n",
       "      <td>4</td>\n",
       "      <td>11</td>\n",
       "      <td>7</td>\n",
       "      <td>Loyal Customers</td>\n",
       "    </tr>\n",
       "  </tbody>\n",
       "</table>\n",
       "<p>4338 rows × 10 columns</p>\n",
       "</div>"
      ],
      "text/plain": [
       "      CustomerID  days_since_last_trans  TotalCount  TotalSpendings  R  F  M  \\\n",
       "0          12346                    325           1        77183.60  1  1  5   \n",
       "1          12347                      1           7         4310.00  5  5  5   \n",
       "2          12348                     74           4         1797.24  2  4  4   \n",
       "3          12349                     18           1         1757.55  4  1  4   \n",
       "4          12350                    309           1          334.40  1  1  2   \n",
       "...          ...                    ...         ...             ... .. .. ..   \n",
       "4333       18280                    277           1          180.60  1  2  1   \n",
       "4334       18281                    180           1           80.82  1  2  1   \n",
       "4335       18282                      7           2          178.05  5  3  1   \n",
       "4336       18283                      3          16         2094.88  5  5  5   \n",
       "4337       18287                     42           3         1837.28  3  4  4   \n",
       "\n",
       "      rfm_total rfm_score       Segment_Label  \n",
       "0             7         4     Needs Attention  \n",
       "1            15        10           Champions  \n",
       "2            10         6  Potential Loyalist  \n",
       "3             9         5  Potential Loyalist  \n",
       "4             4         1             At Risk  \n",
       "...         ...       ...                 ...  \n",
       "4333          4         1             At Risk  \n",
       "4334          4         1             At Risk  \n",
       "4335          9         5  Potential Loyalist  \n",
       "4336         15        10           Champions  \n",
       "4337         11         7     Loyal Customers  \n",
       "\n",
       "[4338 rows x 10 columns]"
      ]
     },
     "execution_count": 79,
     "metadata": {},
     "output_type": "execute_result"
    }
   ],
   "source": [
    "rfm_df"
   ]
  }
 ],
 "metadata": {
  "kernelspec": {
   "display_name": "Python 3",
   "language": "python",
   "name": "python3"
  },
  "language_info": {
   "codemirror_mode": {
    "name": "ipython",
    "version": 3
   },
   "file_extension": ".py",
   "mimetype": "text/x-python",
   "name": "python",
   "nbconvert_exporter": "python",
   "pygments_lexer": "ipython3",
   "version": "3.12.4"
  }
 },
 "nbformat": 4,
 "nbformat_minor": 5
}
